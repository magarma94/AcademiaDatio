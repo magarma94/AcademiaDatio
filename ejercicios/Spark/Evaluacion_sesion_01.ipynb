{
 "cells": [
  {
   "cell_type": "markdown",
   "id": "fc26ebe0-9fe4-49ce-9970-c45aa5c280db",
   "metadata": {},
   "source": [
    "#### Como parte de la primera evaluación necesitamos validar que es posible levantar la sesión de spark dada tu ambientación local, resuelve las siguientes actividades."
   ]
  },
  {
   "cell_type": "markdown",
   "id": "b44da53c-7cfe-45a1-9ee5-735619cbb7ea",
   "metadata": {},
   "source": [
    "#### Actividad 1:\n",
    "##### TO DO: Ejecuta las siguientes celdas"
   ]
  },
  {
   "cell_type": "code",
   "execution_count": 1,
   "id": "71db4bec-ce2a-4b44-98d0-4fbdab40ff18",
   "metadata": {},
   "outputs": [
    {
     "data": {
      "text/plain": [
       "sc = org.apache.spark.SparkContext@4eb0ad1\n"
      ]
     },
     "metadata": {},
     "output_type": "display_data",
     "source": "user"
    },
    {
     "data": {
      "text/plain": [
       "nombreCompleto: String = Mauricio Gardu?o Maga?a - Spark\r\n",
       "spark: org.apache.spark.sql.SparkSession = org.apache.spark.sql.SparkSession@520fa7da\r\n"
      ]
     },
     "metadata": {},
     "output_type": "display_data",
     "source": "user"
    },
    {
     "data": {
      "text/plain": [
       "org.apache.spark.SparkContext@4eb0ad1"
      ]
     },
     "execution_count": 1,
     "metadata": {},
     "output_type": "execute_result"
    }
   ],
   "source": [
    "import org.apache.spark.sql.SparkSession\n",
    "\n",
    "// Coloca tu nombre completo en la variable\n",
    "val nombreCompleto = \"Mauricio Garduño Magaña - Spark\"\n",
    "\n",
    "val spark = SparkSession.builder\n",
    "    .master(\"local[*]\")\n",
    "    .appName(nombreCompleto)\n",
    "    .getOrCreate()\n",
    "\n",
    "val sc = spark.sparkContext"
   ]
  },
  {
   "cell_type": "code",
   "execution_count": 2,
   "id": "a8612489-baab-4639-935a-245ef71c921c",
   "metadata": {},
   "outputs": [
    {
     "data": {
      "text/plain": [
       "Some(http://23LAP5CD20860NP.indra.es:4040)"
      ]
     },
     "execution_count": 2,
     "metadata": {},
     "output_type": "execute_result"
    }
   ],
   "source": [
    "// 1- Toma una captura del \"Spark UI\"\n",
    "// 2- Almacena la imagen en la carpeta \"../../resources/img/\" con el nombre \"Sesion01.jpg\"\n",
    "sc.uiWebUrl"
   ]
  },
  {
   "cell_type": "markdown",
   "id": "d7412075-8523-48a7-92ff-a35917a85885",
   "metadata": {},
   "source": [
    "// Ejecuta la siguiente celda que contiene \"![title](../../resources/img/Session01_Spark.jpg)\": \n",
    "// Guarda el notebook y sube los cambios a git"
   ]
  },
  {
   "cell_type": "markdown",
   "id": "52ffc09d-3e18-4206-9cf6-42e6777764a4",
   "metadata": {},
   "source": [
    "![title](../../resources/img/Sesion01.jpg)"
   ]
  },
  {
   "cell_type": "code",
   "execution_count": null,
   "id": "01f11655-7ae2-4d33-af8c-c2068a356e74",
   "metadata": {},
   "outputs": [],
   "source": []
  }
 ],
 "metadata": {
  "kernelspec": {
   "display_name": "Apache Toree - Scala",
   "language": "scala",
   "name": "apache_toree_scala"
  },
  "language_info": {
   "codemirror_mode": "text/x-scala",
   "file_extension": ".scala",
   "mimetype": "text/x-scala",
   "name": "scala",
   "pygments_lexer": "scala",
   "version": "2.12.15"
  }
 },
 "nbformat": 4,
 "nbformat_minor": 5
}
