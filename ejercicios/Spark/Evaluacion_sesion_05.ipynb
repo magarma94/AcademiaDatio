{
 "cells": [
  {
   "cell_type": "markdown",
   "id": "91649b48-2200-4cf7-bf6e-426d7467fe45",
   "metadata": {},
   "source": [
    "#### El área de QA comentó que la estructura de las tablas cargadas en formato parquet no cumplen las normas de calidad requeridas. Por lo tanto hay que renombrar y/o castear las columnas indicadas. \n",
    "\n",
    "##### Nota: Para poder trabajar con este notebook es necesario haber terminado el ejercicio de la sesión 04"
   ]
  },
  {
   "cell_type": "code",
   "execution_count": 1,
   "id": "d659a59d-ace4-46a3-bee4-48021222361d",
   "metadata": {},
   "outputs": [
    {
     "data": {
      "text/plain": [
       "readTmpDf: (dfSeq: Seq[String])Map[String,org.apache.spark.sql.DataFrame]\r\n",
       "writeTmpDf: (dfSeq: Seq[(org.apache.spark.sql.DataFrame, String)])Unit\r\n",
       "schema_to_ddl: (df: org.apache.spark.sql.DataFrame)String\n"
      ]
     },
     "metadata": {},
     "output_type": "display_data",
     "source": "user"
    }
   ],
   "source": [
    "// NO MODIFICAR CONTENIDO DE ESTA CELDA\n",
    "import org.apache.spark.sql.DataFrame\n",
    "\n",
    "def readTmpDf(dfSeq: Seq[String]): Map[String, DataFrame] =\n",
    "    dfSeq.map(table_name => (table_name, spark.read.parquet(\"../../resources/data/tmp/parquet/\" + table_name))).toMap\n",
    "\n",
    "def writeTmpDf(dfSeq: Seq[(DataFrame, String)]): Unit = \n",
    "    dfSeq.foreach{case (df: DataFrame, name: String) => df.write.mode(\"overwrite\").parquet(\"../../resources/data/tmp/parquet/\" + name)}\n",
    "\n",
    "def schema_to_ddl(df: DataFrame): String = df.schema.toDDL.replace(\" NOT NULL\", \"\")"
   ]
  },
  {
   "cell_type": "code",
   "execution_count": 2,
   "id": "b2c5c6ac-4fe0-4b7f-9d9a-3a10d039d10a",
   "metadata": {},
   "outputs": [
    {
     "name": "stdout",
     "output_type": "stream",
     "text": [
      "+-------+----------------+-------------------------------------------+\n",
      "|movieId|title           |genres                                     |\n",
      "+-------+----------------+-------------------------------------------+\n",
      "|1      |Toy Story (1995)|Adventure|Animation|Children|Comedy|Fantasy|\n",
      "+-------+----------------+-------------------------------------------+\n",
      "only showing top 1 row\n",
      "\n",
      "+------+-------+------+----------+\n",
      "|userId|movieId|rating| timestamp|\n",
      "+------+-------+------+----------+\n",
      "|     1|      1|   4.0|1225734739|\n",
      "+------+-------+------+----------+\n",
      "only showing top 1 row\n",
      "\n",
      "+------+-------+------+----------+\n",
      "|userId|movieId|   tag| timestamp|\n",
      "+------+-------+------+----------+\n",
      "|224183|    832|acting|1496668827|\n",
      "+------+-------+------+----------+\n",
      "only showing top 1 row\n",
      "\n"
     ]
    },
    {
     "data": {
      "text/plain": [
       "tagsDf = [userId: string, movieId: ...\n"
      ]
     },
     "metadata": {},
     "output_type": "display_data",
     "source": "user"
    },
    {
     "data": {
      "text/plain": [
       "import org.apache.spark.sql.{functions=>f}\r\n",
       "spark: org.apache.spark.sql.SparkSession = org.apache.spark.sql.SparkSession@2b778588\r\n",
       "rootPath: String = ../resources/data/tmp/parquet/\r\n",
       "namesList: Seq[String] = List(04/movies, 04/ratings, 04/tags)\r\n",
       "dfMap: Map[String,org.apache.spark.sql.DataFrame] = Map(04/movies -> [movieId: string, title: string ... 1 more field], 04/ratings -> [userId: string, movieId: string ... 2 more fields], 04/tags -> [userId: string, movieId: string ... 2 more fields])\r\n",
       "moviesDf: org.apache.spark.sql.DataFrame = [movieId: string, title: string ... 1 more field]\r\n",
       "ratingsDf: org.apache.spark.sql.DataFrame = [userId: string, movieId: string ... 2 more fields]\r\n"
      ]
     },
     "metadata": {},
     "output_type": "display_data",
     "source": "user"
    },
    {
     "data": {
      "text/plain": [
       "[userId: string, movieId: ..."
      ]
     },
     "execution_count": 2,
     "metadata": {},
     "output_type": "execute_result"
    }
   ],
   "source": [
    "// NO MODIFICAR CONTENIDO DE ESTA CELDA\n",
    "import org.apache.spark.sql.SparkSession\n",
    "import org.apache.spark.sql.{functions => f}\n",
    "\n",
    "// Creación de sesión de Spark\n",
    "val spark = SparkSession.builder\n",
    "    .master(\"local[*]\")\n",
    "    .appName(\"ejercicio_5\")\n",
    "    .getOrCreate()\n",
    "\n",
    "// Carga de tablas requeridas\n",
    "val rootPath = \"../resources/data/tmp/parquet/\"\n",
    "val namesList = Seq(\"04/movies\", \"04/ratings\", \"04/tags\")\n",
    "val dfMap = readTmpDf(namesList)\n",
    "\n",
    "val moviesDf = dfMap(\"04/movies\")\n",
    "val ratingsDf = dfMap(\"04/ratings\")\n",
    "val tagsDf = dfMap(\"04/tags\")\n",
    "\n",
    "moviesDf.show(1, false)\n",
    "ratingsDf.show(1)\n",
    "tagsDf.show(1)"
   ]
  },
  {
   "cell_type": "markdown",
   "id": "566c7529-e81d-4bc4-b1b4-abfe69e4b6a5",
   "metadata": {},
   "source": [
    "#### Actividad 1:\n",
    "##### TO DO ->    Para el dataframe \"movies_df\":\n",
    "- ##### Convierte la columna \"genres\" en un array, donde cada genero corresponde a una posición del array generado. Como resultado el esquema para la columna \"genres\" será un ArrayType(StringType). \n",
    "    - Apoyate de la función split de Spark -> https://spark.apache.org/docs/latest/api/python/reference/pyspark.sql/api/pyspark.sql.functions.split.html#pyspark.sql.functions.split\n",
    "- ##### Renombra la columna \"movieId\" por \"movie_id\""
   ]
  },
  {
   "cell_type": "code",
   "execution_count": 7,
   "id": "125e5d81-6c6a-4e23-ad26-2da273a001e2",
   "metadata": {},
   "outputs": [
    {
     "data": {
      "text/plain": [
       "castedMoviesDf = [movie_id: string, title: string ... 1 more field]\n"
      ]
     },
     "metadata": {},
     "output_type": "display_data",
     "source": "user"
    },
    {
     "data": {
      "text/plain": [
       "import org.apache.spark.sql.{functions=>f}\r\n"
      ]
     },
     "metadata": {},
     "output_type": "display_data",
     "source": "user"
    },
    {
     "data": {
      "text/plain": [
       "[movie_id: string, title: string ... 1 more field]"
      ]
     },
     "execution_count": 7,
     "metadata": {},
     "output_type": "execute_result"
    }
   ],
   "source": [
    "// TU CODIGO VA EN ESTA CELDA:\n",
    "import org.apache.spark.sql.{functions => f}\n",
    "// Colocar transformaciones a moviesDf\n",
    "val castedMoviesDf = moviesDf\n",
    "    .withColumn(\"genres\", f.split(f.col(\"genres\"), \"[|]\"))\n",
    "    .withColumnRenamed(\"movieId\",\"movie_id\")"
   ]
  },
  {
   "cell_type": "code",
   "execution_count": 8,
   "id": "6671874e-8246-4617-80a9-1bae7d78a259",
   "metadata": {},
   "outputs": [
    {
     "name": "stdout",
     "output_type": "stream",
     "text": [
      "root\n",
      " |-- movie_id: string (nullable = true)\n",
      " |-- title: string (nullable = true)\n",
      " |-- genres: array (nullable = true)\n",
      " |    |-- element: string (containsNull = false)\n",
      "\n"
     ]
    }
   ],
   "source": [
    "castedMoviesDf.printSchema()"
   ]
  },
  {
   "cell_type": "code",
   "execution_count": 12,
   "id": "84d93c06-c004-491e-aa88-5dd31bd57426",
   "metadata": {},
   "outputs": [
    {
     "name": "stdout",
     "output_type": "stream",
     "text": [
      "+--------+----------------+-------------------------------------------------+\n",
      "|movie_id|title           |genres                                           |\n",
      "+--------+----------------+-------------------------------------------------+\n",
      "|1       |Toy Story (1995)|[Adventure, Animation, Children, Comedy, Fantasy]|\n",
      "+--------+----------------+-------------------------------------------------+\n",
      "only showing top 1 row\n",
      "\n"
     ]
    }
   ],
   "source": [
    "// NO MODIFICAR EL CONTENIDO DE ESTA CELDA\n",
    "castedMoviesDf.show(1, false)\n",
    "/*\"\"\"\n",
    "Ejemplo de salida esperada:\n",
    "+--------+----------------+-------------------------------------------------+\n",
    "|movie_id|title           |genres                                           |\n",
    "+--------+----------------+-------------------------------------------------+\n",
    "|1       |Toy Story (1995)|[Adventure, Animation, Children, Comedy, Fantasy]|\n",
    "+--------+----------------+-------------------------------------------------+\n",
    "only showing top 1 row\n",
    "\"\"\"*/"
   ]
  },
  {
   "cell_type": "code",
   "execution_count": 13,
   "id": "6a0e22f7-2993-4752-86e1-7cfcd9c62368",
   "metadata": {},
   "outputs": [],
   "source": [
    "// NO MODIFICAR EL CONTENIDO DE ESTA CELDA\n",
    "assert(castedMoviesDf.columns.toSeq.contains(\"movie_id\"))\n",
    "assert(castedMoviesDf.columns.toSeq.contains(\"title\"))\n",
    "assert(castedMoviesDf.columns.toSeq.contains(\"genres\"))\n",
    "assert(castedMoviesDf.columns.size == 3)\n",
    "assert(schema_to_ddl(castedMoviesDf.select(\"movie_id\", \"title\", \"genres\")) == \"movie_id STRING,title STRING,genres ARRAY<STRING>\")"
   ]
  },
  {
   "cell_type": "markdown",
   "id": "d5b63ef2-8775-4be7-bf2f-d1917cf74134",
   "metadata": {},
   "source": [
    "#### Actividad 2:\n",
    "##### TO DO ->    Para el dataframe \"ratings_df\":\n",
    "- ##### Renombra la columna \"movieId\" por \"movie_id\"\n",
    "- ##### Renombra la columna \"userId\" por \"user_id\"\n",
    "- ##### Castea la columna \"rating\" a formato double.\n",
    "- ##### Convierte la columna \"timestamp\" a formato TimeStampType con formato logico yyyy-MM-dd HH:mm:ss, la nueva columna generada será \"time\".\n",
    "    - Utiliza la función: timestamp_seconds -> https://spark.apache.org/docs/latest/api/python/reference/pyspark.sql/api/pyspark.sql.functions.timestamp_seconds.html#pyspark.sql.functions.timestamp_seconds\n",
    "- ##### Elimina la columna \"timestamp\""
   ]
  },
  {
   "cell_type": "code",
   "execution_count": 25,
   "id": "ec962a59-7015-47bf-beeb-9801e16b9930",
   "metadata": {},
   "outputs": [
    {
     "data": {
      "text/plain": [
       "castedRatingsDf = [user_id: string, movie_id: string ... 2 more fields]\n"
      ]
     },
     "metadata": {},
     "output_type": "display_data",
     "source": "user"
    },
    {
     "data": {
      "text/plain": [
       "import org.apache.spark.sql.{types=>t}\r\n"
      ]
     },
     "metadata": {},
     "output_type": "display_data",
     "source": "user"
    },
    {
     "data": {
      "text/plain": [
       "[user_id: string, movie_id: string ... 2 more fields]"
      ]
     },
     "execution_count": 25,
     "metadata": {},
     "output_type": "execute_result"
    }
   ],
   "source": [
    "// TU CODIGO VA EN ESTA CELDA:\n",
    "import org.apache.spark.sql.{types => t}\n",
    "// Colocar transformaciones a ratingsDf\n",
    "val castedRatingsDf = ratingsDf\n",
    "    .withColumnRenamed(\"movieId\",\"movie_id\")\n",
    "    .withColumnRenamed(\"userId\",\"user_id\")\n",
    "    .withColumn(\"rating\",f.col(\"rating\").cast(t.DoubleType))\n",
    "    .withColumn(\"time\", f.timestamp_seconds(f.col(\"timestamp\").cast(t.IntegerType)))\n",
    "    .drop(\"timestamp\")"
   ]
  },
  {
   "cell_type": "code",
   "execution_count": 26,
   "id": "c36b3483-4646-43da-a5ce-bfd066092d35",
   "metadata": {},
   "outputs": [
    {
     "name": "stdout",
     "output_type": "stream",
     "text": [
      "root\n",
      " |-- user_id: string (nullable = true)\n",
      " |-- movie_id: string (nullable = true)\n",
      " |-- rating: double (nullable = true)\n",
      " |-- time: timestamp (nullable = true)\n",
      "\n"
     ]
    }
   ],
   "source": [
    "// Celda de prueba:\n",
    "castedRatingsDf.printSchema()"
   ]
  },
  {
   "cell_type": "code",
   "execution_count": 27,
   "id": "e59c0bd7-6c2f-4e87-8cfa-a890730346bc",
   "metadata": {},
   "outputs": [
    {
     "name": "stdout",
     "output_type": "stream",
     "text": [
      "+-------+--------+------+-------------------+\n",
      "|user_id|movie_id|rating|time               |\n",
      "+-------+--------+------+-------------------+\n",
      "|1      |1       |4.0   |2008-11-03 11:52:19|\n",
      "+-------+--------+------+-------------------+\n",
      "only showing top 1 row\n",
      "\n"
     ]
    }
   ],
   "source": [
    "// NO MODIFICAR EL CONTENIDO DE ESTA CELDA\n",
    "castedRatingsDf.show(1, false)\n",
    "/*\"\"\"\n",
    "Ejemplo de salida esperada:\n",
    "+-------+--------+------+-------------------+\n",
    "|user_id|movie_id|rating|time               |\n",
    "+-------+--------+------+-------------------+\n",
    "|1      |1       |4.0   |2008-11-03 11:52:19|\n",
    "+-------+--------+------+-------------------+\n",
    "only showing top 1 row\n",
    "\"\"\"*/"
   ]
  },
  {
   "cell_type": "code",
   "execution_count": 28,
   "id": "c81e64b1-251a-4bfb-9c15-480c0cd921a9",
   "metadata": {},
   "outputs": [],
   "source": [
    "// NO MODIFICAR EL CONTENIDO DE ESTA CELDA\n",
    "assert(castedRatingsDf.columns.toSeq.contains(\"user_id\"))\n",
    "assert(castedRatingsDf.columns.toSeq.contains(\"movie_id\"))\n",
    "assert(castedRatingsDf.columns.toSeq.contains(\"rating\"))\n",
    "assert(castedRatingsDf.columns.toSeq.contains(\"time\"))\n",
    "assert(castedRatingsDf.columns.size == 4)\n",
    "assert(schema_to_ddl(castedRatingsDf.select(\"user_id\", \"movie_id\", \"rating\", \"time\")) == \"user_id STRING,movie_id STRING,rating DOUBLE,time TIMESTAMP\")"
   ]
  },
  {
   "cell_type": "markdown",
   "id": "7e7efd40-ef6d-4f29-ad8e-1987cf1355ae",
   "metadata": {},
   "source": [
    "#### Actividad 3:\n",
    "##### TO DO ->    Para el dataframe \"tags_df\":\n",
    "- ##### Renombra la columna \"movieId\" por \"movie_id\"\n",
    "- ##### Renombra la columna \"userId\" por \"user_id\"\n",
    "- ##### Convierte la columna \"timestamp\" a formato TimeStampType con formato logico yyyy-MM-dd HH:mm:ss, la nueva columna generada será \"time\". \n",
    "    - Utiliza la función: from_unixtime -> https://spark.apache.org/docs/latest/api/python/reference/pyspark.sql/api/pyspark.sql.functions.from_unixtime.html#pyspark.sql.functions.from_unixtime\n",
    "- ##### Elimina la columna \"timestamp\""
   ]
  },
  {
   "cell_type": "code",
   "execution_count": 34,
   "id": "4f4f725e-bfcb-4ac9-b7f3-bf6ad18bb4bb",
   "metadata": {},
   "outputs": [
    {
     "data": {
      "text/plain": [
       "castedTagsDf = [user_id: string, movie_id: string ... 2 more fields]\n"
      ]
     },
     "metadata": {},
     "output_type": "display_data",
     "source": "user"
    },
    {
     "data": {
      "text/plain": [
       "[user_id: string, movie_id: string ... 2 more fields]"
      ]
     },
     "execution_count": 34,
     "metadata": {},
     "output_type": "execute_result"
    }
   ],
   "source": [
    "// TU CODIGO VA EN ESTA CELDA:\n",
    "// Colocar transformaciones a tagsDf\n",
    "val castedTagsDf = tagsDf\n",
    "    .withColumnRenamed(\"movieId\",\"movie_id\")\n",
    "    .withColumnRenamed(\"userId\",\"user_id\")\n",
    "    .withColumn(\"time\", f.from_unixtime(f.col(\"timestamp\"), \"yyyy-MM-dd HH:mm:ss\").cast(t.TimestampType))\n",
    "    .drop(\"timestamp\")"
   ]
  },
  {
   "cell_type": "code",
   "execution_count": 35,
   "id": "076aa7cb-fe23-45b3-b830-c3ac988319f8",
   "metadata": {},
   "outputs": [
    {
     "name": "stdout",
     "output_type": "stream",
     "text": [
      "root\n",
      " |-- user_id: string (nullable = true)\n",
      " |-- movie_id: string (nullable = true)\n",
      " |-- tag: string (nullable = true)\n",
      " |-- time: timestamp (nullable = true)\n",
      "\n"
     ]
    }
   ],
   "source": [
    "//Celda de prueba:\n",
    "castedTagsDf.printSchema()"
   ]
  },
  {
   "cell_type": "code",
   "execution_count": 36,
   "id": "35c35718-09c8-4675-94d5-6d6578ad6a62",
   "metadata": {},
   "outputs": [
    {
     "name": "stdout",
     "output_type": "stream",
     "text": [
      "+-------+--------+------+-------------------+\n",
      "|user_id|movie_id|   tag|               time|\n",
      "+-------+--------+------+-------------------+\n",
      "| 224183|     832|acting|2017-06-05 08:20:27|\n",
      "+-------+--------+------+-------------------+\n",
      "only showing top 1 row\n",
      "\n"
     ]
    }
   ],
   "source": [
    "// NO MODIFICAR EL CONTENIDO DE ESTA CELDA\n",
    "castedTagsDf.show(1)\n",
    "/*\"\"\"\n",
    "Ejemplo de salida esperada:\n",
    "+-------+--------+------+-------------------+\n",
    "|user_id|movie_id|   tag|               time|\n",
    "+-------+--------+------+-------------------+\n",
    "| 224183|     832|acting|2017-06-05 07:20:27|\n",
    "+-------+--------+------+-------------------+\n",
    "only showing top 1 row\n",
    "\"\"\"*/"
   ]
  },
  {
   "cell_type": "code",
   "execution_count": 37,
   "id": "c9ac0cb1-044e-407e-b437-1e6cf4b56550",
   "metadata": {},
   "outputs": [],
   "source": [
    "// NO MODIFICAR EL CONTENIDO DE ESTA CELDA\n",
    "assert(castedTagsDf.columns.toSeq.contains(\"user_id\"))\n",
    "assert(castedTagsDf.columns.toSeq.contains(\"movie_id\"))\n",
    "assert(castedTagsDf.columns.toSeq.contains(\"tag\"))\n",
    "assert(castedTagsDf.columns.toSeq.contains(\"time\"))\n",
    "assert(castedTagsDf.columns.size == 4)\n",
    "assert(schema_to_ddl(castedTagsDf.select(\"user_id\", \"movie_id\", \"tag\", \"time\")) == \"user_id STRING,movie_id STRING,tag STRING,time TIMESTAMP\")"
   ]
  },
  {
   "cell_type": "code",
   "execution_count": 38,
   "id": "d580bddc-6eed-4a0f-9289-edbd73370e8f",
   "metadata": {},
   "outputs": [
    {
     "data": {
      "text/plain": [
       "dfs = List(([movie_id: string, title: string ... 1 more field],05/movies), ([user_id: string, movie_id: string ... 2 more fields],05/tags), ([user_id: string, movie_id: string ... 2 more fields],05/ratings))\n"
      ]
     },
     "metadata": {},
     "output_type": "display_data",
     "source": "user"
    },
    {
     "data": {
      "text/plain": [
       "List(([movie_id: string, title: string ... 1 more field],05/movies), ([user_id: string, movie_id: string ... 2 more fields],05/tags), ([user_id: string, movie_id: string ... 2 more fields],05/ratings))"
      ]
     },
     "execution_count": 38,
     "metadata": {},
     "output_type": "execute_result"
    }
   ],
   "source": [
    "// NO MODIFICAR EL CONTENIDO DE ESTA CELDA\n",
    "val dfs = Seq((castedMoviesDf, \"05/movies\"),\n",
    "              (castedTagsDf, \"05/tags\"),\n",
    "              (castedRatingsDf, \"05/ratings\"))\n",
    "\n",
    "writeTmpDf(dfs)"
   ]
  },
  {
   "cell_type": "code",
   "execution_count": null,
   "id": "ba5068fd-8d27-48ec-b359-76f8939a18a7",
   "metadata": {},
   "outputs": [],
   "source": []
  }
 ],
 "metadata": {
  "kernelspec": {
   "display_name": "Apache Toree - Scala",
   "language": "scala",
   "name": "apache_toree_scala"
  },
  "language_info": {
   "codemirror_mode": "text/x-scala",
   "file_extension": ".scala",
   "mimetype": "text/x-scala",
   "name": "scala",
   "pygments_lexer": "scala",
   "version": "2.12.15"
  }
 },
 "nbformat": 4,
 "nbformat_minor": 5
}
