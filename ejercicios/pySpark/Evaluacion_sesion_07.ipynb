{
 "cells": [
  {
   "cell_type": "markdown",
   "id": "38577af2-d648-4b03-82b5-f44adadae9b0",
   "metadata": {},
   "source": [
    "#### El cliente nos ha solicitado realizar algunos métodos que resuelvan consultas específicas sobre las tablas movies_df, ratings_df y tags_df. Lee cuidadosamente cada consulta y desarrolla el método correspondiente dada la firma del método requerida.\n",
    "\n",
    "##### Nota: Para poder trabajar con este notebook es necesario haber terminado el ejercicio de la sesión 06"
   ]
  },
  {
   "cell_type": "code",
   "execution_count": 1,
   "id": "59c5e3c8-5689-4c7c-83d3-ec7b70d0e1ab",
   "metadata": {},
   "outputs": [
    {
     "data": {
      "text/html": [
       "<style>pre { white-space: pre !important; }</style>"
      ],
      "text/plain": [
       "<IPython.core.display.HTML object>"
      ]
     },
     "metadata": {},
     "output_type": "display_data"
    }
   ],
   "source": [
    "# NO MODIFICAR EL CONTENIDO DE ESTA CELDA\n",
    "%run utils.py"
   ]
  },
  {
   "cell_type": "code",
   "execution_count": 2,
   "id": "46f34787-67c5-4d2b-a592-4f29e250e95a",
   "metadata": {},
   "outputs": [
    {
     "name": "stdout",
     "output_type": "stream",
     "text": [
      "+--------+----------------+-------------------------------------------------+----+\n",
      "|movie_id|title           |genres                                           |year|\n",
      "+--------+----------------+-------------------------------------------------+----+\n",
      "|1       |Toy Story (1995)|[Adventure, Animation, Children, Comedy, Fantasy]|1995|\n",
      "+--------+----------------+-------------------------------------------------+----+\n",
      "only showing top 1 row\n",
      "\n",
      "+-------+--------+------+-------------------+\n",
      "|user_id|movie_id|rating|               time|\n",
      "+-------+--------+------+-------------------+\n",
      "|      1|       1|   4.0|2008-11-03 11:52:19|\n",
      "+-------+--------+------+-------------------+\n",
      "only showing top 1 row\n",
      "\n",
      "+-------+--------+------+-------------------+\n",
      "|user_id|movie_id|   tag|               time|\n",
      "+-------+--------+------+-------------------+\n",
      "| 224183|     832|acting|2017-06-05 07:20:27|\n",
      "+-------+--------+------+-------------------+\n",
      "only showing top 1 row\n",
      "\n"
     ]
    }
   ],
   "source": [
    "# NO MODIFICAR EL CONTENIDO DE ESTA CELDA\n",
    "from pyspark.sql import SparkSession, DataFrame\n",
    "import pyspark.sql.functions as f\n",
    "import pyspark.sql.types as t\n",
    "\n",
    "# Creación de sesión de Spark\n",
    "spark = SparkSession.builder \\\n",
    "    .master(\"local[*]\") \\\n",
    "    .appName(\"ejercicio_7\") \\\n",
    "    .getOrCreate()\n",
    "\n",
    "spark.conf.set(\"spark.sql.session.timeZone\", \"GMT-6\")\n",
    "\n",
    "# Carga de tablas requeridas\n",
    "root_path = \"../resources/data/tmp/parquet/\"\n",
    "names_list = [\"06/movies\", \"06/ratings\", \"06/tags\"]\n",
    "df_dict = read_tmp_df(spark, names_list)\n",
    "\n",
    "movies_df = df_dict[\"06/movies\"]\n",
    "ratings_df = df_dict[\"06/ratings\"]\n",
    "tags_df = df_dict[\"06/tags\"]\n",
    "\n",
    "movies_df.show(1, False)\n",
    "ratings_df.show(1)\n",
    "tags_df.show(1)"
   ]
  },
  {
   "cell_type": "markdown",
   "id": "880c8e25-807a-4e35-b763-57dcab283721",
   "metadata": {},
   "source": [
    "#### Actividad 1:\n",
    "##### TO DO ->    Para el dataframe \"movies_df\":\n",
    "- ##### Genera un método llamado get_all_genres que retorne un DataFrame con únicamente una columna conteniendo todos los valores distintos (sin repetir) de la columna \"genres\"\n",
    "    - ##### Firma: def get_all_genres(df: DataFrame) -> DataFrame\n",
    "    - Apoyate de la funcion explode -> https://spark.apache.org/docs/latest/api/python/reference/pyspark.sql/api/pyspark.sql.functions.explode.html#pyspark.sql.functions.explode\n",
    "\n",
    "- ##### Genera un método llamado get_min_year que retorne un valor de tipo int que contenga el menor año registrado (omitiendo nulls)\n",
    "    - ##### Firma: def get_min_year(df: DataFrame) -> int\n",
    "    - ##### Necesitarás llamar alguna de las siguientes acciones: take, first, head.\n",
    "\n",
    "- ##### Genera un método llamado get_max_year que retorne un valor de tipo int que contenga el mayor año registrado (omitiendo nulls)\n",
    "    - ##### Firma: def get_max_year(df: DataFrame) -> int\n",
    "    - ##### Necesitarás llamar alguna de las siguientes acciones: take, first, head.\n",
    "\n",
    "##### NO UTILIZAR withColumn NI withColumnRenamed"
   ]
  },
  {
   "cell_type": "code",
   "execution_count": 3,
   "id": "14e74c92-a5f7-42d2-97d4-1208e9b21c4b",
   "metadata": {},
   "outputs": [
    {
     "name": "stdout",
     "output_type": "stream",
     "text": [
      "+--------+----------------+-------------------------------------------------+----+\n",
      "|movie_id|title           |genres                                           |year|\n",
      "+--------+----------------+-------------------------------------------------+----+\n",
      "|1       |Toy Story (1995)|[Adventure, Animation, Children, Comedy, Fantasy]|1995|\n",
      "+--------+----------------+-------------------------------------------------+----+\n",
      "only showing top 1 row\n",
      "\n"
     ]
    }
   ],
   "source": [
    "# TABLA del Data Frame movies_df:\n",
    "movies_df.show(1, False)"
   ]
  },
  {
   "cell_type": "code",
   "execution_count": 4,
   "id": "8ef84506-2869-4e5d-9d5e-3104a30f29f6",
   "metadata": {},
   "outputs": [],
   "source": [
    "## TU CODIGO VA EN ESTA CELDA:\n",
    "# modificar codigo interno\n",
    "#def get_all_genres(df: DataFrame) -> DataFrame:\n",
    "    #return df\n",
    "def get_all_genres(df):\n",
    "    gag_df = df\\\n",
    "        .select(\n",
    "            f.explode(f.col(\"genres\")).alias(\"list_of_genres\")\n",
    "        )\\\n",
    "        .distinct()\n",
    "    return gag_df\n",
    "    \n",
    "#def get_min_year(df: DataFrame) -> int:\n",
    "def get_min_year(df):\n",
    "    gminy_df = df.groupBy(f.col(\"year\"))\\\n",
    "    .agg(\n",
    "        f.count(\"*\").alias(\"count\")\n",
    "    )\\\n",
    "    .orderBy(f.col(\"year\").asc(), f.col(\"count\").asc())\\\n",
    "    .filter(f.col(\"year\").isNotNull())\n",
    "    return gminy_df.select(\"year\").first()[0] # modificar codigo interno\n",
    "    \n",
    "#def get_max_year(df: DataFrame) -> int:\n",
    "def get_max_year(df):\n",
    "    gmaxy_df = df.groupBy(f.col(\"year\"))\\\n",
    "    .agg(\n",
    "        f.count(\"*\").alias(\"count\")\n",
    "    )\\\n",
    "    .orderBy(f.col(\"year\").desc(), f.col(\"count\").desc())\\\n",
    "    .filter(f.col(\"year\").isNotNull())\n",
    "    return gmaxy_df.select(\"year\").first()[0] # modificar codigo interno"
   ]
  },
  {
   "cell_type": "code",
   "execution_count": 5,
   "id": "75434768-d99a-4ea7-b50c-c984fe515280",
   "metadata": {},
   "outputs": [
    {
     "data": {
      "text/plain": [
       "'\\ngag_df = movies_df        .select(\\n            f.explode(f.col(\"genres\")).alias(\"list_of_genres\")\\n        )        .distinct()\\n'"
      ]
     },
     "execution_count": 5,
     "metadata": {},
     "output_type": "execute_result"
    }
   ],
   "source": [
    "# Elaboración de método:\n",
    "\"\"\"\n",
    "gag_df = movies_df\\\n",
    "        .select(\n",
    "            f.explode(f.col(\"genres\")).alias(\"list_of_genres\")\n",
    "        )\\\n",
    "        .distinct()\n",
    "\"\"\""
   ]
  },
  {
   "cell_type": "code",
   "execution_count": 6,
   "id": "164428e9-238c-45e1-be9b-3901cb8fd64b",
   "metadata": {},
   "outputs": [
    {
     "data": {
      "text/plain": [
       "'\\ngminy_df = movies_df.groupBy(f.col(\"year\"))    .agg(\\n        f.count(\"*\").alias(\"count\")\\n    )    .orderBy(f.col(\"year\").asc(), f.col(\"count\").asc())    .filter(f.col(\"year\").isNotNull())\\ngminy_df.show()\\ngminy_df.select(\"year\").first()[0]\\n'"
      ]
     },
     "execution_count": 6,
     "metadata": {},
     "output_type": "execute_result"
    }
   ],
   "source": [
    "# Elaboración de método:\n",
    "\"\"\"\n",
    "gminy_df = movies_df.groupBy(f.col(\"year\"))\\\n",
    "    .agg(\n",
    "        f.count(\"*\").alias(\"count\")\n",
    "    )\\\n",
    "    .orderBy(f.col(\"year\").asc(), f.col(\"count\").asc())\\\n",
    "    .filter(f.col(\"year\").isNotNull())\n",
    "gminy_df.show()\n",
    "gminy_df.select(\"year\").first()[0]\n",
    "\"\"\""
   ]
  },
  {
   "cell_type": "code",
   "execution_count": 7,
   "id": "d4c59281-a15a-4b6f-816d-b584754d9400",
   "metadata": {},
   "outputs": [
    {
     "data": {
      "text/plain": [
       "'\\ngmaxy_df = movies_df.groupBy(f.col(\"year\"))    .agg(\\n        f.count(\"*\").alias(\"count\")\\n    )    .orderBy(f.col(\"year\").desc(), f.col(\"count\").desc())    .filter(f.col(\"year\").isNotNull())\\ngmaxy_df.show()\\ngmaxy_df.select(\"year\").first()[0]\\n'"
      ]
     },
     "execution_count": 7,
     "metadata": {},
     "output_type": "execute_result"
    }
   ],
   "source": [
    "# Elaboración de método:\n",
    "\"\"\"\n",
    "gmaxy_df = movies_df.groupBy(f.col(\"year\"))\\\n",
    "    .agg(\n",
    "        f.count(\"*\").alias(\"count\")\n",
    "    )\\\n",
    "    .orderBy(f.col(\"year\").desc(), f.col(\"count\").desc())\\\n",
    "    .filter(f.col(\"year\").isNotNull())\n",
    "gmaxy_df.show()\n",
    "gmaxy_df.select(\"year\").first()[0]\n",
    "\"\"\""
   ]
  },
  {
   "cell_type": "code",
   "execution_count": 8,
   "id": "6d1915ec-7851-413a-8279-adb84ae2ef17",
   "metadata": {},
   "outputs": [
    {
     "data": {
      "text/plain": [
       "'\\nprint(\"\\tPrueba de método 1:\\n\")\\nget_all_genres(movies_df).show(20, False)\\nprint(\"\\tPrueba de método 2:\\n\")\\nprint(get_min_year(movies_df))\\nprint(\"\\tPrueba de método 3:\\n\")\\nprint(get_max_year(movies_df))\\n'"
      ]
     },
     "execution_count": 8,
     "metadata": {},
     "output_type": "execute_result"
    }
   ],
   "source": [
    "# TEST:\n",
    "\"\"\"\n",
    "print(\"\\tPrueba de método 1:\\n\")\n",
    "get_all_genres(movies_df).show(20, False)\n",
    "print(\"\\tPrueba de método 2:\\n\")\n",
    "print(get_min_year(movies_df))\n",
    "print(\"\\tPrueba de método 3:\\n\")\n",
    "print(get_max_year(movies_df))\n",
    "\"\"\""
   ]
  },
  {
   "cell_type": "code",
   "execution_count": 9,
   "id": "68252b23-7945-4b65-9994-20980eb23889",
   "metadata": {},
   "outputs": [
    {
     "name": "stdout",
     "output_type": "stream",
     "text": [
      "+--------------+\n",
      "|list_of_genres|\n",
      "+--------------+\n",
      "|Crime         |\n",
      "|Romance       |\n",
      "|Thriller      |\n",
      "|Adventure     |\n",
      "|Drama         |\n",
      "|War           |\n",
      "|Documentary   |\n",
      "|Fantasy       |\n",
      "|Mystery       |\n",
      "|Musical       |\n",
      "|Animation     |\n",
      "|Film-Noir     |\n",
      "|IMAX          |\n",
      "|Horror        |\n",
      "|Western       |\n",
      "|Comedy        |\n",
      "|Children      |\n",
      "|Action        |\n",
      "|Sci-Fi        |\n",
      "+--------------+\n",
      "\n",
      "1874\n",
      "2023\n"
     ]
    }
   ],
   "source": [
    "# NO MODIFICAR EL CONTENIDO DE ESTA CELDA\n",
    "\n",
    "get_all_genres(movies_df).show(20, False)\n",
    "\"\"\"\n",
    "Ejemplo de salida esperada (el nombre de la columna podría ser distinto):\n",
    "+-----------+\n",
    "|col        |\n",
    "+-----------+\n",
    "|Crime      |\n",
    "|Romance    |\n",
    "|Thriller   |\n",
    "|Adventure  |\n",
    "|Drama      |\n",
    "|War        |\n",
    "|Documentary|\n",
    "|Fantasy    |\n",
    "|Mystery    |\n",
    "|Musical    |\n",
    "|Animation  |\n",
    "|Film-Noir  |\n",
    "|IMAX       |\n",
    "|Horror     |\n",
    "|Western    |\n",
    "|Comedy     |\n",
    "|Children   |\n",
    "|Action     |\n",
    "|Sci-Fi     |\n",
    "+-----------+\n",
    "\"\"\"\n",
    "print(get_min_year(movies_df))\n",
    "# Salida esperada: 1874\n",
    "print(get_max_year(movies_df))\n",
    "# Salida esperada: 2023"
   ]
  },
  {
   "cell_type": "code",
   "execution_count": 10,
   "id": "cdfe845e-3491-4366-8759-49d8eae1b028",
   "metadata": {},
   "outputs": [],
   "source": [
    "# NO MODIFICAR EL CONTENIDO DE ESTA CELDA\n",
    "\n",
    "genres_df = get_all_genres(movies_df)\n",
    "\n",
    "assert type(genres_df) == DataFrame\n",
    "assert len(genres_df.columns) == 1\n",
    "\n",
    "genres_list = genres_df.rdd.map(lambda item: item[0]).collect()\n",
    "genres_list.sort()\n",
    "assert genres_list == ['Action', 'Adventure', 'Animation', 'Children', 'Comedy', \n",
    "                       'Crime', 'Documentary', 'Drama', 'Fantasy', 'Film-Noir', \n",
    "                       'Horror', 'IMAX', 'Musical', 'Mystery', 'Romance', 'Sci-Fi', \n",
    "                       'Thriller', 'War', 'Western']\n",
    "\n",
    "min_year = get_min_year(movies_df)\n",
    "assert min_year == 1874\n",
    "\n",
    "max_year = get_max_year(movies_df)\n",
    "assert max_year == 2023"
   ]
  },
  {
   "cell_type": "markdown",
   "id": "0a1377e4-71a4-4479-bc6c-a7b6288164d0",
   "metadata": {},
   "source": [
    "#### Actividad 2:\n",
    "##### TO DO -> Para la tabla \"ratings_df\" el cliente requiere hacer un análisis de cada \"movie_id\" para tener una idea de qué tan buena es cada pelicula, asi que nos solicitó desarrollar un método que realice múltiples cálculos.\n",
    "##### Generar un método que retorne un DataFrame con las columnas especificadas por cada \"movie_id\":\n",
    "- ##### Firma: def calculate_rating_values(df: DataFrame) -> DataFrame\n",
    "- ##### Columnas generadas:\n",
    "    - ##### nombre: avg_rating, tipo: DoubleType() -> Valor rating promedio (Redondear a 2 decimales)\n",
    "    - ##### nombre: stddev_rating, tipo: DoubleType() -> Desviacion estándar (stddev_pop) para la columna rating (Redondear a 2 decimales)\n",
    "        - Para redondear valores utiliza la función round de Spark -> https://spark.apache.org/docs/latest/api/python/reference/pyspark.sql/api/pyspark.sql.functions.round.html#pyspark.sql.functions.round\n",
    "    - ##### nombre: count_rating, tipo: LongType() -> Total de calificaciones recibidas\n",
    "- ##### ACTUALIZACIÓN: Para aquellas peliculas (movie_id) que no se tenga identificado su año en la tabla \"movies_df\" nos han solicitado calcular el año de la siguiente manera (más adelante nos preocuparemos por pegar el año a la tabla movies_df):\n",
    "    - ##### nombre: min_time_rating, tipo: TimestampType() -> Fecha más antigua de la columna \"time\" en la que se asignó el primer rating\n",
    "##### Nota 1: podemos hacer el calculo de \"min_time_rating\" en la misma transformación en las que se generan las columnas \"avg_rating\", \"stddev_rating\", y \"count_rating\"\n",
    "##### Nota 2: Posiblemente requieras analizar las funciones de agregación existentes en Spark -> https://spark.apache.org/docs/latest/api/python/reference/pyspark.sql/functions.html#aggregate-functions\n",
    "* El dataframe de salida deberá contar con la siguiente estructura al hacer printSchema():\n",
    "* |-- movie_id: string\n",
    "* |-- avg_rating: double\n",
    "* |-- stddev_rating: double\n",
    "* |-- count_rating: long\n",
    "* |-- min_time_rating: timestamp\n",
    "##### NO UTILIZAR withColumn NI withColumnRenamed"
   ]
  },
  {
   "cell_type": "code",
   "execution_count": 11,
   "id": "418db3d9-095d-4440-8ab9-e6a20d090da5",
   "metadata": {},
   "outputs": [
    {
     "name": "stdout",
     "output_type": "stream",
     "text": [
      "+-------+--------+------+-------------------+\n",
      "|user_id|movie_id|rating|               time|\n",
      "+-------+--------+------+-------------------+\n",
      "|      1|       1|   4.0|2008-11-03 11:52:19|\n",
      "|      1|     110|   4.0|2008-11-05 00:04:46|\n",
      "|      1|     158|   4.0|2008-11-03 11:31:43|\n",
      "|      1|     260|   4.5|2008-11-03 12:00:04|\n",
      "|      1|     356|   5.0|2008-11-03 11:58:39|\n",
      "+-------+--------+------+-------------------+\n",
      "only showing top 5 rows\n",
      "\n"
     ]
    }
   ],
   "source": [
    "ratings_df.show(5)"
   ]
  },
  {
   "cell_type": "code",
   "execution_count": 12,
   "id": "9db3af85-deec-452f-8209-4ad572521d35",
   "metadata": {},
   "outputs": [
    {
     "name": "stdout",
     "output_type": "stream",
     "text": [
      "+--------+----------------------------------+-------------------------------------------------+----+\n",
      "|movie_id|title                             |genres                                           |year|\n",
      "+--------+----------------------------------+-------------------------------------------------+----+\n",
      "|1       |Toy Story (1995)                  |[Adventure, Animation, Children, Comedy, Fantasy]|1995|\n",
      "|2       |Jumanji (1995)                    |[Adventure, Children, Fantasy]                   |1995|\n",
      "|3       |Grumpier Old Men (1995)           |[Comedy, Romance]                                |1995|\n",
      "|4       |Waiting to Exhale (1995)          |[Comedy, Drama, Romance]                         |1995|\n",
      "|5       |Father of the Bride Part II (1995)|[Comedy]                                         |1995|\n",
      "+--------+----------------------------------+-------------------------------------------------+----+\n",
      "only showing top 5 rows\n",
      "\n",
      "+--------+--------------------------------------------------------------------------+----------------+----+\n",
      "|movie_id|title                                                                     |genres          |year|\n",
      "+--------+--------------------------------------------------------------------------+----------------+----+\n",
      "|129697  |La vendetta dei barbari                                                   |[Action, Drama] |null|\n",
      "|136299  |Red Victoria                                                              |[Comedy, Horror]|null|\n",
      "|130322  |Zone 261                                                                  |[Horror]        |null|\n",
      "|98063   |Mona and the Time of Burning Love (Mona ja palavan rakkauden aika) (1983))|[Drama]         |null|\n",
      "|133276  |The Dead Lands                                                            |[Action]        |null|\n",
      "+--------+--------------------------------------------------------------------------+----------------+----+\n",
      "only showing top 5 rows\n",
      "\n"
     ]
    }
   ],
   "source": [
    "movies_df.show(5, False)\n",
    "movies_df.orderBy(f.col(\"year\").asc()).show(5, False)"
   ]
  },
  {
   "cell_type": "code",
   "execution_count": 13,
   "id": "c51a47d2-fdeb-40e3-843a-a347f9d4e1e0",
   "metadata": {},
   "outputs": [
    {
     "name": "stdout",
     "output_type": "stream",
     "text": [
      "+-------+--------+------+-------------------+\n",
      "|user_id|movie_id|rating|               time|\n",
      "+-------+--------+------+-------------------+\n",
      "|      1|       1|   4.0|2008-11-03 11:52:19|\n",
      "|      1|     110|   4.0|2008-11-05 00:04:46|\n",
      "|      1|     158|   4.0|2008-11-03 11:31:43|\n",
      "|      1|     260|   4.5|2008-11-03 12:00:04|\n",
      "|      1|     356|   5.0|2008-11-03 11:58:39|\n",
      "+-------+--------+------+-------------------+\n",
      "only showing top 5 rows\n",
      "\n"
     ]
    }
   ],
   "source": [
    "ratings_df.show(5)"
   ]
  },
  {
   "cell_type": "code",
   "execution_count": 14,
   "id": "8050433f-5e9d-459f-baa5-eb289a05f0d4",
   "metadata": {},
   "outputs": [],
   "source": [
    "## TU CODIGO VA EN ESTA CELDA:\n",
    "# modificar codigo interno\n",
    "#def calculate_rating_values(df: DataFrame) -> DataFrame:\n",
    "def calculate_rating_values(df):\n",
    "    crv_ratings_df = df.groupBy(f.col(\"movie_id\"))\\\n",
    "    .agg(\n",
    "        f.round(f.avg(\"rating\"),2).alias(\"avg_rating\"),\n",
    "        f.round(f.stddev_pop(\"rating\"),2).alias(\"stddev_rating\"),\n",
    "        f.count(\"rating\").alias(\"count_rating\"),\n",
    "        f.min(\"time\").alias(\"min_time_rating\")\n",
    "    )\n",
    "    return crv_ratings_df"
   ]
  },
  {
   "cell_type": "code",
   "execution_count": 15,
   "id": "dcf0e478-1b1d-4286-b165-fa1b443f7fb5",
   "metadata": {},
   "outputs": [
    {
     "name": "stdout",
     "output_type": "stream",
     "text": [
      "+--------+----------+-------------+------------+-------------------+\n",
      "|movie_id|avg_rating|stddev_rating|count_rating|    min_time_rating|\n",
      "+--------+----------+-------------+------------+-------------------+\n",
      "|     296|      4.19|         0.95|      108756|1996-02-29 10:48:44|\n",
      "|  115713|      3.99|         0.83|       21335|2015-01-02 06:05:51|\n",
      "+--------+----------+-------------+------------+-------------------+\n",
      "only showing top 2 rows\n",
      "\n",
      "root\n",
      " |-- movie_id: string (nullable = true)\n",
      " |-- avg_rating: double (nullable = true)\n",
      " |-- stddev_rating: double (nullable = true)\n",
      " |-- count_rating: long (nullable = false)\n",
      " |-- min_time_rating: timestamp (nullable = true)\n",
      "\n"
     ]
    },
    {
     "data": {
      "text/plain": [
       "83239"
      ]
     },
     "execution_count": 15,
     "metadata": {},
     "output_type": "execute_result"
    }
   ],
   "source": [
    "calculate_rating_values(ratings_df).show(2)\n",
    "calculate_rating_values(ratings_df).printSchema()\n",
    "\n",
    "rating_values_df = calculate_rating_values(ratings_df)\n",
    "rating_values_df.count()"
   ]
  },
  {
   "cell_type": "code",
   "execution_count": 16,
   "id": "ffac13b5-d99c-468b-80ce-908808d21a7b",
   "metadata": {},
   "outputs": [
    {
     "name": "stdout",
     "output_type": "stream",
     "text": [
      "+--------+----------+-------------+------------+-------------------+\n",
      "|movie_id|avg_rating|stddev_rating|count_rating|    min_time_rating|\n",
      "+--------+----------+-------------+------------+-------------------+\n",
      "|     296|      4.19|         0.95|      108756|1996-02-29 10:48:44|\n",
      "|  115713|      3.99|         0.83|       21335|2015-01-02 06:05:51|\n",
      "+--------+----------+-------------+------------+-------------------+\n",
      "only showing top 2 rows\n",
      "\n"
     ]
    },
    {
     "data": {
      "text/plain": [
       "'\\nEjemplo de salida esperada:\\n+--------+----------+-------------+------------+-------------------+\\n|movie_id|avg_rating|stddev_rating|count_rating|    min_time_rating|\\n+--------+----------+-------------+------------+-------------------+\\n|     296|      4.19|         0.95|      108756|1996-02-29 10:48:44|\\n|  115713|      3.99|         0.83|       21335|2015-01-02 06:05:51|\\n+--------+----------+-------------+------------+-------------------+\\nonly showing top 2 rows\\n'"
      ]
     },
     "execution_count": 16,
     "metadata": {},
     "output_type": "execute_result"
    }
   ],
   "source": [
    "# NO MODIFICAR EL CONTENIDO DE ESTA CELDA\n",
    "calculate_rating_values(ratings_df).show(2)\n",
    "\"\"\"\n",
    "Ejemplo de salida esperada:\n",
    "+--------+----------+-------------+------------+-------------------+\n",
    "|movie_id|avg_rating|stddev_rating|count_rating|    min_time_rating|\n",
    "+--------+----------+-------------+------------+-------------------+\n",
    "|     296|      4.19|         0.95|      108756|1996-02-29 10:48:44|\n",
    "|  115713|      3.99|         0.83|       21335|2015-01-02 06:05:51|\n",
    "+--------+----------+-------------+------------+-------------------+\n",
    "only showing top 2 rows\n",
    "\"\"\""
   ]
  },
  {
   "cell_type": "code",
   "execution_count": 17,
   "id": "66937ba3-9f1a-42b2-801f-4b5daf250796",
   "metadata": {},
   "outputs": [],
   "source": [
    "# NO MODIFICAR EL CONTENIDO DE ESTA CELDA\n",
    "\n",
    "rating_values_df = calculate_rating_values(ratings_df)\n",
    "\n",
    "assert type(rating_values_df) == DataFrame\n",
    "assert len(rating_values_df.columns) == 5\n",
    "assert rating_values_df.count() == 83239\n",
    "\n",
    "data = [Row(\"296\", 4.19, 0.95, 108756, datetime.datetime(1996, 2, 29, 10, 48, 44))]\n",
    "\n",
    "schema = t.StructType([\n",
    "    t.StructField(\"movie_id\", t.StringType()),\n",
    "    t.StructField(\"avg_rating\", t.DoubleType()),\n",
    "    t.StructField(\"stddev_rating\", t.DoubleType()),\n",
    "    t.StructField(\"count_rating\", t.LongType()),\n",
    "    t.StructField(\"min_time_rating\", t.TimestampType())])\n",
    "\n",
    "test_df = spark.createDataFrame(data, schema)\n",
    "assert rating_values_df.filter(f.col(\"movie_id\") == \"296\").subtract(test_df).count() == 0"
   ]
  },
  {
   "cell_type": "markdown",
   "id": "d04fba01-1cfc-4cad-906c-760eb205745d",
   "metadata": {},
   "source": [
    "#### Actividad 3:\n",
    "##### TO DO -> El cliente ha solicitado generar dos tablas con el mismo contenido pero con distinto esquema a partir de la tabla \"tags_df\", lee a continuación la información enviada con los requerimientos:\n",
    "- ##### En ambas tablas se requiere agrupar por \"movie_id\" y calcular:\n",
    "    - ##### El total de veces en las que aparece cada tag (en mayusculas) .\n",
    "    - ##### Fecha más antigua en la que se asignó el primer tag.\n",
    "La primer tabla deberá tener la siguiente estructura:  \n",
    "*      | movie_id |             tag_count |        min_time_tag |\n",
    "*      |        1 | [SCI-FI:2, TERROR:12] | 2017-06-02 07:20:27 |\n",
    "*      |        3 |  [DRAMA:14, SCI-FI:4] | 2012-06-02 07:20:27 |\n",
    "con esquema:\n",
    "*      |-- movie_id: string\n",
    "*      |-- tag_count: array\n",
    "*      |    |-- element: string\n",
    "*      |-- min_time_tag: timestamp\n",
    "La segunda tabla deberá tener la siguiente estructura:\n",
    "*      | movie_id |                   tag_count |        min_time_tag |\n",
    "*      |        1 | [{SCI-FI, 2}, {TERROR, 12}] | 2017-06-02 07:20:27 |\n",
    "*      |        3 |  [{DRAMA, 14}, {SCI-FI, 4}] | 2012-06-02 07:20:27 |\n",
    "con esquema:\n",
    "*      |-- movie_id: string\n",
    "*      |-- tag_count: array\n",
    "*      |    |-- element: struct\n",
    "*      |    |    |-- tag: string\n",
    "*      |    |    |-- count: long\n",
    "*      |-- min_time_tag: timestamp\n",
    "- ##### NOTA: Ordena la columna tag_count, la cual es un array, de forma ascendente.\n",
    "- #### La generación de la primer tabla es a través del método con la firma:\n",
    "    - ##### def get_act_3_df1(df: DataFrame) -> DataFrame\n",
    "- #### La generación de la segunda tabla es a través del método con la firma:\n",
    "    - ##### def get_act_3_df2(df: DataFrame) -> DataFrame"
   ]
  },
  {
   "cell_type": "markdown",
   "id": "b1a99bc8-bf57-47c3-95c7-4e67e013087f",
   "metadata": {},
   "source": [
    "#### La siguiente información muestra los pasos recomendados para resolver la actividad 3, puedes omitir leer esta parte si asi lo consideras.\n",
    "##### Para generar ambas tablas primero necesitamos obtener el total veces (count) en las que un \"tag\" se repite por cada \"movie_id\", para evitar conteos erroneos hay que convertir cada tag en Mayusculas.\n",
    "##### El dataframe resultante deberá contener la siguiente estructura: \"movie_id\", \"tag\", \"count\" y \"min\" donde la columna \"count\" representa el total de veces que aparecen cada \"tag\"y \"movie_id\"; la columna \"min\" representa el valor mínimo de cada \"tag\" y \"movie_id\".\n",
    "Por ejemplo, dado el dataframe de entrada\n",
    "*      |user_id|movie_id|   tag|               time|\n",
    "*      |    183|     100|sci-fi|2012-06-02 07:20:27|\n",
    "*      |     12|     832| Drama|2017-06-01 07:20:27|\n",
    "*      |    251|     100|SCI-FI|2009-06-04 07:20:27|\n",
    "*      |    265|     832| DRAMA|2015-06-08 07:20:27|\n",
    "*      |     22|     100|terror|2020-06-06 07:20:27|\n",
    "\n",
    "debemos obtener el siguiente dataframe (el nombre de columnas \"count\" y \"min\" podria ser distinto):\n",
    "\n",
    "*      | movie_id |    tag | count |                 min |\n",
    "*      |      100 | TERROR |     1 | 2020-06-06 07:20:27 |\n",
    "*      |      100 | SCI-FI |     2 | 2009-06-04 07:20:27 |\n",
    "*      |      832 |  DRAMA |     2 | 2015-06-08 07:20:27 |\n",
    "\n",
    "##### Para generar la primer tabla necesitamos concatenar las columnas \"tag\" y \"count\", posteriormente agrupando por \"movie_id\" generaremos la lista de elementos requerida. La columna \"min_time_tag\" representa el valor mínimo de cada \"movie_id\".\n",
    "- ##### Funciones de Spark recomendadas:\n",
    "    - upper -> https://spark.apache.org/docs/latest/api/python/reference/pyspark.sql/api/pyspark.sql.functions.upper.html#pyspark.sql.functions.upper\n",
    "    - concat_ws -> https://spark.apache.org/docs/latest/api/python/reference/pyspark.sql/api/pyspark.sql.functions.concat_ws.html#pyspark.sql.functions.concat_ws\n",
    "    - concat -> https://spark.apache.org/docs/latest/api/python/reference/pyspark.sql/api/pyspark.sql.functions.concat.html#pyspark.sql.functions.concat\n",
    "    - collect_list -> https://spark.apache.org/docs/latest/api/python/reference/pyspark.sql/api/pyspark.sql.functions.collect_list.html#pyspark.sql.functions.collect_list\n",
    "    - collect_set -> https://spark.apache.org/docs/latest/api/python/reference/pyspark.sql/api/pyspark.sql.functions.collect_set.html#pyspark.sql.functions.collect_set##### \n",
    "    - sort_array -> https://spark.apache.org/docs/latest/api/python/reference/pyspark.sql/api/pyspark.sql.functions.sort_array.html#pyspark-sql-functions-sort-array\n",
    "##### La primer tabla quedará estructurada de la siguiente manera, donde la columna \"tag_count\" es de tipo ArrayType(StringType()) y la columna \"min_time_tag\" es de tipo TimestampType():\n",
    "Dado el dataframe de entrada\n",
    "*      | movie_id |    tag | count |                 min |\n",
    "*      |        1 | TERROR |    12 | 2020-06-06 07:20:27 |\n",
    "*      |        1 | SCI-FI |     2 | 2015-06-06 07:20:27 |\n",
    "*      |        3 |  DRAMA |    14 | 2004-06-06 07:20:27 |\n",
    "*      |        3 | SCI-FI |     4 | 2012-06-06 07:20:27 |\n",
    "debemos obtener el siguiente dataframe\n",
    "*       | movie_id |             tag_count |        min_time_tag |\n",
    "*       |        1 | [SCI-FI:2, TERROR:12] | 2015-06-06 07:20:27 |\n",
    "*       |        3 |  [DRAMA:14, SCI-FI:4] | 2004-06-06 07:20:27 |\n",
    "##### Para generar la segunda tabla necesitamos agregar en una estructura las columnas \"tag\" y \"count\", posteriormente agrupando por movie_id generaremos la lista de elementos requerida. La columna \"min_time_tag\" representa el valor mínimo de cada \"movie_id\".\n",
    "- ##### Funciones de Spark recomendadas:\n",
    "    - upper -> https://spark.apache.org/docs/latest/api/python/reference/pyspark.sql/api/pyspark.sql.functions.upper.html#pyspark.sql.functions.upper\n",
    "    - struct -> https://spark.apache.org/docs/latest/api/python/reference/pyspark.sql/api/pyspark.sql.functions.struct.html#pyspark.sql.functions.struct\n",
    "    - collect_list -> https://spark.apache.org/docs/latest/api/python/reference/pyspark.sql/api/pyspark.sql.functions.collect_list.html#pyspark.sql.functions.collect_list\n",
    "    - collect_set -> https://spark.apache.org/docs/latest/api/python/reference/pyspark.sql/api/pyspark.sql.functions.collect_set.html#pyspark.sql.functions.collect_set\n",
    "    - sort_array -> https://spark.apache.org/docs/latest/api/python/reference/pyspark.sql/api/pyspark.sql.functions.sort_array.html#pyspark-sql-functions-sort-array\n",
    "##### La segunda tabla quedará estructurada de la siguiente manera, donde la columna \"tag_count\" de tipo ArrayType(StructType(StringType(),LongType()))  y la columna \"min_time_tag\" es de tipo TimestampType():\n",
    "Dado el dataframe de entrada\n",
    "*      | movie_id |    tag | count |                 min |\n",
    "*      |        1 | TERROR |    12 | 2020-06-06 07:20:27 |\n",
    "*      |        1 | SCI-FI |     2 | 2015-06-06 07:20:27 |\n",
    "*      |        3 |  DRAMA |    14 | 2004-06-06 07:20:27 |\n",
    "*      |        3 | SCI-FI |     4 | 2012-06-06 07:20:27 |\n",
    "debemos obtener el siguiente dataframe\n",
    "*      | movie_id |                   tag_count |        min_time_tag |\n",
    "*      |        1 | [{SCI-FI, 2}, {TERROR, 12}] | 2015-06-06 07:20:27 |\n",
    "*      |        3 |  [{DRAMA, 14}, {SCI-FI, 4}] | 2004-06-06 07:20:27 |"
   ]
  },
  {
   "cell_type": "code",
   "execution_count": 18,
   "id": "ee65a3dd-c015-4e67-b189-291729fd5548",
   "metadata": {},
   "outputs": [
    {
     "name": "stdout",
     "output_type": "stream",
     "text": [
      "+-------+--------+--------------------+-------------------+\n",
      "|user_id|movie_id|tag                 |time               |\n",
      "+-------+--------+--------------------+-------------------+\n",
      "|224183 |832     |acting              |2017-06-05 07:20:27|\n",
      "|224183 |832     |action              |2017-06-05 07:20:01|\n",
      "|224183 |832     |Brawley Nolte       |2017-06-05 07:19:31|\n",
      "|224183 |832     |conspiracy theory   |2017-06-05 07:20:00|\n",
      "|224183 |832     |Director: Ron Howard|2017-06-05 07:15:05|\n",
      "|224183 |832     |Donnie Wahlberg     |2017-06-05 07:19:33|\n",
      "|224183 |832     |Gary Sinise         |2017-06-05 07:19:30|\n",
      "|224183 |832     |kidnapping          |2017-06-05 07:19:57|\n",
      "|224183 |832     |Liev Schreiber      |2017-06-05 07:19:36|\n",
      "|224183 |832     |Lili Taylor         |2017-06-05 07:19:28|\n",
      "+-------+--------+--------------------+-------------------+\n",
      "only showing top 10 rows\n",
      "\n"
     ]
    }
   ],
   "source": [
    "# Tabla con la que trabajaremos:\n",
    "tags_df.show(10,False)"
   ]
  },
  {
   "cell_type": "code",
   "execution_count": 19,
   "id": "125e5d81-6c6a-4e23-ad26-2da273a001e2",
   "metadata": {},
   "outputs": [
    {
     "name": "stdout",
     "output_type": "stream",
     "text": [
      "+--------+------------------------------------------------------------------+-------------------+\n",
      "|movie_id|tag_count                                                         |min_time_tag       |\n",
      "+--------+------------------------------------------------------------------+-------------------+\n",
      "|100062  |[FATE : 1, PRESS-GANGED : 1, WAR : 1, WORLD WAR II : 1]           |2018-05-26 16:40:54|\n",
      "|100070  |[COMEDIAN : 2, COMEDY : 1, GOOD HUMOUR : 1, STRUGGLING CAREER : 1]|2017-05-19 17:17:36|\n",
      "+--------+------------------------------------------------------------------+-------------------+\n",
      "only showing top 2 rows\n",
      "\n",
      "root\n",
      " |-- movie_id: string (nullable = true)\n",
      " |-- tag_count: array (nullable = false)\n",
      " |    |-- element: string (containsNull = false)\n",
      " |-- min_time_tag: timestamp (nullable = true)\n",
      "\n",
      "+--------+----------------------------------------------------------------------+-------------------+\n",
      "|movie_id|tag_count                                                             |min_time_tag       |\n",
      "+--------+----------------------------------------------------------------------+-------------------+\n",
      "|100062  |[{FATE, 1}, {PRESS-GANGED, 1}, {WAR, 1}, {WORLD WAR II, 1}]           |2018-05-26 16:40:54|\n",
      "|100070  |[{COMEDIAN, 2}, {COMEDY, 1}, {GOOD HUMOUR, 1}, {STRUGGLING CAREER, 1}]|2017-05-19 17:17:36|\n",
      "+--------+----------------------------------------------------------------------+-------------------+\n",
      "only showing top 2 rows\n",
      "\n",
      "root\n",
      " |-- movie_id: string (nullable = true)\n",
      " |-- tag_count: array (nullable = false)\n",
      " |    |-- element: struct (containsNull = false)\n",
      " |    |    |-- tag: string (nullable = true)\n",
      " |    |    |-- count: long (nullable = false)\n",
      " |-- min_time_tag: timestamp (nullable = true)\n",
      "\n"
     ]
    }
   ],
   "source": [
    "## TU CODIGO VA EN ESTA CELDA, PUEDES GENERAR MÉTODOS O VARIABLES NUEVAS SI ASI LO REQUIERES\n",
    "\n",
    "#def get_act_3_df1(df: DataFrame):\n",
    "# ... transformaciones a tags_df\n",
    "def get_act_3_df1(df):\n",
    "    df_mtt = df.groupBy(f.col(\"movie_id\"), f.upper(f.col(\"tag\")).alias(\"tag\"))\\\n",
    "        .agg(\n",
    "            f.count(f.col(\"tag\")).alias(\"count\"),\n",
    "            f.min(\"time\").alias(\"min\")\n",
    "        ).select(\n",
    "            f.col(\"movie_id\"),\n",
    "            f.concat_ws(\" : \", f.col(\"tag\"),f.col(\"count\")).alias(\"tag_count\"),\n",
    "            f.col(\"min\").alias(\"min_tag\")\n",
    "        )\n",
    "    tabla1_df = df_mtt.groupBy(f.col(\"movie_id\"))\\\n",
    "        .agg(\n",
    "            f.sort_array(f.collect_set(\"tag_count\")).alias(\"tag_count\"),\n",
    "            f.min(\"min_tag\").alias(\"min_time_tag\"),\n",
    "        )\n",
    "    return tabla1_df\n",
    "\n",
    "# ... transformaciones a tags_df\n",
    "def get_act_3_df2(df):\n",
    "    df_mtt2 = df.groupBy(f.col(\"movie_id\"), f.upper(f.col(\"tag\")).alias(\"tag\"))\\\n",
    "        .agg(\n",
    "            f.count(f.col(\"tag\")).alias(\"count\"),\n",
    "            f.min(\"time\").alias(\"min\")\n",
    "        ).select(\n",
    "            f.col(\"movie_id\"),\n",
    "            f.struct(f.col(\"tag\"),f.col(\"count\")).alias(\"struct\"),\n",
    "            f.col(\"min\").alias(\"min_tag\")\n",
    "        )\n",
    "    tabla2_df = df_mtt2.groupBy(f.col(\"movie_id\"))\\\n",
    "        .agg(\n",
    "            f.sort_array(f.collect_set(\"struct\")).alias(\"tag_count\"),\n",
    "            f.min(\"min_tag\").alias(\"min_time_tag\")\n",
    "        )\n",
    "    return tabla2_df\n",
    "\n",
    "act_3_df1 = get_act_3_df1(tags_df)\n",
    "act_3_df2 = get_act_3_df2(tags_df)\n",
    "\n",
    "act_3_df1.show(2,False)\n",
    "act_3_df1.printSchema()\n",
    "\n",
    "act_3_df2.show(2,False)\n",
    "act_3_df2.printSchema()"
   ]
  },
  {
   "cell_type": "code",
   "execution_count": 20,
   "id": "8c45e9bc-cd80-4e9f-9024-613aaf1f63a6",
   "metadata": {},
   "outputs": [
    {
     "name": "stdout",
     "output_type": "stream",
     "text": [
      "+--------+------------------------------------------------------------------+-------------------+\n",
      "|movie_id|tag_count                                                         |min_time_tag       |\n",
      "+--------+------------------------------------------------------------------+-------------------+\n",
      "|100062  |[FATE : 1, PRESS-GANGED : 1, WAR : 1, WORLD WAR II : 1]           |2018-05-26 16:40:54|\n",
      "|100070  |[COMEDIAN : 2, COMEDY : 1, GOOD HUMOUR : 1, STRUGGLING CAREER : 1]|2017-05-19 17:17:36|\n",
      "+--------+------------------------------------------------------------------+-------------------+\n",
      "only showing top 2 rows\n",
      "\n",
      "+--------+----------------------------------------------------------------------+-------------------+\n",
      "|movie_id|tag_count                                                             |min_time_tag       |\n",
      "+--------+----------------------------------------------------------------------+-------------------+\n",
      "|100062  |[{FATE, 1}, {PRESS-GANGED, 1}, {WAR, 1}, {WORLD WAR II, 1}]           |2018-05-26 16:40:54|\n",
      "|100070  |[{COMEDIAN, 2}, {COMEDY, 1}, {GOOD HUMOUR, 1}, {STRUGGLING CAREER, 1}]|2017-05-19 17:17:36|\n",
      "+--------+----------------------------------------------------------------------+-------------------+\n",
      "only showing top 2 rows\n",
      "\n"
     ]
    },
    {
     "data": {
      "text/plain": [
       "'\\nEjemplo de salida esperada:\\n+--------+------------------------------------------------------------------+-------------------+\\n|movie_id|tag_count                                                         |min_time_tag       |\\n+--------+------------------------------------------------------------------+-------------------+\\n|100062  |[FATE : 1, PRESS-GANGED : 1, WAR : 1, WORLD WAR II : 1]           |2018-05-26 16:40:54|\\n|100070  |[COMEDIAN : 2, COMEDY : 1, GOOD HUMOUR : 1, STRUGGLING CAREER : 1]|2017-05-19 17:17:36|\\n+--------+------------------------------------------------------------------+-------------------+\\nonly showing top 2 rows\\n\\n+--------+----------------------------------------------------------------------+-------------------+\\n|movie_id|tag_count                                                             |min_time_tag       |\\n+--------+----------------------------------------------------------------------+-------------------+\\n|100062  |[{FATE, 1}, {PRESS-GANGED, 1}, {WAR, 1}, {WORLD WAR II, 1}]           |2018-05-26 16:40:54|\\n|100070  |[{COMEDIAN, 2}, {COMEDY, 1}, {GOOD HUMOUR, 1}, {STRUGGLING CAREER, 1}]|2017-05-19 17:17:36|\\n+--------+----------------------------------------------------------------------+-------------------+\\nonly showing top 2 rows\\n'"
      ]
     },
     "execution_count": 20,
     "metadata": {},
     "output_type": "execute_result"
    }
   ],
   "source": [
    "# NO MODIFICAR EL CONTENIDO DE ESTA CELDA\n",
    "act_3_df1.show(2, False)\n",
    "act_3_df2.show(2, False)\n",
    "\"\"\"\n",
    "Ejemplo de salida esperada:\n",
    "+--------+------------------------------------------------------------------+-------------------+\n",
    "|movie_id|tag_count                                                         |min_time_tag       |\n",
    "+--------+------------------------------------------------------------------+-------------------+\n",
    "|100062  |[FATE : 1, PRESS-GANGED : 1, WAR : 1, WORLD WAR II : 1]           |2018-05-26 16:40:54|\n",
    "|100070  |[COMEDIAN : 2, COMEDY : 1, GOOD HUMOUR : 1, STRUGGLING CAREER : 1]|2017-05-19 17:17:36|\n",
    "+--------+------------------------------------------------------------------+-------------------+\n",
    "only showing top 2 rows\n",
    "\n",
    "+--------+----------------------------------------------------------------------+-------------------+\n",
    "|movie_id|tag_count                                                             |min_time_tag       |\n",
    "+--------+----------------------------------------------------------------------+-------------------+\n",
    "|100062  |[{FATE, 1}, {PRESS-GANGED, 1}, {WAR, 1}, {WORLD WAR II, 1}]           |2018-05-26 16:40:54|\n",
    "|100070  |[{COMEDIAN, 2}, {COMEDY, 1}, {GOOD HUMOUR, 1}, {STRUGGLING CAREER, 1}]|2017-05-19 17:17:36|\n",
    "+--------+----------------------------------------------------------------------+-------------------+\n",
    "only showing top 2 rows\n",
    "\"\"\""
   ]
  },
  {
   "cell_type": "code",
   "execution_count": 21,
   "id": "a5ead994-12cb-46be-a2a6-16eb5eeb9cbf",
   "metadata": {},
   "outputs": [],
   "source": [
    "# NO MODIFICAR EL CONTENIDO DE ESTA CELDA\n",
    "expected_df1 = [\n",
    "    Row(movie_id='100070',\n",
    "        tag_count=['COMEDIAN : 2', 'COMEDY : 1', 'GOOD HUMOUR : 1', 'STRUGGLING CAREER : 1'],\n",
    "        min_time_tag=datetime.datetime(2017, 5, 19, 17, 17, 36))]\n",
    "schema_df1 = t.StructType([\n",
    "    t.StructField(\"movie_id\", t.StringType()),\n",
    "    t.StructField(\"tag_count\", t.ArrayType(t.StringType())),\n",
    "    t.StructField(\"min_time_tag\", t.TimestampType())\n",
    "])\n",
    "assert len(act_3_df1.columns) == 3\n",
    "assert \"movie_id\" in act_3_df1.columns\n",
    "assert \"tag_count\" in act_3_df1.columns\n",
    "assert \"min_time_tag\" in act_3_df1.columns\n",
    "assert schema_to_ddl(spark, act_3_df1.select(\"movie_id\", \"tag_count\", \"min_time_tag\")) == 'movie_id STRING,tag_count ARRAY<STRING>,min_time_tag TIMESTAMP'\n",
    "assert act_3_df1.count() == 53452\n",
    "assert act_3_df1.filter(f.col(\"movie_id\") == \"100070\").subtract(spark.createDataFrame(expected_df1, schema_df1)).count() == 0\n",
    "\n",
    "expected_df2 = [\n",
    "    Row(movie_id='100070',\n",
    "        tag_count=[Row(tag='COMEDIAN', count=2),\n",
    "                   Row(tag='COMEDY', count=1),\n",
    "                   Row(tag='GOOD HUMOUR', count=1),\n",
    "                   Row(tag='STRUGGLING CAREER', count=1)],\n",
    "        min_time_tag=datetime.datetime(2017, 5, 19, 17, 17, 36))]\n",
    "schema_df2 = t.StructType([\n",
    "    t.StructField(\"movie_id\", t.StringType()),\n",
    "    t.StructField(\"tag_count\", t.ArrayType(t.StructType([\n",
    "        t.StructField(\"tag\", t.StringType()),\n",
    "        t.StructField(\"count\", t.LongType())\n",
    "    ]))),\n",
    "    t.StructField(\"min_time_tag\", t.TimestampType())\n",
    "])\n",
    "assert len(act_3_df2.columns) == 3\n",
    "assert \"movie_id\" in act_3_df2.columns\n",
    "assert \"tag_count\" in act_3_df2.columns\n",
    "assert \"min_time_tag\" in act_3_df2.columns\n",
    "assert schema_to_ddl(spark, act_3_df2.select(\"movie_id\", \"tag_count\", \"min_time_tag\")) == 'movie_id STRING,tag_count ARRAY<STRUCT<tag: STRING, count: BIGINT>>,min_time_tag TIMESTAMP'\n",
    "assert act_3_df2.count() == 53452\n",
    "assert act_3_df2.filter(f.col(\"movie_id\") == \"100070\").subtract(spark.createDataFrame(expected_df2, schema_df2)).count() == 0"
   ]
  },
  {
   "cell_type": "markdown",
   "id": "4e9a5e31-597f-4117-b460-df940f85f2da",
   "metadata": {},
   "source": [
    "#### Actividad 4:\n",
    "##### TO DO -> El cliente ha solicitado que resolvamos dos consultas con la salida de la actividad 3, como no especificó con cuál dataframe requiere la consulta lo realizaremos con ambos dataframes (act_3_df1 y act_3_df2).\n",
    "##### Las consultas a resolver son:\n",
    "- ##### 1.- ¿Cuál es la pelicula (movie_id) con más tags con el valor \"SCI-FI\"?\n",
    "    - ##### Estrictamente especificó no tomar en cuenta datos como \"REALISTIC SCI-FI\", \"HARD SCI-FI\", etc.\n",
    "- ##### 2.- ¿Cuántas peliculas fueron etiquetadas como \"SCI-FI\"?\n",
    "##### La forma de resolver estas consultas será a través de un método el cual va a retornar una tupla (str, int), donde el primer elemento (str) representa el resultado de la consulta 1 y el segundo elemento (int) representa el resultado de la consulta 2\n",
    "- ##### La firma del método que utilizará cada dataFrame es:\n",
    "    - ##### def exercise_4_df1(df: DataFrame) -> firma para el dataFrame act_3_df1\n",
    "    - ##### def exercise_4_df2(df: DataFrame) -> firma para el dataFrame act_3_df2\n",
    "##### Funciones de Spark recomendadas:\n",
    "- explode -> https://spark.apache.org/docs/latest/api/python/reference/pyspark.sql/api/pyspark.sql.functions.explode.html#pyspark-sql-functions-explode\n",
    "- regexp_extract -> https://spark.apache.org/docs/latest/api/python/reference/pyspark.sql/api/pyspark.sql.functions.regexp_extract.html#pyspark.sql.functions.regexp_extract\n",
    "##### Funciones de la clase Column recomendadas:\n",
    "- like -> https://spark.apache.org/docs/latest/api/python/reference/pyspark.sql/api/pyspark.sql.Column.like.html#pyspark.sql.Column.like\n",
    "- ilike -> https://spark.apache.org/docs/latest/api/python/reference/pyspark.sql/api/pyspark.sql.Column.ilike.html#pyspark.sql.Column.ilike\n",
    "- getField -> https://spark.apache.org/docs/latest/api/python/reference/pyspark.sql/api/pyspark.sql.Column.getField.html#pyspark.sql.Column.getField\n",
    "##### Acciones que podrias utilizar:\n",
    "- count, first, head, take"
   ]
  },
  {
   "cell_type": "code",
   "execution_count": 22,
   "id": "98fc134e-1ad0-429d-a0f7-ac385547c4e7",
   "metadata": {},
   "outputs": [
    {
     "name": "stdout",
     "output_type": "stream",
     "text": [
      "+--------+------------------------------------------------------------------+-------------------+\n",
      "|movie_id|tag_count                                                         |min_time_tag       |\n",
      "+--------+------------------------------------------------------------------+-------------------+\n",
      "|100062  |[FATE : 1, PRESS-GANGED : 1, WAR : 1, WORLD WAR II : 1]           |2018-05-26 16:40:54|\n",
      "|100070  |[COMEDIAN : 2, COMEDY : 1, GOOD HUMOUR : 1, STRUGGLING CAREER : 1]|2017-05-19 17:17:36|\n",
      "+--------+------------------------------------------------------------------+-------------------+\n",
      "only showing top 2 rows\n",
      "\n",
      "root\n",
      " |-- movie_id: string (nullable = true)\n",
      " |-- tag_count: array (nullable = false)\n",
      " |    |-- element: string (containsNull = false)\n",
      " |-- min_time_tag: timestamp (nullable = true)\n",
      "\n"
     ]
    },
    {
     "data": {
      "text/plain": [
       "'ex4_op = act_3_df1    .select(\\n        f.col(\"movie_id\"),\\n        f.explode(f.col(\"tag_count\")).alias(\"key\"),\\n        f.regexp_extract(f.col(\"key\"),\\'SCI-FI\\\\s*:\\\\s*(\\\\d+)\\',0).alias(\"sci-fi_count\")\\n    ).orderBy(f.col(\"sci-fi_count\").desc())\\n\\nex4_op.show(5,False)'"
      ]
     },
     "execution_count": 22,
     "metadata": {},
     "output_type": "execute_result"
    }
   ],
   "source": [
    "act_3_df1.show(2, False)\n",
    "act_3_df1.printSchema()\n",
    "\n",
    "\"\"\"ex4_op = act_3_df1\\\n",
    "    .select(\n",
    "        f.col(\"movie_id\"),\n",
    "        f.explode(f.col(\"tag_count\")).alias(\"key\"),\n",
    "        f.regexp_extract(f.col(\"key\"),'SCI-FI\\s*:\\s*(\\d+)',0).alias(\"sci-fi_count\")\n",
    "    ).orderBy(f.col(\"sci-fi_count\").desc())\n",
    "\n",
    "ex4_op.show(5,False)\"\"\""
   ]
  },
  {
   "cell_type": "code",
   "execution_count": 23,
   "id": "ed8701f0-c9e5-4561-bafe-97346f3552d0",
   "metadata": {},
   "outputs": [],
   "source": [
    "## TU CODIGO VA EN ESTA CELDA, PUEDES GENERAR MÉTODOS O VARIABLES SI ASI LO REQUIERES\n",
    "\n",
    "#Para el data frame act_3_df1:\n",
    "def exercise_4_df1(df):\n",
    "    ex4_df1 = df\\\n",
    "        .select(\n",
    "            *df.columns,\n",
    "            f.explode(f.col(\"tag_count\")).alias(\"tag\")\n",
    "        )\\\n",
    "        .select(\n",
    "            *df.columns,\n",
    "            f.col(\"tag\"),\n",
    "            f.regexp_extract(f.col(\"tag\"), \"[0-9]*$\", 0).cast(t.IntegerType()).alias(\"tot\")\n",
    "        )\\\n",
    "        .filter(f.col(\"tag\").like(\"SCI-FI : %\"))\\\n",
    "        .orderBy(f.col(\"tot\").desc())\\\n",
    "        #.select(\"movie_id\").first()[0]\n",
    "    #ex4_df1_2 = df\n",
    "    return (ex4_df1.select(\"movie_id\").first()[0],ex4_df1.select(\"movie_id\").distinct().count()) # modificar codigo interno\n",
    "\n",
    "#Para el data frame act_3_df2:\n",
    "def exercise_4_df2(df):\n",
    "    ex4_df2 = df\\\n",
    "        .select(\n",
    "            *df.columns,\n",
    "            f.explode(f.col(\"tag_count\")).alias(\"tag\")\n",
    "        ).\\\n",
    "        select(\n",
    "            *df.columns,\n",
    "            f.col(\"tag\").getField(\"tag\"),\n",
    "            f.col(\"tag\").getField(\"count\") #regexp_extract trabaja con string y no con struct\n",
    "        )\\\n",
    "        .filter(f.col(\"tag.tag\").like(\"SCI-FI\"))\\\n",
    "        .orderBy(f.col(\"tag.count\").desc())\n",
    "    return (ex4_df2.select(\"movie_id\").first()[0],ex4_df2.select(\"movie_id\").distinct().count()) # modificar codigo interno"
   ]
  },
  {
   "cell_type": "code",
   "execution_count": 24,
   "id": "ff82eced-c1ab-4a1c-b6e1-c967717c1bc3",
   "metadata": {},
   "outputs": [
    {
     "name": "stdout",
     "output_type": "stream",
     "text": [
      "('260', 854)\n",
      "('260', 854)\n"
     ]
    }
   ],
   "source": [
    "print(exercise_4_df1(act_3_df1))\n",
    "print(exercise_4_df2(act_3_df2))"
   ]
  },
  {
   "cell_type": "code",
   "execution_count": 25,
   "id": "c8378f9d-5823-43db-b8cf-86c3cdf99e20",
   "metadata": {},
   "outputs": [
    {
     "name": "stdout",
     "output_type": "stream",
     "text": [
      "('260', 854)\n",
      "('260', 854)\n"
     ]
    }
   ],
   "source": [
    "# NO MODIFICAR EL CONTENIDO DE ESTA CELDA\n",
    "print(exercise_4_df1(act_3_df1))\n",
    "print(exercise_4_df2(act_3_df2))\n",
    "# Salida esperada en ambos casos\n",
    "#('260', 854)"
   ]
  },
  {
   "cell_type": "code",
   "execution_count": 26,
   "id": "66df8125-9055-445b-8afe-aa8d123b8412",
   "metadata": {},
   "outputs": [],
   "source": [
    "movie_id, count = exercise_4_df1(act_3_df1)\n",
    "assert movie_id == \"260\"\n",
    "assert count == 854\n",
    "\n",
    "movie_id, count = exercise_4_df2(act_3_df2)\n",
    "assert movie_id == \"260\"\n",
    "assert count == 854"
   ]
  },
  {
   "cell_type": "code",
   "execution_count": 27,
   "id": "195f87e6-bdcf-4567-a8fe-56d4f1aa36fa",
   "metadata": {},
   "outputs": [],
   "source": [
    "# NO MODIFICAR EL CONTENIDO DE ESTA CELDA\n",
    "dfs = [(movies_df, \"07/movies\"),\n",
    "       (act_3_df1, \"07/tags_p1\"),\n",
    "       (act_3_df2, \"07/tags_p2\"),\n",
    "       (calculate_rating_values(ratings_df), \"07/ratings\")]\n",
    "\n",
    "write_tmp_df(dfs)"
   ]
  },
  {
   "cell_type": "code",
   "execution_count": null,
   "id": "1b76900e-7ba9-4d99-bb20-2540cca7d4a2",
   "metadata": {},
   "outputs": [],
   "source": []
  }
 ],
 "metadata": {
  "kernelspec": {
   "display_name": "Python 3 (ipykernel)",
   "language": "python",
   "name": "python3"
  },
  "language_info": {
   "codemirror_mode": {
    "name": "ipython",
    "version": 3
   },
   "file_extension": ".py",
   "mimetype": "text/x-python",
   "name": "python",
   "nbconvert_exporter": "python",
   "pygments_lexer": "ipython3",
   "version": "3.9.13"
  }
 },
 "nbformat": 4,
 "nbformat_minor": 5
}
