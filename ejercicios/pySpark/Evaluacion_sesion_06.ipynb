{
 "cells": [
  {
   "cell_type": "markdown",
   "id": "a9199e75-cfa1-4b94-a28d-7f5ff788bf1c",
   "metadata": {},
   "source": [
    "#### Alguien le contó al cliente que el uso de withColumn y withColumnRenamed no correspondian a las best-practices dentro del desarrollo con Apache Spark, por lo tanto ha solicitado que hagan las transformaciones utilizando únicamente instrucciones de tipo Select. Adicional nos ha solicitado agregar algunas operaciones de limpieza no contempladas anteriormente. Presta mucha atención a cada requerimiento solicitado.\n",
    "\n",
    "#### Por si fuera poco nos ha solicitado filtrar algunos datos que no le serán de utilidad y agregar una columna adicional al dataframe movies_df donde requiere el uso de expresiones regulares (por suerte un especialista nos ha dado las expresiones regulares a utilizar). No estaría mal estudiar un poco sobre expresiones regulares si consideras que no dominas el tema. \n",
    "\n",
    "##### Nota: Para poder trabajar con este notebook es necesario haber terminado el ejercicio de la sesión 04"
   ]
  },
  {
   "cell_type": "code",
   "execution_count": 1,
   "id": "2d7bef44-cd72-4c99-ba8e-8f2fb832e6c4",
   "metadata": {},
   "outputs": [
    {
     "data": {
      "text/html": [
       "<style>pre { white-space: pre !important; }</style>"
      ],
      "text/plain": [
       "<IPython.core.display.HTML object>"
      ]
     },
     "metadata": {},
     "output_type": "display_data"
    }
   ],
   "source": [
    "# NO MODIFICAR EL CONTENIDO DE ESTA CELDA\n",
    "%run utils.py"
   ]
  },
  {
   "cell_type": "code",
   "execution_count": 2,
   "id": "b0678da8-912b-4dee-909e-244e511ebcfe",
   "metadata": {},
   "outputs": [
    {
     "name": "stdout",
     "output_type": "stream",
     "text": [
      "+-------+----------------+-------------------------------------------+\n",
      "|movieId|title           |genres                                     |\n",
      "+-------+----------------+-------------------------------------------+\n",
      "|1      |Toy Story (1995)|Adventure|Animation|Children|Comedy|Fantasy|\n",
      "+-------+----------------+-------------------------------------------+\n",
      "only showing top 1 row\n",
      "\n",
      "+------+-------+------+----------+\n",
      "|userId|movieId|rating| timestamp|\n",
      "+------+-------+------+----------+\n",
      "|     1|      1|   4.0|1225734739|\n",
      "+------+-------+------+----------+\n",
      "only showing top 1 row\n",
      "\n",
      "+------+-------+------+----------+\n",
      "|userId|movieId|   tag| timestamp|\n",
      "+------+-------+------+----------+\n",
      "|224183|    832|acting|1496668827|\n",
      "+------+-------+------+----------+\n",
      "only showing top 1 row\n",
      "\n"
     ]
    }
   ],
   "source": [
    "# NO MODIFICAR CONTENIDO DE ESTA CELDA\n",
    "from pyspark.sql import SparkSession\n",
    "import pyspark.sql.functions as f\n",
    "import pyspark.sql.types as t\n",
    "\n",
    "# Creación de sesión de Spark\n",
    "spark = SparkSession.builder \\\n",
    "    .master(\"local[*]\") \\\n",
    "    .appName(\"ejercicio_6\") \\\n",
    "    .getOrCreate()\n",
    "\n",
    "spark.conf.set(\"spark.sql.session.timeZone\", \"GMT-6\")\n",
    "\n",
    "# Carga de tablas requeridas\n",
    "root_path = \"../../resources/data/tmp/parquet/\"\n",
    "names_list = [\"04/movies\", \"04/ratings\", \"04/tags\"]\n",
    "df_dict = read_tmp_df(spark, names_list)\n",
    "\n",
    "movies_df = df_dict[\"04/movies\"]\n",
    "ratings_df = df_dict[\"04/ratings\"]\n",
    "tags_df = df_dict[\"04/tags\"]\n",
    "\n",
    "movies_df.show(1, False)\n",
    "ratings_df.show(1)\n",
    "tags_df.show(1)"
   ]
  },
  {
   "cell_type": "markdown",
   "id": "566c7529-e81d-4bc4-b1b4-abfe69e4b6a5",
   "metadata": {},
   "source": [
    "#### Actividad 1:\n",
    "##### TO DO ->    Para el dataframe \"movies_df\":\n",
    "- ##### El archivo contiene espacios a la izquiera y derecha en la columna \"title\". Elimina estos espacios.\n",
    "    - Apoyate de la funcion trim -> https://spark.apache.org/docs/latest/api/python/reference/pyspark.sql/api/pyspark.sql.functions.trim.html#pyspark.sql.functions.trim\n",
    "- ##### Convierte la columna \"genres\" en un array, donde cada genero corresponde a una posición del array generado. Como resultado el esquema para la columna \"genres\" será un ArrayType(StringType()). \n",
    "    - Apoyate de la función split de Spark -> https://spark.apache.org/docs/latest/api/python/reference/pyspark.sql/api/pyspark.sql.functions.split.html#pyspark.sql.functions.split\n",
    "- ##### Renombra la columna \"movieId\" por \"movie_id\"\n",
    "\n",
    "##### NO UTILIZAR withColumn NI withColumnRenamed"
   ]
  },
  {
   "cell_type": "code",
   "execution_count": 3,
   "id": "125e5d81-6c6a-4e23-ad26-2da273a001e2",
   "metadata": {},
   "outputs": [],
   "source": [
    "## TU CODIGO VA EN ESTA CELDA:\n",
    "# aplicar transformaciones a movies_df\n",
    "casted_movies_df = movies_df\\\n",
    "    .select(\n",
    "        f.trim(\"title\").alias(\"title\"),\n",
    "        f.split(f.col(\"genres\"), \"[|]\").alias(\"genres\"),\n",
    "        f.col(\"movieID\").alias(\"movie_id\")\n",
    "    )"
   ]
  },
  {
   "cell_type": "code",
   "execution_count": 4,
   "id": "9f2c765d-4197-4753-8447-071c1d31725d",
   "metadata": {},
   "outputs": [],
   "source": [
    "# TEST\n",
    "# casted_movies_df.show(1, False)"
   ]
  },
  {
   "cell_type": "code",
   "execution_count": 5,
   "id": "d8cc2506-da77-4383-9a13-180ee3d6b755",
   "metadata": {},
   "outputs": [
    {
     "name": "stdout",
     "output_type": "stream",
     "text": [
      "+----------------+-------------------------------------------------+--------+\n",
      "|title           |genres                                           |movie_id|\n",
      "+----------------+-------------------------------------------------+--------+\n",
      "|Toy Story (1995)|[Adventure, Animation, Children, Comedy, Fantasy]|1       |\n",
      "+----------------+-------------------------------------------------+--------+\n",
      "only showing top 1 row\n",
      "\n"
     ]
    },
    {
     "data": {
      "text/plain": [
       "'\\nEjemplo de salida esperada:\\n+----------------+-------------------------------------------------+--------+\\n|title           |genres                                           |movie_id|\\n+----------------+-------------------------------------------------+--------+\\n|Toy Story (1995)|[Adventure, Animation, Children, Comedy, Fantasy]|1       |\\n+----------------+-------------------------------------------------+--------+\\nonly showing top 1 row\\n'"
      ]
     },
     "execution_count": 5,
     "metadata": {},
     "output_type": "execute_result"
    }
   ],
   "source": [
    "# NO MODIFICAR EL CONTENIDO DE ESTA CELDA\n",
    "casted_movies_df.show(1, False)\n",
    "\"\"\"\n",
    "Ejemplo de salida esperada:\n",
    "+----------------+-------------------------------------------------+--------+\n",
    "|title           |genres                                           |movie_id|\n",
    "+----------------+-------------------------------------------------+--------+\n",
    "|Toy Story (1995)|[Adventure, Animation, Children, Comedy, Fantasy]|1       |\n",
    "+----------------+-------------------------------------------------+--------+\n",
    "only showing top 1 row\n",
    "\"\"\""
   ]
  },
  {
   "cell_type": "code",
   "execution_count": 6,
   "id": "6a0e22f7-2993-4752-86e1-7cfcd9c62368",
   "metadata": {},
   "outputs": [],
   "source": [
    "# NO MODIFICAR EL CONTENIDO DE ESTA CELDA\n",
    "assert \"movie_id\" in casted_movies_df.columns\n",
    "assert \"title\" in casted_movies_df.columns\n",
    "assert \"genres\" in casted_movies_df.columns\n",
    "assert len(casted_movies_df.columns) == 3\n",
    "\n",
    "casted_movies_df = casted_movies_df.select(\"movie_id\", \"title\", \"genres\")\n",
    "assert schema_to_ddl(spark, casted_movies_df) == 'movie_id STRING,title STRING,genres ARRAY<STRING>'"
   ]
  },
  {
   "cell_type": "markdown",
   "id": "d5b63ef2-8775-4be7-bf2f-d1917cf74134",
   "metadata": {},
   "source": [
    "#### Actividad 2:\n",
    "##### TO DO ->    Para el dataframe \"ratings_df\":\n",
    "- ##### Renombra la columna \"movieId\" por \"movie_id\"\n",
    "- ##### Renombra la columna \"userId\" por \"user_id\"\n",
    "- ##### Castea la columna \"rating\" a formato double.\n",
    "- ##### Convierte la columna \"timestamp\" a formato TimeStampType con formato logico yyyy-MM-dd HH:mm:ss, la nueva columna generada será \"time\". \n",
    "    - Utiliza la función: timestamp_seconds de Spark -> https://spark.apache.org/docs/latest/api/python/reference/pyspark.sql/api/pyspark.sql.functions.timestamp_seconds.html#pyspark.sql.functions.timestamp_seconds\n",
    "- ##### Elimina la columna \"timestamp\"\n",
    "##### NO UTILIZAR withColumn NI withColumnRenamed"
   ]
  },
  {
   "cell_type": "code",
   "execution_count": 7,
   "id": "ec962a59-7015-47bf-beeb-9801e16b9930",
   "metadata": {},
   "outputs": [],
   "source": [
    "## TU CODIGO VA EN ESTA CELDA:\n",
    "# aplicar transformaciones a ratings_df\n",
    "casted_ratings_df = ratings_df\\\n",
    "    .select(\n",
    "        f.col(\"movieId\").alias(\"movie_id\"),\n",
    "        f.col(\"userId\").alias(\"user_id\"),\n",
    "        f.col(\"rating\").cast(t.DoubleType()),\n",
    "        f.timestamp_seconds(f.col(\"timestamp\").cast(t.IntegerType())).alias(\"time\")\n",
    "    )\\\n",
    "    .drop(\"timestamp\")"
   ]
  },
  {
   "cell_type": "code",
   "execution_count": 8,
   "id": "9b741848-07d8-43be-9431-9720e7f2a1c8",
   "metadata": {},
   "outputs": [
    {
     "name": "stdout",
     "output_type": "stream",
     "text": [
      "+--------+-------+------+-------------------+\n",
      "|movie_id|user_id|rating|               time|\n",
      "+--------+-------+------+-------------------+\n",
      "|       1|      1|   4.0|2008-11-03 11:52:19|\n",
      "+--------+-------+------+-------------------+\n",
      "only showing top 1 row\n",
      "\n",
      "root\n",
      " |-- movie_id: string (nullable = true)\n",
      " |-- user_id: string (nullable = true)\n",
      " |-- rating: double (nullable = true)\n",
      " |-- time: timestamp (nullable = true)\n",
      "\n"
     ]
    }
   ],
   "source": [
    "# TEST\n",
    "casted_ratings_df.show(1)\n",
    "casted_ratings_df.printSchema()"
   ]
  },
  {
   "cell_type": "code",
   "execution_count": 9,
   "id": "b44a4e0c-e6ae-41be-9010-51d705e3bcf9",
   "metadata": {},
   "outputs": [
    {
     "name": "stdout",
     "output_type": "stream",
     "text": [
      "+--------+-------+------+-------------------+\n",
      "|movie_id|user_id|rating|               time|\n",
      "+--------+-------+------+-------------------+\n",
      "|       1|      1|   4.0|2008-11-03 11:52:19|\n",
      "+--------+-------+------+-------------------+\n",
      "only showing top 1 row\n",
      "\n"
     ]
    },
    {
     "data": {
      "text/plain": [
       "'\\nEjemplo de salida esperada:\\n+-------+--------+------+-------------------+\\n|user_id|movie_id|rating|               time|\\n+-------+--------+------+-------------------+\\n|      1|       1|   4.0|2008-11-03 11:52:19|\\n+-------+--------+------+-------------------+\\nonly showing top 1 row\\n'"
      ]
     },
     "execution_count": 9,
     "metadata": {},
     "output_type": "execute_result"
    }
   ],
   "source": [
    "# NO MODIFICAR EL CONTENIDO DE ESTA CELDA\n",
    "casted_ratings_df.show(1)\n",
    "\"\"\"\n",
    "Ejemplo de salida esperada:\n",
    "+-------+--------+------+-------------------+\n",
    "|user_id|movie_id|rating|               time|\n",
    "+-------+--------+------+-------------------+\n",
    "|      1|       1|   4.0|2008-11-03 11:52:19|\n",
    "+-------+--------+------+-------------------+\n",
    "only showing top 1 row\n",
    "\"\"\""
   ]
  },
  {
   "cell_type": "code",
   "execution_count": null,
   "id": "2a9b56b0-26a4-4318-aed3-12cafd2e1fa1",
   "metadata": {},
   "outputs": [],
   "source": []
  },
  {
   "cell_type": "code",
   "execution_count": 10,
   "id": "c81e64b1-251a-4bfb-9c15-480c0cd921a9",
   "metadata": {},
   "outputs": [],
   "source": [
    "# NO MODIFICAR EL CONTENIDO DE ESTA CELDA\n",
    "assert \"user_id\" in casted_ratings_df.columns\n",
    "assert \"movie_id\" in casted_ratings_df.columns\n",
    "assert \"rating\" in casted_ratings_df.columns\n",
    "assert \"time\" in casted_ratings_df.columns\n",
    "assert len(casted_ratings_df.columns) == 4\n",
    "\n",
    "casted_ratings_df = casted_ratings_df.select(\"user_id\" ,\"movie_id\", \"rating\", \"time\")\n",
    "\n",
    "assert schema_to_ddl(spark, casted_ratings_df) == 'user_id STRING,movie_id STRING,rating DOUBLE,time TIMESTAMP'"
   ]
  },
  {
   "cell_type": "markdown",
   "id": "7e7efd40-ef6d-4f29-ad8e-1987cf1355ae",
   "metadata": {},
   "source": [
    "#### Actividad 3:\n",
    "##### TO DO ->    Para el dataframe \"ratings_df\":\n",
    "- ##### Renombra la columna \"movieId\" por \"movie_id\"\n",
    "- ##### Renombra la columna \"userId\" por \"user_id\"\n",
    "- ##### Convierte la columna \"timestamp\" a formato TimeStampType con formato logico yyyy-MM-dd HH:mm:ss, la nueva columna generada será \"time\". \n",
    "    - ##### Utiliza la función: from_unixtime -> https://spark.apache.org/docs/latest/api/python/reference/pyspark.sql/api/pyspark.sql.functions.from_unixtime.html#pyspark.sql.functions.from_unixtime\n",
    "- ##### Elimina la columna \"timestamp\"\n",
    "##### NO UTILIZAR withColumn NI withColumnRenamed"
   ]
  },
  {
   "cell_type": "code",
   "execution_count": 11,
   "id": "9ecd6520-673f-4cb4-8862-781e5dbb5b7f",
   "metadata": {},
   "outputs": [],
   "source": [
    "def difference(l1, l2):\n",
    "    return list(set(l1) - set(l2))"
   ]
  },
  {
   "cell_type": "code",
   "execution_count": 12,
   "id": "4f4f725e-bfcb-4ac9-b7f3-bf6ad18bb4bb",
   "metadata": {},
   "outputs": [],
   "source": [
    "## TU CODIGO VA EN ESTA CELDA:\n",
    "# aplicar transformaciones a tags_df\n",
    "casted_tags_df = tags_df\\\n",
    "    .select(\n",
    "        f.col(\"userId\").alias(\"user_id\"),\n",
    "        f.col(\"movieId\").alias(\"movie_id\"),\n",
    "        *difference(tags_df.columns, [\"movieId\",\"userId\",\"timestamp\"]),\n",
    "        f.from_unixtime(f.col(\"timestamp\"),\"yyyy-MM-dd HH:mm:ss\").cast(t.TimestampType()).alias(\"time\")\n",
    "    )"
   ]
  },
  {
   "cell_type": "code",
   "execution_count": 13,
   "id": "be2ae9af-7310-4830-886b-2c1497ffde93",
   "metadata": {},
   "outputs": [
    {
     "name": "stdout",
     "output_type": "stream",
     "text": [
      "+-------+--------+------+-------------------+\n",
      "|user_id|movie_id|   tag|               time|\n",
      "+-------+--------+------+-------------------+\n",
      "| 224183|     832|acting|2017-06-05 07:20:27|\n",
      "+-------+--------+------+-------------------+\n",
      "only showing top 1 row\n",
      "\n",
      "root\n",
      " |-- user_id: string (nullable = true)\n",
      " |-- movie_id: string (nullable = true)\n",
      " |-- tag: string (nullable = true)\n",
      " |-- time: timestamp (nullable = true)\n",
      "\n"
     ]
    }
   ],
   "source": [
    "# TEST\n",
    "casted_tags_df.show(1)\n",
    "casted_tags_df.printSchema()"
   ]
  },
  {
   "cell_type": "code",
   "execution_count": 14,
   "id": "c01bf3a1-f438-46e8-ae8d-05f56e451f3d",
   "metadata": {},
   "outputs": [
    {
     "name": "stdout",
     "output_type": "stream",
     "text": [
      "+-------+--------+------+-------------------+\n",
      "|user_id|movie_id|   tag|               time|\n",
      "+-------+--------+------+-------------------+\n",
      "| 224183|     832|acting|2017-06-05 07:20:27|\n",
      "+-------+--------+------+-------------------+\n",
      "only showing top 1 row\n",
      "\n"
     ]
    },
    {
     "data": {
      "text/plain": [
       "'\\nEjemplo de salida esperada:\\n+-------+--------+------+-------------------+\\n|user_id|movie_id|   tag|               time|\\n+-------+--------+------+-------------------+\\n| 224183|     832|acting|2017-06-05 07:20:27|\\n+-------+--------+------+-------------------+\\nonly showing top 1 row\\n'"
      ]
     },
     "execution_count": 14,
     "metadata": {},
     "output_type": "execute_result"
    }
   ],
   "source": [
    "# NO MODIFICAR EL CONTENIDO DE ESTA CELDA\n",
    "casted_tags_df.show(1)\n",
    "\"\"\"\n",
    "Ejemplo de salida esperada:\n",
    "+-------+--------+------+-------------------+\n",
    "|user_id|movie_id|   tag|               time|\n",
    "+-------+--------+------+-------------------+\n",
    "| 224183|     832|acting|2017-06-05 07:20:27|\n",
    "+-------+--------+------+-------------------+\n",
    "only showing top 1 row\n",
    "\"\"\""
   ]
  },
  {
   "cell_type": "code",
   "execution_count": 15,
   "id": "1ea12132-1816-463c-8a20-1d60514e4958",
   "metadata": {},
   "outputs": [
    {
     "name": "stdout",
     "output_type": "stream",
     "text": [
      "root\n",
      " |-- user_id: string (nullable = true)\n",
      " |-- movie_id: string (nullable = true)\n",
      " |-- tag: string (nullable = true)\n",
      " |-- time: timestamp (nullable = true)\n",
      "\n"
     ]
    }
   ],
   "source": [
    "casted_tags_df.printSchema()"
   ]
  },
  {
   "cell_type": "code",
   "execution_count": 16,
   "id": "c9ac0cb1-044e-407e-b437-1e6cf4b56550",
   "metadata": {},
   "outputs": [],
   "source": [
    "# NO MODIFICAR EL CONTENIDO DE ESTA CELDA\n",
    "assert \"user_id\" in casted_tags_df.columns\n",
    "assert \"movie_id\" in casted_tags_df.columns\n",
    "assert \"tag\" in casted_tags_df.columns\n",
    "assert \"time\" in casted_tags_df.columns\n",
    "assert len(casted_tags_df.columns) == 4\n",
    "\n",
    "casted_tags_df = casted_tags_df.select(\"user_id\" ,\"movie_id\", \"tag\", \"time\")\n",
    "\n",
    "assert schema_to_ddl(spark, casted_tags_df) == 'user_id STRING,movie_id STRING,tag STRING,time TIMESTAMP'"
   ]
  },
  {
   "cell_type": "markdown",
   "id": "9e2de495-d55c-44a6-99ea-d997ab41e500",
   "metadata": {},
   "source": [
    "#### Actividad 4:\n",
    "##### TO DO ->    Para el dataframe resultante de la actividad 1 (casted_movies_df) aplica la siguiente regla de negocio:\n",
    "- ##### Agrega una columna llamada \"year\" de tipo IntegerType() de acuerdo a las siguientes condiciones:\n",
    "    - ##### Si la columna \"title\" termina con la expresión regular \"\\\\([0-9]{4}\\\\\\)\\\\$\" extraer 4 carácteres desde la posición -5\n",
    "    - ##### Si la columna \"title\" termina con la expresión regular '\\\\([0-9]{4}\\\\\\)\"\\\\$' extraer 4 carácteres desde la posición -6\n",
    "    - ##### En cualquier otro caso mantener un valor null\n",
    "    - Utiliza la función substring -> https://spark.apache.org/docs/latest/api/python/reference/pyspark.sql/api/pyspark.sql.functions.substring.html#pyspark.sql.functions.substring\n",
    "    - Adicional necesitarás revisar la siguiente fucion de la clase Column: rlike -> https://spark.apache.org/docs/latest/api/python//reference/pyspark.sql/api/pyspark.sql.Column.rlike.html\n",
    "        - ##### Para validar qué hace cada expresión regular puedes utilizar https://regex101.com/ o https://regexr.com/ y hacer pruebas con los textos:\n",
    "            - ##### Toy Story (1995)\n",
    "            - ##### \"\"\"Great Performances\"\" Cats (1998)\"\n",
    "- ##### Filtra todos los registros que no contengan el valor \"(no genres listed)\" dentro de la columna \"genres\"\n",
    "    - Utiliza la función  array_contains -> https://spark.apache.org/docs/latest/api/python/reference/pyspark.sql/api/pyspark.sql.functions.array_contains.html#pyspark.sql.functions.array_contains\n",
    "##### NO UTILIZAR withColumn NI withColumnRenamed"
   ]
  },
  {
   "cell_type": "raw",
   "id": "0c2554cb-5a0a-4bb5-9eed-1c94a094f457",
   "metadata": {},
   "source": [
    "Expresion regular 1: pyspark -> \"\\([0-9]{4}\\)$\"    spark -> \"\\\\([0-9]{4}\\\\)$\"\n",
    "Expresion regular 2: pyspark -> '\\([0-9]{4}\\)\"$'   spark -> \"\\\\([0-9]{4}\\\\)\\\"$\""
   ]
  },
  {
   "cell_type": "code",
   "execution_count": 17,
   "id": "663f5aa8-e893-416a-b7d1-fbc2ceca9578",
   "metadata": {},
   "outputs": [
    {
     "name": "stdout",
     "output_type": "stream",
     "text": [
      "+--------+----------------+-------------------------------------------------+\n",
      "|movie_id|title           |genres                                           |\n",
      "+--------+----------------+-------------------------------------------------+\n",
      "|1       |Toy Story (1995)|[Adventure, Animation, Children, Comedy, Fantasy]|\n",
      "+--------+----------------+-------------------------------------------------+\n",
      "only showing top 1 row\n",
      "\n"
     ]
    }
   ],
   "source": [
    "casted_movies_df.show(1, False)"
   ]
  },
  {
   "cell_type": "code",
   "execution_count": 18,
   "id": "cfcf5135-b42d-4a64-81fa-11dfa315dc1a",
   "metadata": {},
   "outputs": [],
   "source": [
    "## TU CODIGO VA EN ESTA CELDA:\n",
    "# aplicar transformaciones a casted_movies_df\n",
    "transformed_movies_df = casted_movies_df\\\n",
    "    .select(\n",
    "        *difference(casted_movies_df.columns, \"\"),\n",
    "        f.when(f.col(\"title\").rlike(\"\\([0-9]{4}\\)$\"), f.substring(f.col(\"title\"), -5, 4))\n",
    "            .when(f.col(\"title\").rlike('\\([0-9]{4}\\)\"$'), f.substring(f.col(\"title\"), -6, 4))\n",
    "            .otherwise(f.lit(\"null\")).cast(t.IntegerType()).alias(\"year\")\n",
    "    )\\\n",
    "    .filter(~f.array_contains(f.col(\"genres\"), \"(no genres listed)\"))"
   ]
  },
  {
   "cell_type": "code",
   "execution_count": 19,
   "id": "0ebd2702-cd9d-48ff-9a6a-2d4e7477ab50",
   "metadata": {},
   "outputs": [
    {
     "name": "stdout",
     "output_type": "stream",
     "text": [
      "+-----------------------+--------+-------------------------------------------------+----+\n",
      "|title                  |movie_id|genres                                           |year|\n",
      "+-----------------------+--------+-------------------------------------------------+----+\n",
      "|Toy Story (1995)       |1       |[Adventure, Animation, Children, Comedy, Fantasy]|1995|\n",
      "|Jumanji (1995)         |2       |[Adventure, Children, Fantasy]                   |1995|\n",
      "|Grumpier Old Men (1995)|3       |[Comedy, Romance]                                |1995|\n",
      "+-----------------------+--------+-------------------------------------------------+----+\n",
      "only showing top 3 rows\n",
      "\n",
      "root\n",
      " |-- title: string (nullable = true)\n",
      " |-- movie_id: string (nullable = true)\n",
      " |-- genres: array (nullable = true)\n",
      " |    |-- element: string (containsNull = false)\n",
      " |-- year: integer (nullable = true)\n",
      "\n"
     ]
    }
   ],
   "source": [
    "# Test:\n",
    "transformed_movies_df.show(3, False)\n",
    "transformed_movies_df.printSchema()"
   ]
  },
  {
   "cell_type": "code",
   "execution_count": 20,
   "id": "af3fd4da-f616-4647-a9fb-c159326521a2",
   "metadata": {},
   "outputs": [
    {
     "name": "stdout",
     "output_type": "stream",
     "text": [
      "+----------------+--------+--------------------+----+\n",
      "|           title|movie_id|              genres|year|\n",
      "+----------------+--------+--------------------+----+\n",
      "|Toy Story (1995)|       1|[Adventure, Anima...|1995|\n",
      "+----------------+--------+--------------------+----+\n",
      "only showing top 1 row\n",
      "\n"
     ]
    },
    {
     "data": {
      "text/plain": [
       "'\\nEjemplo de salida esperada:\\n+--------+----------------+--------------------+----+\\n|movie_id|           title|              genres|year|\\n+--------+----------------+--------------------+----+\\n|       1|Toy Story (1995)|[Adventure, Anima...|1995|\\n+--------+----------------+--------------------+----+\\nonly showing top 1 row\\n'"
      ]
     },
     "execution_count": 20,
     "metadata": {},
     "output_type": "execute_result"
    }
   ],
   "source": [
    "# NO MODIFICAR EL CONTENIDO DE ESTA CELDA\n",
    "transformed_movies_df.show(1)\n",
    "\"\"\"\n",
    "Ejemplo de salida esperada:\n",
    "+--------+----------------+--------------------+----+\n",
    "|movie_id|           title|              genres|year|\n",
    "+--------+----------------+--------------------+----+\n",
    "|       1|Toy Story (1995)|[Adventure, Anima...|1995|\n",
    "+--------+----------------+--------------------+----+\n",
    "only showing top 1 row\n",
    "\"\"\""
   ]
  },
  {
   "cell_type": "code",
   "execution_count": 21,
   "id": "b5224eda-aac4-400c-bfc0-6451dcda7f36",
   "metadata": {},
   "outputs": [],
   "source": [
    "# NO MODIFICAR EL CONTENIDO DE ESTA CELDA\n",
    "assert \"movie_id\" in transformed_movies_df.columns\n",
    "assert \"title\" in transformed_movies_df.columns\n",
    "assert \"genres\" in transformed_movies_df.columns\n",
    "assert \"year\" in transformed_movies_df.columns\n",
    "assert len(transformed_movies_df.columns) == 4\n",
    "\n",
    "transformed_movies_df = transformed_movies_df.select(\"movie_id\" ,\"title\", \"genres\", \"year\")\n",
    "\n",
    "assert schema_to_ddl(spark, transformed_movies_df) == 'movie_id STRING,title STRING,genres ARRAY<STRING>,year INT'\n",
    "\n",
    "assert transformed_movies_df.count() == 79477\n",
    "assert transformed_movies_df.filter(f.col(\"year\").isNull()).count() == 242\n",
    "assert transformed_movies_df.filter(f.col(\"year\").rlike(\"^[0-9]{4}$\")).count() == 79235"
   ]
  },
  {
   "cell_type": "code",
   "execution_count": 22,
   "id": "66df8125-9055-445b-8afe-aa8d123b8412",
   "metadata": {},
   "outputs": [],
   "source": [
    "# NO MODIFICAR EL CONTENIDO DE ESTA CELDA\n",
    "dfs = [(transformed_movies_df, \"06/movies\"),\n",
    "       (casted_tags_df, \"06/tags\"),\n",
    "       (casted_ratings_df, \"06/ratings\")]\n",
    "\n",
    "write_tmp_df(dfs)"
   ]
  },
  {
   "cell_type": "code",
   "execution_count": null,
   "id": "c9f077e7-179f-4550-a58e-fa1ff5794eef",
   "metadata": {},
   "outputs": [],
   "source": []
  }
 ],
 "metadata": {
  "kernelspec": {
   "display_name": "Python 3 (ipykernel)",
   "language": "python",
   "name": "python3"
  },
  "language_info": {
   "codemirror_mode": {
    "name": "ipython",
    "version": 3
   },
   "file_extension": ".py",
   "mimetype": "text/x-python",
   "name": "python",
   "nbconvert_exporter": "python",
   "pygments_lexer": "ipython3",
   "version": "3.9.13"
  }
 },
 "nbformat": 4,
 "nbformat_minor": 5
}
