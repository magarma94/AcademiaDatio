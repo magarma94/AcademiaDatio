{
 "cells": [
  {
   "cell_type": "markdown",
   "id": "38577af2-d648-4b03-82b5-f44adadae9b0",
   "metadata": {},
   "source": [
    "#### Hasta este punto tenemos nuestras tablas procesadas (movies, ratings y tags) de forma correcta. El cliente nos ha solicitado apoyar al departamento de Marketing a realizar algunas consultas y a generar una única tabla y realizar algunos ajustes a la tabla final antes de poder almacenarla.\n",
    "\n",
    "##### Nota: Para poder trabajar con este notebook es necesario haber terminado el ejercicio de la sesión 07"
   ]
  },
  {
   "cell_type": "code",
   "execution_count": 54,
   "id": "59c5e3c8-5689-4c7c-83d3-ec7b70d0e1ab",
   "metadata": {},
   "outputs": [
    {
     "data": {
      "text/html": [
       "<style>pre { white-space: pre !important; }</style>"
      ],
      "text/plain": [
       "<IPython.core.display.HTML object>"
      ]
     },
     "metadata": {},
     "output_type": "display_data"
    }
   ],
   "source": [
    "# NO MODIFICAR EL CONTENIDO DE ESTA CELDA\n",
    "%run utils.py"
   ]
  },
  {
   "cell_type": "code",
   "execution_count": 55,
   "id": "46f34787-67c5-4d2b-a592-4f29e250e95a",
   "metadata": {},
   "outputs": [
    {
     "name": "stdout",
     "output_type": "stream",
     "text": [
      "+--------+----------------+-------------------------------------------------+----+\n",
      "|movie_id|title           |genres                                           |year|\n",
      "+--------+----------------+-------------------------------------------------+----+\n",
      "|1       |Toy Story (1995)|[Adventure, Animation, Children, Comedy, Fantasy]|1995|\n",
      "+--------+----------------+-------------------------------------------------+----+\n",
      "only showing top 1 row\n",
      "\n",
      "+--------+----------+-------------+------------+-------------------+\n",
      "|movie_id|avg_rating|stddev_rating|count_rating|min_time_rating    |\n",
      "+--------+----------+-------------+------------+-------------------+\n",
      "|1049    |3.4       |0.97         |5816        |1996-10-10 03:58:19|\n",
      "+--------+----------+-------------+------------+-------------------+\n",
      "only showing top 1 row\n",
      "\n",
      "+--------+---------------------------------------------------------------------+-------------------+\n",
      "|movie_id|tag_count                                                            |min_time_tag       |\n",
      "+--------+---------------------------------------------------------------------+-------------------+\n",
      "|100001  |[{PERFORMANCE (MOVIE PLAY ETC) IN A MOVIE, 1}, {SILENT FILM STAR, 1}]|2018-05-18 01:40:21|\n",
      "+--------+---------------------------------------------------------------------+-------------------+\n",
      "only showing top 1 row\n",
      "\n"
     ]
    }
   ],
   "source": [
    "# NO MODIFICAR EL CONTENIDO DE ESTA CELDA\n",
    "from pyspark.sql import SparkSession, DataFrame, Column\n",
    "import pyspark.sql.functions as f\n",
    "import pyspark.sql.types as t\n",
    "\n",
    "# Creación de sesión de Spark\n",
    "spark = SparkSession.builder \\\n",
    "    .master(\"local[*]\") \\\n",
    "    .appName(\"ejercicio_8\") \\\n",
    "    .getOrCreate()\n",
    "\n",
    "# Carga de tablas requeridas\n",
    "root_path = \"../resources/data/tmp/parquet/\"\n",
    "names_list = [\"07/movies\", \"07/ratings\", \"07/tags_p2\"]\n",
    "df_dict = read_tmp_df(spark, names_list)\n",
    "\n",
    "movies_df = df_dict[\"07/movies\"]\n",
    "ratings_df = df_dict[\"07/ratings\"]\n",
    "tags_df = df_dict[\"07/tags_p2\"]\n",
    "\n",
    "movies_df.show(1, False)\n",
    "ratings_df.show(1, False)\n",
    "tags_df.show(1, False)"
   ]
  },
  {
   "cell_type": "markdown",
   "id": "4e71d4d1-826a-4993-bc6e-ee87939e3525",
   "metadata": {},
   "source": [
    "#### En la siguiente imagen se muestra una representación a traves del diagrama de Venn sobre cada tabla (movies_df, ratings_df y tags_df) la cual fue contruida por el departamento de Marketing, el problema es que no saben la cantidad de datos de cada conjunto.\n",
    "##### El cliente nos han solicitado obtener la cantidad de registros de cada conjunto de datos representado por las siguientes letras:\n",
    "- ##### A: Registros de movies_df que no tiene filas coincidentes con las tablas ratings_df y tags_df\n",
    "- ##### B: Registros de ratings_df que no tiene filas coincidentes con las tablas movies_df y tags_df\n",
    "- ##### C: Registros de tags_df que no tiene filas coincidentes con las tablas movies_df y ratings_df\n",
    "- ##### D: Registros de movies_df y ratings_df que no tiene filas coincidentes con la tabla tags_df\n",
    "- ##### E: Registros de movies_df y tags_df que no tiene filas coincidentes con la tabla ratings_df\n",
    "- ##### F: Registros de ratings_df y tags_df que no tiene filas coincidentes con la tabla movies_df\n",
    "- ##### G: Registros que contiene datos coincidentes en las tablas movies_df, ratings_df y tags_df\n",
    "-  Una tabla tiene registros coincidentes con otra cuando comparten el mismo valor en la columna \"movie_id\"\n",
    "\n",
    "![title](../../resources/img/Tablas_conjuntos.png)"
   ]
  },
  {
   "cell_type": "markdown",
   "id": "ab07f716-9806-4388-ad1a-b0fa9f4266cf",
   "metadata": {},
   "source": [
    "#### Actividad 1:\n",
    "##### TO DO ->    Obtener los conjuntos de datos listados en el diagrama de Venn con operaciones de tipo join, con la finalidad de ahorrar recursos el cliente nos ha solicitado que en la salida de cada transformación el dataframe resultante contenga únicamente la columna \"movie_id\" (basta con utilizar únicante una transformación select al inicio de las operaciones join y utilizar únicamente joins del tipo **left_semi** y **left_anti**).\n",
    "- ##### Los dataframes resultantes se almacenarán en las siguientes variables:\n",
    "    - ##### A_df -> Conjunto A\n",
    "    - ##### B_df -> Conjunto B\n",
    "    - ##### C_df -> Conjunto C\n",
    "    - ##### D_df -> Conjunto D\n",
    "    - ##### E_df -> Conjunto E\n",
    "    - ##### F_df -> Conjunto F\n",
    "    - ##### G_df -> Conjunto G"
   ]
  },
  {
   "cell_type": "code",
   "execution_count": 56,
   "id": "e24ff5f0-b95e-424b-8180-1866b0baaada",
   "metadata": {},
   "outputs": [],
   "source": [
    "# Método para conjuntos A, B y C:\n",
    "def operacion_conjuntos_caso1(df1,df2,df3):\n",
    "    df1_join_df2 = df1.select(\"movie_id\").join(df2,[\"movie_id\"],\"left_semi\")\n",
    "    df1_join_df3 = df1.select(\"movie_id\").join(df3,[\"movie_id\"],\"left_semi\")\n",
    "    resta_joins_df1jdf2_df1jdf3 = df1.select(\"movie_id\")\\\n",
    "        .join(df1_join_df2,[\"movie_id\"],\"left_anti\")\\\n",
    "        .join(df1_join_df3,[\"movie_id\"],\"left_anti\")\n",
    "    return resta_joins_df1jdf2_df1jdf3"
   ]
  },
  {
   "cell_type": "code",
   "execution_count": 57,
   "id": "d49d7550-3472-4323-b4aa-7f76a7498de1",
   "metadata": {},
   "outputs": [
    {
     "name": "stdout",
     "output_type": "stream",
     "text": [
      "+--------+\n",
      "|movie_id|\n",
      "+--------+\n",
      "+--------+\n",
      "\n",
      "0\n"
     ]
    }
   ],
   "source": [
    "# Conjunto A:\n",
    "caso_a = operacion_conjuntos_caso1(movies_df,ratings_df,tags_df)\n",
    "caso_a.show()\n",
    "print(caso_a.count())"
   ]
  },
  {
   "cell_type": "code",
   "execution_count": 58,
   "id": "0ace34bb-4fd3-431a-91f4-2376e5cd5fee",
   "metadata": {},
   "outputs": [],
   "source": [
    "# Método para conjuntos D, E y F:\n",
    "def operacion_conjuntos_caso2(df1,df2,df3):\n",
    "    df1_join_df2 = df1.select(\"movie_id\").join(df2,[\"movie_id\"],\"left_semi\")\n",
    "    resta_joins_df1jdf2 = df1_join_df2.select(\"movie_id\").join(df3,[\"movie_id\"],\"left_anti\")\n",
    "    return resta_joins_df1jdf2"
   ]
  },
  {
   "cell_type": "code",
   "execution_count": 59,
   "id": "ace1c45c-4744-4171-8048-84c1b4a2f972",
   "metadata": {},
   "outputs": [
    {
     "name": "stdout",
     "output_type": "stream",
     "text": [
      "+--------+\n",
      "|movie_id|\n",
      "+--------+\n",
      "|      51|\n",
      "+--------+\n",
      "only showing top 1 row\n",
      "\n",
      "28815\n"
     ]
    }
   ],
   "source": [
    "# Conjunto D:\n",
    "caso_d = operacion_conjuntos_caso2(movies_df,ratings_df,tags_df)\n",
    "caso_d.show(1)\n",
    "print(caso_d.count())"
   ]
  },
  {
   "cell_type": "code",
   "execution_count": 60,
   "id": "caf10a8a-ecc0-4cec-95c8-61cb5c634576",
   "metadata": {},
   "outputs": [],
   "source": [
    "# Método para conjunto G:\n",
    "def operacion_conjuntos_caso3(df1,df2,df3):\n",
    "    df1_join_df2 = df1.select(\"movie_id\").join(df2,[\"movie_id\"],\"left_semi\")\n",
    "    df1jdf2_join_df3 = df1_join_df2.select(\"movie_id\").join(df3,[\"movie_id\"],\"left_semi\")\n",
    "    return df1jdf2_join_df3"
   ]
  },
  {
   "cell_type": "code",
   "execution_count": 61,
   "id": "817e37de-2136-4e7f-adc7-432e21d78c43",
   "metadata": {},
   "outputs": [
    {
     "name": "stdout",
     "output_type": "stream",
     "text": [
      "+--------+\n",
      "|movie_id|\n",
      "+--------+\n",
      "|       1|\n",
      "+--------+\n",
      "only showing top 1 row\n",
      "\n",
      "47903\n"
     ]
    }
   ],
   "source": [
    "# Conjunto G:\n",
    "caso_g = operacion_conjuntos_caso3(movies_df,ratings_df,tags_df)\n",
    "caso_g.show(1)\n",
    "print(caso_g.count())"
   ]
  },
  {
   "cell_type": "code",
   "execution_count": 62,
   "id": "4a5bb862-0181-4a7e-86bd-1611fe915f66",
   "metadata": {},
   "outputs": [],
   "source": [
    "## TU CODIGO VA EN ESTA CELDA:\n",
    "\n",
    "# Conjunto A:\n",
    "... # aplicar transformaciones join a movies_df, ratings_df y tags_df\n",
    "A_df = operacion_conjuntos_caso1(movies_df,ratings_df,tags_df)\n",
    "    \n",
    "# Conjunto B:\n",
    "... # aplicar transformaciones join a movies_df, ratings_df y tags_df\n",
    "B_df = operacion_conjuntos_caso1(ratings_df,movies_df,tags_df)\n",
    "\n",
    "# Conjunto C:\n",
    "... # aplicar transformaciones join a movies_df, ratings_df y tags_df\n",
    "C_df = operacion_conjuntos_caso1(tags_df,movies_df,ratings_df)\n",
    "\n",
    "# Conjunto D:\n",
    "... # aplicar transformaciones join a movies_df, ratings_df y tags_df\n",
    "D_df = operacion_conjuntos_caso2(movies_df,ratings_df,tags_df)\n",
    "\n",
    "# Conjunto E:\n",
    "... # aplicar transformaciones join a movies_df, ratings_df y tags_df\n",
    "E_df = operacion_conjuntos_caso2(movies_df,tags_df,ratings_df)\n",
    "\n",
    "# Conjunto F:\n",
    "... # aplicar transformaciones join a movies_df, ratings_df y tags_df\n",
    "F_df = operacion_conjuntos_caso2(ratings_df,tags_df,movies_df)\n",
    "\n",
    "# Conjunto G:\n",
    "... # aplicar transformaciones join a movies_df, ratings_df y tags_df\n",
    "G_df = operacion_conjuntos_caso3(movies_df,ratings_df,tags_df)\n"
   ]
  },
  {
   "cell_type": "code",
   "execution_count": 63,
   "id": "1f75654c-f84e-4c13-83f2-445301d53f22",
   "metadata": {},
   "outputs": [
    {
     "name": "stdout",
     "output_type": "stream",
     "text": [
      "+--------+\n",
      "|movie_id|\n",
      "+--------+\n",
      "|  179995|\n",
      "+--------+\n",
      "only showing top 1 row\n",
      "\n"
     ]
    },
    {
     "data": {
      "text/plain": [
       "'\\nEjemplo de salida de cada dataframe (desde A hasta G):\\n+--------+\\n|movie_id|\\n+--------+\\n|  179995|\\n+--------+\\nonly showing top 1 row\\n'"
      ]
     },
     "execution_count": 63,
     "metadata": {},
     "output_type": "execute_result"
    }
   ],
   "source": [
    "# NO MODIFICAR EL CONTENIDO DE ESTA CELDA\n",
    "B_df.show(1)\n",
    "\"\"\"\n",
    "Ejemplo de salida de cada dataframe (desde A hasta G):\n",
    "+--------+\n",
    "|movie_id|\n",
    "+--------+\n",
    "|  179995|\n",
    "+--------+\n",
    "only showing top 1 row\n",
    "\"\"\""
   ]
  },
  {
   "cell_type": "code",
   "execution_count": 64,
   "id": "bec544e2-6d98-427f-a16a-f74588d26ef0",
   "metadata": {},
   "outputs": [],
   "source": [
    "# NO MODIFICAR EL CONTENIDO DE ESTA CELDA\n",
    "\n",
    "assert A_df.count() == 0\n",
    "assert B_df.count() == 4270\n",
    "assert C_df.count() == 539\n",
    "assert D_df.count() == 28815\n",
    "assert E_df.count() == 2759\n",
    "assert F_df.count() == 2251\n",
    "assert G_df.count() == 47903\n",
    "\n",
    "assert len(A_df.columns) == 1\n",
    "assert len(B_df.columns) == 1\n",
    "assert len(C_df.columns) == 1\n",
    "assert len(D_df.columns) == 1\n",
    "assert len(E_df.columns) == 1\n",
    "assert len(F_df.columns) == 1\n",
    "assert len(G_df.columns) == 1\n",
    "\n",
    "assert \"movie_id\" in A_df.columns\n",
    "assert \"movie_id\" in B_df.columns\n",
    "assert \"movie_id\" in C_df.columns\n",
    "assert \"movie_id\" in D_df.columns\n",
    "assert \"movie_id\" in E_df.columns\n",
    "assert \"movie_id\" in F_df.columns\n",
    "assert \"movie_id\" in G_df.columns"
   ]
  },
  {
   "cell_type": "markdown",
   "id": "4b63eaf5-b3fe-4166-93c7-7477a3c38748",
   "metadata": {},
   "source": [
    "#### Actividad 2:\n",
    "##### TO DO ->    Algunos administradores de base de datos no comprenden el uso de los joins de tipo left_semi y left_anti, por lo tanto el cliente ha solicitado que tambien se realicen las transformaciones con cualquiera de los siguientes tipos de join: **left, right, inner, outer** (no utilizar left_semi o left_anti). Podrías utilizar la transformación filter/where en algunos casos.\n",
    "##### No existe alguna reestricción de qué columnas contiene el dataframe de salida.\n",
    "- ##### Los dataframes resultantes se almacenarán en las siguientes variables:\n",
    "    - ##### A_df -> Conjunto A\n",
    "    - ##### B_df -> Conjunto B\n",
    "    - ##### C_df -> Conjunto C\n",
    "    - ##### D_df -> Conjunto D\n",
    "    - ##### E_df -> Conjunto E\n",
    "    - ##### F_df -> Conjunto F\n",
    "    - ##### G_df -> Conjunto G"
   ]
  },
  {
   "cell_type": "code",
   "execution_count": 65,
   "id": "a3f0bf41-a178-4935-b308-8ad2512975c7",
   "metadata": {},
   "outputs": [],
   "source": [
    "# Operaciones de conjuntos pero sin usar left_semi ni left_anti:\n",
    "# Caso A, B y C con join left:\n",
    "def op_conj_1 (df1,df2,df3):\n",
    "    primera_union = df1.join(df2,[\"movie_id\"],\"left\")\n",
    "    segunda_union = primera_union.join(df3,[\"movie_id\"],\"left\")\n",
    "    coincidencias_filtro = segunda_union.filter(((df2.movie_id.isNull()) & (df3.movie_id.isNull())))\n",
    "    return coincidencias_filtro"
   ]
  },
  {
   "cell_type": "code",
   "execution_count": 66,
   "id": "d565106c-70ae-464a-ae23-10ed87bda2ed",
   "metadata": {},
   "outputs": [
    {
     "name": "stdout",
     "output_type": "stream",
     "text": [
      "+--------+--------------------+-------------------+-----+------+----+----------+-------------+------------+---------------+\n",
      "|movie_id|           tag_count|       min_time_tag|title|genres|year|avg_rating|stddev_rating|count_rating|min_time_rating|\n",
      "+--------+--------------------+-------------------+-----+------+----+----------+-------------+------------+---------------+\n",
      "|  123693|[{ARMED CONFLICT,...|2018-05-17 04:35:32| null|  null|null|      null|         null|        null|           null|\n",
      "|  123755|[{DRAMA, 1}, {MEL...|2018-05-17 04:36:12| null|  null|null|      null|         null|        null|           null|\n",
      "+--------+--------------------+-------------------+-----+------+----+----------+-------------+------------+---------------+\n",
      "only showing top 2 rows\n",
      "\n",
      "539\n"
     ]
    }
   ],
   "source": [
    "# Caso A, B y C:\n",
    "ej8_act2_caso_a = op_conj_1(movies_df,ratings_df,tags_df)\n",
    "ej8_act2_caso_b = op_conj_1(ratings_df,movies_df,tags_df)\n",
    "ej8_act2_caso_c = op_conj_1(tags_df, movies_df, ratings_df)\n",
    "ej8_act2_caso_c.show(2)\n",
    "print(ej8_act2_caso_c.count())\n",
    "# A = 0, B = 4270, C = 539"
   ]
  },
  {
   "cell_type": "code",
   "execution_count": 67,
   "id": "73ec0c2e-a92b-4d40-b4ac-d0f7b3294a16",
   "metadata": {},
   "outputs": [
    {
     "name": "stdout",
     "output_type": "stream",
     "text": [
      "+--------+----------------+--------------------+----+\n",
      "|movie_id|           title|              genres|year|\n",
      "+--------+----------------+--------------------+----+\n",
      "|       1|Toy Story (1995)|[Adventure, Anima...|1995|\n",
      "+--------+----------------+--------------------+----+\n",
      "only showing top 1 row\n",
      "\n",
      "+--------+----------+-------------+------------+-------------------+\n",
      "|movie_id|avg_rating|stddev_rating|count_rating|    min_time_rating|\n",
      "+--------+----------+-------------+------------+-------------------+\n",
      "|    1049|       3.4|         0.97|        5816|1996-10-10 03:58:19|\n",
      "+--------+----------+-------------+------------+-------------------+\n",
      "only showing top 1 row\n",
      "\n",
      "+--------+--------------------+-------------------+\n",
      "|movie_id|           tag_count|       min_time_tag|\n",
      "+--------+--------------------+-------------------+\n",
      "|  100001|[{PERFORMANCE (MO...|2018-05-18 01:40:21|\n",
      "+--------+--------------------+-------------------+\n",
      "only showing top 1 row\n",
      "\n"
     ]
    }
   ],
   "source": [
    "movies_df.show(1)\n",
    "ratings_df.show(1)\n",
    "tags_df.show(1)"
   ]
  },
  {
   "cell_type": "code",
   "execution_count": 68,
   "id": "6290f639-26cd-41d3-a68f-df21c635beec",
   "metadata": {},
   "outputs": [],
   "source": [
    "# Caso D, E y F:\n",
    "def op_conj_2(df1,df2,df3):\n",
    "    union_uno = df1.join(df3,[\"movie_id\"],\"left\")\n",
    "    union_dos = df2.join(df3,[\"movie_id\"],\"left\")\n",
    "    filtro_uno = union_uno.filter(df3.movie_id.isNull()).select(df1.columns)\n",
    "    filtro_dos = union_dos.filter(df3.movie_id.isNull()).select(df2.columns)\n",
    "    union_final = filtro_uno.join(filtro_dos,[\"movie_id\"],\"inner\")\n",
    "    return union_final"
   ]
  },
  {
   "cell_type": "code",
   "execution_count": 69,
   "id": "c1938c24-60fb-433e-8249-9b21fe5e3ba8",
   "metadata": {},
   "outputs": [
    {
     "name": "stdout",
     "output_type": "stream",
     "text": [
      "28815\n"
     ]
    }
   ],
   "source": [
    "# Caso D:\n",
    "ej8_act2_caso_d = op_conj_2(movies_df,ratings_df,tags_df)\n",
    "#ej8_act2_caso_d.show(2)\n",
    "print(ej8_act2_caso_d.count())\n",
    "# Esperado 28815"
   ]
  },
  {
   "cell_type": "code",
   "execution_count": 70,
   "id": "7f7f2075-2ab6-4321-be7f-954d9d8b666e",
   "metadata": {},
   "outputs": [
    {
     "name": "stdout",
     "output_type": "stream",
     "text": [
      "+--------+--------------------+--------------------+----+--------------------+-------------------+\n",
      "|movie_id|               title|              genres|year|           tag_count|       min_time_tag|\n",
      "+--------+--------------------+--------------------+----+--------------------+-------------------+\n",
      "|  124037|The Secret Bride ...|             [Drama]|1934|[{MURDER, 1}, {PO...|2020-11-21 01:34:28|\n",
      "|  138076|Diary of a Tired ...|[Comedy, Drama, R...|2009|[{INDEPENDENT FIL...|2018-05-17 04:54:58|\n",
      "+--------+--------------------+--------------------+----+--------------------+-------------------+\n",
      "only showing top 2 rows\n",
      "\n",
      "2759\n"
     ]
    }
   ],
   "source": [
    "# Caso E:\n",
    "caso_e_df = op_conj_2(movies_df,tags_df,ratings_df)\n",
    "caso_e_df.show(2)\n",
    "print(caso_e_df.count())\n",
    "# Esperado = 2759"
   ]
  },
  {
   "cell_type": "code",
   "execution_count": 71,
   "id": "f0ce6d9d-6cbc-4202-958d-5a9f9d5b2194",
   "metadata": {},
   "outputs": [
    {
     "name": "stdout",
     "output_type": "stream",
     "text": [
      "2251\n"
     ]
    }
   ],
   "source": [
    "# Caso F:\n",
    "caso_f_df = op_conj_2(ratings_df,tags_df,movies_df)\n",
    "#caso_f_df.show(2)\n",
    "print(caso_f_df.count())\n",
    "# Esperado = 2251"
   ]
  },
  {
   "cell_type": "code",
   "execution_count": 72,
   "id": "aaabf01f-4c41-4f29-9172-2ab8e9cb00ff",
   "metadata": {},
   "outputs": [],
   "source": [
    "#Caso G - Registros que contiene datos coincidentes en las tablas movies_df, ratings_df y tags_df:\n",
    "def op_conj_3(df1,df2,df3):\n",
    "    union_uno = df1.join(df2,[\"movie_id\"], \"inner\")\n",
    "    union_dos = union_uno.join(df3,[\"movie_id\"],\"inner\")\n",
    "    return union_dos"
   ]
  },
  {
   "cell_type": "code",
   "execution_count": 73,
   "id": "67168acc-f7c5-4289-b563-9708fea8db42",
   "metadata": {},
   "outputs": [
    {
     "name": "stdout",
     "output_type": "stream",
     "text": [
      "+--------+----------------+--------------------+----+----------+-------------+------------+-------------------+--------------------+-------------------+\n",
      "|movie_id|           title|              genres|year|avg_rating|stddev_rating|count_rating|    min_time_rating|           tag_count|       min_time_tag|\n",
      "+--------+----------------+--------------------+----+----------+-------------+------------+-------------------+--------------------+-------------------+\n",
      "|       1|Toy Story (1995)|[Adventure, Anima...|1995|      3.89|         0.93|       76813|1996-01-28 18:00:00|[{1990S, 1}, {200...|2006-01-12 19:19:35|\n",
      "|       2|  Jumanji (1995)|[Adventure, Child...|1995|      3.28|         0.96|       30209|1996-01-28 18:00:00|[{1860S, 1}, {196...|2006-01-13 14:14:30|\n",
      "+--------+----------------+--------------------+----+----------+-------------+------------+-------------------+--------------------+-------------------+\n",
      "only showing top 2 rows\n",
      "\n",
      "47903\n"
     ]
    }
   ],
   "source": [
    "# Caso G:\n",
    "ej8_act2_caso_g = op_conj_3(movies_df,ratings_df,tags_df)\n",
    "ej8_act2_caso_g.show(2)\n",
    "print(ej8_act2_caso_g.count())\n",
    "# Esperado = 47903"
   ]
  },
  {
   "cell_type": "code",
   "execution_count": 74,
   "id": "de35df75-5f96-4721-b9e2-1ae9d42f9bae",
   "metadata": {},
   "outputs": [],
   "source": [
    "## TU CODIGO VA EN ESTA CELDA:\n",
    "\n",
    "# Conjunto A:\n",
    "A_df = op_conj_1(movies_df,ratings_df,tags_df)\n",
    "# aplicar transformaciones join a movies_df, ratings_df y tags_df\n",
    "\n",
    "# Conjunto B:\n",
    "B_df = op_conj_1(ratings_df,movies_df,tags_df)\n",
    "# aplicar transformaciones join a movies_df, ratings_df y tags_df\n",
    "\n",
    "# Conjunto C:\n",
    "C_df = op_conj_1(tags_df,movies_df,ratings_df)\n",
    "# aplicar transformaciones join a movies_df, ratings_df y tags_df\n",
    "\n",
    "# Conjunto D:\n",
    "D_df = op_conj_2(movies_df,ratings_df,tags_df)\n",
    "# aplicar transformaciones join a movies_df, ratings_df y tags_df\n",
    "\n",
    "# Conjunto E:\n",
    "E_df = op_conj_2(movies_df,tags_df,ratings_df)\n",
    "# aplicar transformaciones join a movies_df, ratings_df y tags_df\n",
    "\n",
    "# Conjunto F:\n",
    "F_df = op_conj_2(ratings_df,tags_df,movies_df)\n",
    "# aplicar transformaciones join a movies_df, ratings_df y tags_df\n",
    "\n",
    "# Conjunto G:\n",
    "G_df = op_conj_3(movies_df,ratings_df,tags_df)\n",
    "# aplicar transformaciones join a movies_df, ratings_df y tags_df"
   ]
  },
  {
   "cell_type": "code",
   "execution_count": 75,
   "id": "d9ed8ee6-2c1e-435a-bef1-c617303b95e3",
   "metadata": {},
   "outputs": [],
   "source": [
    "# NO MODIFICAR EL CONTENIDO DE ESTA CELDA\n",
    "\n",
    "assert A_df.count() == 0\n",
    "assert B_df.count() == 4270\n",
    "assert C_df.count() == 539\n",
    "assert D_df.count() == 28815\n",
    "assert E_df.count() == 2759\n",
    "assert F_df.count() == 2251\n",
    "assert G_df.count() == 47903"
   ]
  },
  {
   "cell_type": "markdown",
   "id": "38c2a8be-795b-4217-b5ff-663d8ba63778",
   "metadata": {},
   "source": [
    "#### Actividad 3:\n",
    "##### TO DO ->    Con operaciones join genera un dataframe que contenga la union de todos los conjuntos (desde el A hasta el G) sin repetir registros. No utilices las transformaciones de union."
   ]
  },
  {
   "cell_type": "code",
   "execution_count": 76,
   "id": "7b868df7-e456-46d1-abc3-95a751a7aa17",
   "metadata": {},
   "outputs": [
    {
     "name": "stdout",
     "output_type": "stream",
     "text": [
      "+--------+----------------+--------------------+----+\n",
      "|movie_id|           title|              genres|year|\n",
      "+--------+----------------+--------------------+----+\n",
      "|       1|Toy Story (1995)|[Adventure, Anima...|1995|\n",
      "|       2|  Jumanji (1995)|[Adventure, Child...|1995|\n",
      "+--------+----------------+--------------------+----+\n",
      "only showing top 2 rows\n",
      "\n",
      "+--------+----------+-------------+------------+-------------------+\n",
      "|movie_id|avg_rating|stddev_rating|count_rating|    min_time_rating|\n",
      "+--------+----------+-------------+------------+-------------------+\n",
      "|    1049|       3.4|         0.97|        5816|1996-10-10 03:58:19|\n",
      "|     339|      3.51|         0.93|       26845|1996-03-01 02:23:00|\n",
      "+--------+----------+-------------+------------+-------------------+\n",
      "only showing top 2 rows\n",
      "\n",
      "+--------+--------------------+-------------------+\n",
      "|movie_id|           tag_count|       min_time_tag|\n",
      "+--------+--------------------+-------------------+\n",
      "|  100001|[{PERFORMANCE (MO...|2018-05-18 01:40:21|\n",
      "|  100048|[{BASED ON A TRUE...|2018-05-24 22:02:43|\n",
      "+--------+--------------------+-------------------+\n",
      "only showing top 2 rows\n",
      "\n"
     ]
    }
   ],
   "source": [
    "movies_df.show(2)\n",
    "ratings_df.show(2)\n",
    "tags_df.show(2)"
   ]
  },
  {
   "cell_type": "code",
   "execution_count": 77,
   "id": "60da4d60-6ed4-4eb2-a49e-c643f1097761",
   "metadata": {},
   "outputs": [],
   "source": [
    "def join_universo(df1,df2,df3):\n",
    "    join_df1df2 = df1.join(df2,[\"movie_id\"],\"outer\")\n",
    "    join_df1df2df3 = join_df1df2.join(df3,[\"movie_id\"],\"outer\")\n",
    "    return join_df1df2df3"
   ]
  },
  {
   "cell_type": "code",
   "execution_count": 78,
   "id": "b67f1758-8bb8-437c-a00e-9cdecb8780f7",
   "metadata": {},
   "outputs": [
    {
     "name": "stdout",
     "output_type": "stream",
     "text": [
      "+--------+--------------------+--------------------+----+----------+-------------+------------+-------------------+--------------------+-------------------+\n",
      "|movie_id|               title|              genres|year|avg_rating|stddev_rating|count_rating|    min_time_rating|           tag_count|       min_time_tag|\n",
      "+--------+--------------------+--------------------+----+----------+-------------+------------+-------------------+--------------------+-------------------+\n",
      "|  100062|My Way (Mai Wei) ...|[Action, Drama, War]|2011|      3.63|         0.83|          64|2014-03-11 21:23:33|[{FATE, 1}, {PRES...|2018-05-26 17:40:54|\n",
      "+--------+--------------------+--------------------+----+----------+-------------+------------+-------------------+--------------------+-------------------+\n",
      "only showing top 1 row\n",
      "\n",
      "86537\n"
     ]
    }
   ],
   "source": [
    "# TEST:\n",
    "TEST_val = join_universo(movies_df,ratings_df,tags_df)\n",
    "TEST_val.show(1)\n",
    "print(TEST_val.count())"
   ]
  },
  {
   "cell_type": "code",
   "execution_count": 79,
   "id": "2cc418dd-8cd1-4803-a439-0e7e5cf59437",
   "metadata": {},
   "outputs": [],
   "source": [
    "## TU CODIGO VA EN ESTA CELDA:\n",
    "# aplicar transformaciones join a movies_df, ratings_df y tags_df\n",
    "universe_df = join_universo(movies_df,ratings_df,tags_df)"
   ]
  },
  {
   "cell_type": "code",
   "execution_count": 80,
   "id": "39cc3bdb-d072-4a6b-bf85-eef22ce25394",
   "metadata": {},
   "outputs": [
    {
     "name": "stdout",
     "output_type": "stream",
     "text": [
      "+--------+--------------------+--------------------+----+----------+-------------+------------+-------------------+--------------------+-------------------+\n",
      "|movie_id|               title|              genres|year|avg_rating|stddev_rating|count_rating|    min_time_rating|           tag_count|       min_time_tag|\n",
      "+--------+--------------------+--------------------+----+----------+-------------+------------+-------------------+--------------------+-------------------+\n",
      "|  100062|My Way (Mai Wei) ...|[Action, Drama, War]|2011|      3.63|         0.83|          64|2014-03-11 21:23:33|[{FATE, 1}, {PRES...|2018-05-26 17:40:54|\n",
      "+--------+--------------------+--------------------+----+----------+-------------+------------+-------------------+--------------------+-------------------+\n",
      "only showing top 1 row\n",
      "\n"
     ]
    },
    {
     "data": {
      "text/plain": [
       "'\\nEjemplo de salida:\\n+--------+--------------------+--------------------+----+----------+-------------+------------+-------------------+--------------------+-------------------+\\n|movie_id|               title|              genres|year|avg_rating|stddev_rating|count_rating|    min_time_rating|           tag_count|       min_time_tag|\\n+--------+--------------------+--------------------+----+----------+-------------+------------+-------------------+--------------------+-------------------+\\n|  100062|My Way (Mai Wei) ...|[Action, Drama, War]|2011|      3.63|         0.83|          64|2014-03-11 21:23:33|[{PRESS-GANGED, 1...|2018-05-26 16:40:54|\\n+--------+--------------------+--------------------+----+----------+-------------+------------+-------------------+--------------------+-------------------+\\nonly showing top 1 row\\n'"
      ]
     },
     "execution_count": 80,
     "metadata": {},
     "output_type": "execute_result"
    }
   ],
   "source": [
    "# NO MODIFICAR EL CONTENIDO DE ESTA CELDA\n",
    "universe_df.show(1)\n",
    "\"\"\"\n",
    "Ejemplo de salida:\n",
    "+--------+--------------------+--------------------+----+----------+-------------+------------+-------------------+--------------------+-------------------+\n",
    "|movie_id|               title|              genres|year|avg_rating|stddev_rating|count_rating|    min_time_rating|           tag_count|       min_time_tag|\n",
    "+--------+--------------------+--------------------+----+----------+-------------+------------+-------------------+--------------------+-------------------+\n",
    "|  100062|My Way (Mai Wei) ...|[Action, Drama, War]|2011|      3.63|         0.83|          64|2014-03-11 21:23:33|[{PRESS-GANGED, 1...|2018-05-26 16:40:54|\n",
    "+--------+--------------------+--------------------+----+----------+-------------+------------+-------------------+--------------------+-------------------+\n",
    "only showing top 1 row\n",
    "\"\"\""
   ]
  },
  {
   "cell_type": "code",
   "execution_count": 81,
   "id": "325dfa01-26a2-48bc-ac05-aa5d660f3802",
   "metadata": {},
   "outputs": [],
   "source": [
    "# NO MODIFICAR EL CONTENIDO DE ESTA CELDA\n",
    "\n",
    "data = [Row(\n",
    "    movie_id='100062', \n",
    "    title='My Way (Mai Wei) (2011)', \n",
    "    genres=['Action', 'Drama', 'War'], \n",
    "    year=2011, \n",
    "    avg_rating=3.63, \n",
    "    stddev_rating=0.83, \n",
    "    count_rating=64, \n",
    "    min_time_rating=datetime.datetime(2014, 3, 11, 21, 23, 33), \n",
    "    tag_count=[\n",
    "        Row(tag='FATE', count=1),\n",
    "        Row(tag='PRESS-GANGED', count=1),\n",
    "        Row(tag='WAR', count=1),\n",
    "        Row(tag='WORLD WAR II', count=1)],\n",
    "    min_time_tag=datetime.datetime(2018, 5, 26, 16, 40, 54))]\n",
    "schema = t.StructType([\n",
    "    t.StructField(\"movie_id\", t.StringType()),\n",
    "    t.StructField(\"title\", t.StringType()),\n",
    "    t.StructField(\"genres\", t.ArrayType(t.StringType())),\n",
    "    t.StructField(\"year\", t.IntegerType()),\n",
    "    t.StructField(\"avg_rating\", t.DoubleType()),\n",
    "    t.StructField(\"stddev_rating\", t.DoubleType()),\n",
    "    t.StructField(\"count_rating\", t.LongType()),\n",
    "    t.StructField(\"min_time_rating\", t.TimestampType()),\n",
    "    t.StructField(\"tag_count\", t.ArrayType(t.StructType([\n",
    "        t.StructField(\"tag\", t.StringType()),\n",
    "        t.StructField(\"count\", t.LongType())\n",
    "    ]))),\n",
    "    t.StructField(\"min_time_tag\", t.TimestampType())\n",
    "])\n",
    "expected_df = spark.createDataFrame(data, schema)\n",
    "expected_columns = [\"movie_id\", \"title\", \"genres\", \"year\",\n",
    "                    \"avg_rating\", \"stddev_rating\", \"count_rating\",\n",
    "                    \"min_time_rating\", \"tag_count\", \"min_time_tag\"]\n",
    "\n",
    "assert universe_df.count() == 86537\n",
    "assert set(universe_df.columns) - set(expected_columns) == set()\n",
    "assert set(expected_columns) - set(universe_df.columns) == set()\n",
    "assert universe_df \\\n",
    "    .select(*expected_columns) \\\n",
    "    .filter(f.col(\"movie_id\") == \"100062\") \\\n",
    "    .subtract(expected_df).count() == 0"
   ]
  },
  {
   "cell_type": "markdown",
   "id": "adc31f99-4163-4721-b33d-b1ecdc8d4b05",
   "metadata": {},
   "source": [
    "#### Actividad 4:\n",
    "##### TO DO ->    La estructura del dataframe final de acuerdo al análisis realizado por marketing es el dado por la union del conjunto de datos: A, D, E y G. Realiza este proceso y almacena el dataframe resultante en la variable \"final_df\"\n",
    "##### "
   ]
  },
  {
   "cell_type": "code",
   "execution_count": 82,
   "id": "07cc598e-ad7b-4f26-922c-f6125b1efd5b",
   "metadata": {},
   "outputs": [
    {
     "name": "stdout",
     "output_type": "stream",
     "text": [
      "+--------+----------------+--------------------+----+\n",
      "|movie_id|           title|              genres|year|\n",
      "+--------+----------------+--------------------+----+\n",
      "|       1|Toy Story (1995)|[Adventure, Anima...|1995|\n",
      "+--------+----------------+--------------------+----+\n",
      "only showing top 1 row\n",
      "\n",
      "+--------+----------+-------------+------------+-------------------+\n",
      "|movie_id|avg_rating|stddev_rating|count_rating|    min_time_rating|\n",
      "+--------+----------+-------------+------------+-------------------+\n",
      "|    1049|       3.4|         0.97|        5816|1996-10-10 03:58:19|\n",
      "+--------+----------+-------------+------------+-------------------+\n",
      "only showing top 1 row\n",
      "\n",
      "+--------+--------------------+-------------------+\n",
      "|movie_id|           tag_count|       min_time_tag|\n",
      "+--------+--------------------+-------------------+\n",
      "|  100001|[{PERFORMANCE (MO...|2018-05-18 01:40:21|\n",
      "+--------+--------------------+-------------------+\n",
      "only showing top 1 row\n",
      "\n"
     ]
    }
   ],
   "source": [
    "movies_df.show(1)\n",
    "ratings_df.show(1)\n",
    "tags_df.show(1)"
   ]
  },
  {
   "cell_type": "code",
   "execution_count": 83,
   "id": "303fc2fa-931d-488a-8e83-1a99348424b8",
   "metadata": {},
   "outputs": [],
   "source": [
    "# Definiciones\n",
    "A_df = op_conj_1(movies_df,ratings_df,tags_df)\n",
    "D_df = op_conj_2(movies_df,ratings_df,tags_df)\n",
    "E_df = op_conj_2(movies_df,tags_df,ratings_df)\n",
    "G_df = op_conj_3(movies_df,ratings_df,tags_df)"
   ]
  },
  {
   "cell_type": "code",
   "execution_count": 84,
   "id": "6835c048-f0fd-455e-8f2e-725575e9c00d",
   "metadata": {},
   "outputs": [],
   "source": [
    "## TU CODIGO VA EN ESTA CELDA:\n",
    "# aplicar transformaciones join a movies_df, ratings_df y tags_df\n",
    "union_uno = A_df.unionByName(D_df, allowMissingColumns=True)\n",
    "union_dos = union_uno.unionByName(E_df, allowMissingColumns=True)\n",
    "union_tres = union_dos.unionByName(G_df, allowMissingColumns=True)\n",
    "final_df = union_tres "
   ]
  },
  {
   "cell_type": "code",
   "execution_count": 85,
   "id": "2cade6f4-ba10-47be-a2e9-f37e0f1ebbea",
   "metadata": {},
   "outputs": [
    {
     "name": "stdout",
     "output_type": "stream",
     "text": [
      "+--------+--------------------+---------+----+----------+-------------+------------+-------------------+---------+------------+\n",
      "|movie_id|               title|   genres|year|avg_rating|stddev_rating|count_rating|    min_time_rating|tag_count|min_time_tag|\n",
      "+--------+--------------------+---------+----+----------+-------------+------------+-------------------+---------+------------+\n",
      "|    1159|Love in Bloom (1935)|[Romance]|1935|      2.88|         1.05|          20|1996-10-11 05:28:21|     null|        null|\n",
      "+--------+--------------------+---------+----+----------+-------------+------------+-------------------+---------+------------+\n",
      "only showing top 1 row\n",
      "\n"
     ]
    },
    {
     "data": {
      "text/plain": [
       "'\\nEjemplo de salida:\\n+--------+----------------+--------------------+----+----------+-------------+------------+-------------------+--------------------+-------------------+\\n|movie_id|           title|              genres|year|avg_rating|stddev_rating|count_rating|    min_time_rating|           tag_count|       min_time_tag|\\n+--------+----------------+--------------------+----+----------+-------------+------------+-------------------+--------------------+-------------------+\\n|       1|Toy Story (1995)|[Adventure, Anima...|1995|      3.89|         0.93|       76813|1996-01-28 18:00:00|[{TIME TRAVEL, 11...|2006-01-12 19:19:35|\\n+--------+----------------+--------------------+----+----------+-------------+------------+-------------------+--------------------+-------------------+\\nonly showing top 1 row\\n'"
      ]
     },
     "execution_count": 85,
     "metadata": {},
     "output_type": "execute_result"
    }
   ],
   "source": [
    "# NO MODIFICAR EL CONTENIDO DE ESTA CELDA\n",
    "final_df.show(1)\n",
    "\"\"\"\n",
    "Ejemplo de salida:\n",
    "+--------+----------------+--------------------+----+----------+-------------+------------+-------------------+--------------------+-------------------+\n",
    "|movie_id|           title|              genres|year|avg_rating|stddev_rating|count_rating|    min_time_rating|           tag_count|       min_time_tag|\n",
    "+--------+----------------+--------------------+----+----------+-------------+------------+-------------------+--------------------+-------------------+\n",
    "|       1|Toy Story (1995)|[Adventure, Anima...|1995|      3.89|         0.93|       76813|1996-01-28 18:00:00|[{TIME TRAVEL, 11...|2006-01-12 19:19:35|\n",
    "+--------+----------------+--------------------+----+----------+-------------+------------+-------------------+--------------------+-------------------+\n",
    "only showing top 1 row\n",
    "\"\"\""
   ]
  },
  {
   "cell_type": "code",
   "execution_count": 86,
   "id": "f55f12cf-8838-472c-823a-08574ce52d0b",
   "metadata": {},
   "outputs": [
    {
     "name": "stdout",
     "output_type": "stream",
     "text": [
      "+--------+----------------+--------------------+----+----------+-------------+------------+-------------------+--------------------+-------------------+\n",
      "|movie_id|           title|              genres|year|avg_rating|stddev_rating|count_rating|    min_time_rating|           tag_count|       min_time_tag|\n",
      "+--------+----------------+--------------------+----+----------+-------------+------------+-------------------+--------------------+-------------------+\n",
      "|       1|Toy Story (1995)|[Adventure, Anima...|1995|      3.89|         0.93|       76813|1996-01-28 18:00:00|[{1990S, 1}, {200...|2006-01-12 19:19:35|\n",
      "+--------+----------------+--------------------+----+----------+-------------+------------+-------------------+--------------------+-------------------+\n",
      "\n"
     ]
    }
   ],
   "source": [
    "final_df.where(f.col(\"movie_id\") == 1).show()"
   ]
  },
  {
   "cell_type": "code",
   "execution_count": 87,
   "id": "2d7f51d7-33e5-4e89-9781-6402060cb841",
   "metadata": {},
   "outputs": [],
   "source": [
    "# NO MODIFICAR EL CONTENIDO DE ESTA CELDA\n",
    "\n",
    "data = [Row(\n",
    "    movie_id='100062', \n",
    "    title='My Way (Mai Wei) (2011)', \n",
    "    genres=['Action', 'Drama', 'War'], \n",
    "    year=2011, \n",
    "    avg_rating=3.63, \n",
    "    stddev_rating=0.83, \n",
    "    count_rating=64, \n",
    "    min_time_rating=datetime.datetime(2014, 3, 11, 21, 23, 33), \n",
    "    tag_count=[\n",
    "        Row(tag='FATE', count=1),\n",
    "        Row(tag='PRESS-GANGED', count=1),\n",
    "        Row(tag='WAR', count=1),\n",
    "        Row(tag='WORLD WAR II', count=1)],\n",
    "    min_time_tag=datetime.datetime(2018, 5, 26, 16, 40, 54))]\n",
    "schema = t.StructType([\n",
    "    t.StructField(\"movie_id\", t.StringType()),\n",
    "    t.StructField(\"title\", t.StringType()),\n",
    "    t.StructField(\"genres\", t.ArrayType(t.StringType())),\n",
    "    t.StructField(\"year\", t.IntegerType()),\n",
    "    t.StructField(\"avg_rating\", t.DoubleType()),\n",
    "    t.StructField(\"stddev_rating\", t.DoubleType()),\n",
    "    t.StructField(\"count_rating\", t.LongType()),\n",
    "    t.StructField(\"min_time_rating\", t.TimestampType()),\n",
    "    t.StructField(\"tag_count\", t.ArrayType(t.StructType([\n",
    "        t.StructField(\"tag\", t.StringType()),\n",
    "        t.StructField(\"count\", t.LongType())\n",
    "    ]))),\n",
    "    t.StructField(\"min_time_tag\", t.TimestampType())\n",
    "])\n",
    "expected_df = spark.createDataFrame(data, schema)\n",
    "\n",
    "expected_columns = [\"movie_id\", \"title\", \"genres\", \"year\",\n",
    "                    \"avg_rating\", \"stddev_rating\", \"count_rating\",\n",
    "                    \"min_time_rating\", \"tag_count\", \"min_time_tag\"]\n",
    "\n",
    "assert final_df.count() == 79477\n",
    "\n",
    "assert set(final_df.columns) - set(expected_columns) == set()\n",
    "assert set(expected_columns) - set(final_df.columns) == set()\n",
    "assert final_df \\\n",
    "    .select(*expected_columns) \\\n",
    "    .filter(f.col(\"movie_id\") == \"100062\") \\\n",
    "    .subtract(expected_df).count() == 0"
   ]
  },
  {
   "cell_type": "markdown",
   "id": "20399c4b-106f-4696-b246-40f949628469",
   "metadata": {},
   "source": [
    "#### Actividad 5:\n",
    "##### TO DO ->    El cliente nos ha solicitado llenar los valores \"null\" de la columna \"year\", para esto nos ha pedido seguir la siguiente regla:\n",
    "- ##### Si la columna \"year\" es null y si la columna \"min_time_rating\" es null colocar el año de la columna \"min_time_tag\".\n",
    "- ##### Si la columna \"year\" es null y si la columna \"min_time_tag\" es null colocar el año de la columna \"min_time_rating\".\n",
    "- ##### Si la columna \"year\" es null, y las columnas \"min_time_rating\" y \"min_time_tag\" son distintas de null colocar el año menor de las columnas \"min_time_rating\" y \"min_time_tag\", en caso de que el año en ambas columnas sea el mismo colocar dicho año.\n",
    "- ##### En cualquier otro caso mantener el valor entero 1970\n",
    "##### Adicional nos ha solicitado generar una columna llamada \"year_type\" con los siguientes valores:\n",
    "- ##### Si la columna \"year\" venia con un valor distinto a null, asignar el valor \"YO\"\n",
    "- ##### Si la columna \"year\" es null y si la columna \"min_time_rating\" es null colocar \"YT\"\n",
    "- ##### Si la columna \"year\" es null y si la columna \"min_time_tag\" es null colocar \"YR\"\n",
    "- ##### Si la columna \"year\" es null, y las columnas \"min_time_rating\" y \"min_time_tag\" son distintas de null:\n",
    "    - ##### Si \"min_time_rating\" es menor a \"min_time_tag\" colocar \"YR\"\n",
    "    - ##### Si \"min_time_tag\" es menor a \"min_time_rating\" colocar \"YT\"\n",
    "    - ##### Si \"min_time_tag\" es igual a \"min_time_rating\" colocar \"YRT\"\n",
    "- ##### En cualquier otro caso mantener \"YU\"\n",
    "##### Al finalizar este proceso eliminar las columnas \"min_time_rating\" y \"min_time_tag\"\n",
    "- Para resolver estos ejercicios podrías utilizar la función year -> https://spark.apache.org/docs/latest/api/python/reference/pyspark.sql/api/pyspark.sql.functions.year.html#pyspark.sql.functions.year\n",
    "##### Este proceso se desarrollará en un método con la firma: def get_last_movies_df(df: DataFrame) -> DataFrame\n",
    "##### La estructura del dataframe de salida será:\n",
    "* |-- movie_id: string\n",
    "* |-- title: string\n",
    "* |-- avg_rating: double\n",
    "* |-- count_rating: long\n",
    "* |-- stddev_rating: double\n",
    "* |-- genres: array\n",
    "* |--- |-- element: string\n",
    "* |-- tag_count: array\n",
    "* |--- |-- element: struct\n",
    "* |--- |--- |tag: string\n",
    "* |--- |--- |count: long\n",
    "* |-- year: integer\n",
    "* |-- year_type: string\n",
    "##### NO UTILIZAR withColumn NI withColumnRenamed, ni UDF"
   ]
  },
  {
   "cell_type": "code",
   "execution_count": 88,
   "id": "96c2a6c6-d34e-4c51-b30d-359b2d5f6f24",
   "metadata": {},
   "outputs": [
    {
     "name": "stdout",
     "output_type": "stream",
     "text": [
      "+--------+----------------+--------------------+----+\n",
      "|movie_id|           title|              genres|year|\n",
      "+--------+----------------+--------------------+----+\n",
      "|       1|Toy Story (1995)|[Adventure, Anima...|1995|\n",
      "+--------+----------------+--------------------+----+\n",
      "only showing top 1 row\n",
      "\n",
      "+--------+--------------------+---------+----+----------+-------------+------------+-------------------+---------+------------+\n",
      "|movie_id|               title|   genres|year|avg_rating|stddev_rating|count_rating|    min_time_rating|tag_count|min_time_tag|\n",
      "+--------+--------------------+---------+----+----------+-------------+------------+-------------------+---------+------------+\n",
      "|    1159|Love in Bloom (1935)|[Romance]|1935|      2.88|         1.05|          20|1996-10-11 05:28:21|     null|        null|\n",
      "+--------+--------------------+---------+----+----------+-------------+------------+-------------------+---------+------------+\n",
      "only showing top 1 row\n",
      "\n"
     ]
    }
   ],
   "source": [
    "movies_df.show(1)\n",
    "final_df.show(1)"
   ]
  },
  {
   "cell_type": "code",
   "execution_count": 89,
   "id": "0beec964-b869-4d4e-8823-4d4ac33c883f",
   "metadata": {},
   "outputs": [],
   "source": [
    "# Condiciones\n",
    "null_year = f.col(\"year\").isNull()\n",
    "null_mt_rat = f.col(\"min_time_rating\").isNull()\n",
    "null_mt_tag = f.col(\"min_time_tag\").isNull()\n",
    "not_null_mt_rat = f.col(\"min_time_rating\").isNotNull()\n",
    "not_null_mt_tag = f.col(\"min_time_tag\").isNotNull()\n",
    "año_mttag = f.year(f.col(\"min_time_tag\"))\n",
    "año_mtrat = f.year(f.col(\"min_time_rating\"))"
   ]
  },
  {
   "cell_type": "code",
   "execution_count": 119,
   "id": "89f10cb8-7674-4b20-881c-412c55ac1718",
   "metadata": {},
   "outputs": [],
   "source": [
    "## TU CODIGO VA EN ESTA CELDA (NO UTILIZAR UDF):\n",
    "\n",
    "#def get_last_movies_df(df: DataFrame) -> DataFrame:\n",
    "    #return df # transformaciones a final_df\n",
    "\n",
    "# Aplicar separación por conjuntos y luego union en df transformados:\n",
    "def get_last_movies_df(df):\n",
    "    year_nulo = df.filter(null_year)\\\n",
    "        .select(\n",
    "            f.col(\"movie_id\"),\n",
    "            f.col(\"title\"),\n",
    "            f.col(\"avg_rating\"),\n",
    "            f.col(\"count_rating\"),\n",
    "            f.col(\"stddev_rating\"),\n",
    "            f.col(\"genres\"),\n",
    "            f.col(\"tag_count\"),\n",
    "            f.when(null_mt_rat & not_null_mt_tag, año_mttag)\n",
    "                .when(null_mt_tag & not_null_mt_rat, año_mtrat)\n",
    "                .when(not_null_mt_rat & not_null_mt_tag, f.least(f.year(f.col(\"min_time_rating\")), f.year(f.col(\"min_time_tag\"))))\n",
    "                .otherwise(1970).alias(\"year\"),\n",
    "            f.when(((not_null_mt_rat & not_null_mt_tag) & (f.year(f.col(\"min_time_rating\")) < f.year(f.col(\"min_time_tag\")))) | null_mt_tag, \n",
    "                   f.lit(\"YR\").alias(\"year_type\"))\n",
    "                .when(((not_null_mt_rat & not_null_mt_tag) & (f.year(f.col(\"min_time_tag\")) < f.year(f.col(\"min_time_rating\")))) | null_mt_rat, \n",
    "                      f.lit(\"YT\").alias(\"year_type\"))\n",
    "                .when(f.year(f.col(\"min_time_rating\")) == f.year(f.col(\"min_time_tag\")), f.lit(\"YRT\").alias(\"year_type\"))\n",
    "                .otherwise(f.lit(\"YU\")).alias(\"year_type\")\n",
    "        ).drop(\"min_time_rating\", \"min_time_tag\")\n",
    "    \n",
    "    year_no_nulo = df.filter(f.col(\"year\").isNotNull())\\\n",
    "        .select(\n",
    "            f.col(\"movie_id\"),\n",
    "            f.col(\"title\"),\n",
    "            f.col(\"avg_rating\"),\n",
    "            f.col(\"count_rating\"),\n",
    "            f.col(\"stddev_rating\"),\n",
    "            f.col(\"genres\"),\n",
    "            f.col(\"tag_count\"),\n",
    "            f.col(\"year\"),\n",
    "            f.when(f.col(\"year\").isNotNull(), f.lit(\"YO\").alias(\"year_type\"))\n",
    "        ).drop(\"min_time_rating\", \"min_time_tag\")\n",
    "\n",
    "    df = year_nulo.union(year_no_nulo)\n",
    "    return df\n",
    "    "
   ]
  },
  {
   "cell_type": "code",
   "execution_count": 120,
   "id": "9519fe74-cd39-4a84-9210-5cf55af9ef53",
   "metadata": {},
   "outputs": [
    {
     "name": "stdout",
     "output_type": "stream",
     "text": [
      "+--------+----------------+----------+------------+-------------+-------------------------------------------------+-----------------------------------------------------------------------------------------------------------------------------------------------------------------------------------------------------------------------------------------------------------------------------------------------------------------------------------------------------------------------------------------------------------------------------------------------------------------------------------------------------------------------------------------------------------------------------------------------------------------------------------------------------------------------------------------------------------------------------------------------------------------------------------------------------------------------------------------------------------------------------------------------------------------------------------------------------------------------------------------------------------------------------------------------------------------------------------------------------------------------------------------------------------------------------------------------------------------------------------------------------------------------------------------------------------------------------------------------------------------------------------------------------------------------------------------------------------------------------------------------------------------------------------------------------------------------------------------------------------------------------------------------------------------------------------------------------------------------------------------------------------------------------------------------------------------------------------------------------------------------------------------------------------------------------------------------------------------------------------------------------------------------------------------------------------------------------------------------------------------------------------------------------------------------------------------------------------------------------------------------------------------------------------------------------------------------------------------------------------------------------------------------------------------------------------------------------------------------------------------------------------------------------------------------------------------------------------------------------------------------------------------------------------------------------------------------------------------------------------------------------------------------------------------------------------------------------------------------------------------------------------------------------------------------------------------------------------------------------------------------------------------------------------------------------------------------------------------------------------------------------------------------------------------------------------------------------------------------------------------------------------------------------------------------------------------------------------------------------------------------------------------------------------------------------------------------------------------------------------------------------------------------------------------------------------------------------------------------------------------------------------------------------------------------------------------------------------------------------------------------------------------------------------------------------------------------------------------------------------------------------------------------------------------------------------------------------------------------------------------------------------------------------------------------------------------------------------------------------------------------------------------------------------------------------------------------------------------------------------------------------------------------------------------------------------------------------------------------------------------------------------------------------------------------------------------------------------------------------------------------------------------------------------------------------------------------------------------------------------------------------------------------------------------------------------------------------------------------------------------------------------------------------------------------------------------------------------------------------------------------------------------------------------------------------------------------------------------------------------------------------------------------------------------------------------------------------------------------------------------------------------------------------------------------------------------------------------------------------------------------------------------------------------------------------------------------------------------------------------------------------------------------------------------------------------------------------------------------------------------------------------------------------------------------------------------------------------------------------------------------------------------------------------------------------------------------------------------------------------------------------------------------------------------------------------------------------------------------------------------------------------------------------------------------------------------------------------------------------------------------------------------------------------------------------------------------------------------------------------------------------------------------------------------------------------------------------------------------------------------------------------------------------------------------------------------------------------------------------------------------------------------------------------------------------------------------------------------------------------------------------------------------------------------------------------------------------------------------------------------------------------------------------------------------------------------------------------------------------------------------------------------------------------------------------------------------------------------------------------------------------------------------------------------------------------------------------------------------------------------------------------------------------------------------------------------------------------------------------------------------------------------------------------------------------------------------------------------------------------------------------------------------------------------------------------------------------------------------------------------------------------------------------------------------------------------------------------------------------------------------------------------------------------------------------------------------------------------------------------------------------------------------------------------------------------------------------------------------------------------------------------------------------------------------------------------------------------------------------------------------------------------------------------------------------------------------------------------------------------------------------------------------------------------------------------------------------------------------------------------------------------------------------------------------------------------------------------------------------------------------------------------------------------------------------------------------------------------------------------------------------------------------------------------------------------------------------------------------------------------------------------------------------------------------------------------------------------------------------------------------------------------------------------------------------------------------------------------------------------------------------------------------+----+---------+\n",
      "|movie_id|title           |avg_rating|count_rating|stddev_rating|genres                                           |tag_count                                                                                                                                                                                                                                                                                                                                                                                                                                                                                                                                                                                                                                                                                                                                                                                                                                                                                                                                                                                                                                                                                                                                                                                                                                                                                                                                                                                                                                                                                                                                                                                                                                                                                                                                                                                                                                                                                                                                                                                                                                                                                                                                                                                                                                                                                                                                                                                                                                                                                                                                                                                                                                                                                                                                                                                                                                                                                                                                                                                                                                                                                                                                                                                                                                                                                                                                                                                                                                                                                                                                                                                                                                                                                                                                                                                                                                                                                                                                                                                                                                                                                                                                                                                                                                                                                                                                                                                                                                                                                                                                                                                                                                                                                                                                                                                                                                                                                                                                                                                                                                                                                                                                                                                                                                                                                                                                                                                                                                                                                                                                                                                                                                                                                                                                                                                                                                                                                                                                                                                                                                                                                                                                                                                                                                                                                                                                                                                                                                                                                                                                                                                                                                                                                                                                                                                                                                                                                                                                                                                                                                                                                                                                                                                                                                                                                                                                                                                                                                                                                                                                                                                                                                                                                                                                                                                                                                                                                                                                                                                                                                                                                                                                                                                                                                                                                                                                                                                                                                                                                                                                                                                                                                                                                                                                                              |year|year_type|\n",
      "+--------+----------------+----------+------------+-------------+-------------------------------------------------+-----------------------------------------------------------------------------------------------------------------------------------------------------------------------------------------------------------------------------------------------------------------------------------------------------------------------------------------------------------------------------------------------------------------------------------------------------------------------------------------------------------------------------------------------------------------------------------------------------------------------------------------------------------------------------------------------------------------------------------------------------------------------------------------------------------------------------------------------------------------------------------------------------------------------------------------------------------------------------------------------------------------------------------------------------------------------------------------------------------------------------------------------------------------------------------------------------------------------------------------------------------------------------------------------------------------------------------------------------------------------------------------------------------------------------------------------------------------------------------------------------------------------------------------------------------------------------------------------------------------------------------------------------------------------------------------------------------------------------------------------------------------------------------------------------------------------------------------------------------------------------------------------------------------------------------------------------------------------------------------------------------------------------------------------------------------------------------------------------------------------------------------------------------------------------------------------------------------------------------------------------------------------------------------------------------------------------------------------------------------------------------------------------------------------------------------------------------------------------------------------------------------------------------------------------------------------------------------------------------------------------------------------------------------------------------------------------------------------------------------------------------------------------------------------------------------------------------------------------------------------------------------------------------------------------------------------------------------------------------------------------------------------------------------------------------------------------------------------------------------------------------------------------------------------------------------------------------------------------------------------------------------------------------------------------------------------------------------------------------------------------------------------------------------------------------------------------------------------------------------------------------------------------------------------------------------------------------------------------------------------------------------------------------------------------------------------------------------------------------------------------------------------------------------------------------------------------------------------------------------------------------------------------------------------------------------------------------------------------------------------------------------------------------------------------------------------------------------------------------------------------------------------------------------------------------------------------------------------------------------------------------------------------------------------------------------------------------------------------------------------------------------------------------------------------------------------------------------------------------------------------------------------------------------------------------------------------------------------------------------------------------------------------------------------------------------------------------------------------------------------------------------------------------------------------------------------------------------------------------------------------------------------------------------------------------------------------------------------------------------------------------------------------------------------------------------------------------------------------------------------------------------------------------------------------------------------------------------------------------------------------------------------------------------------------------------------------------------------------------------------------------------------------------------------------------------------------------------------------------------------------------------------------------------------------------------------------------------------------------------------------------------------------------------------------------------------------------------------------------------------------------------------------------------------------------------------------------------------------------------------------------------------------------------------------------------------------------------------------------------------------------------------------------------------------------------------------------------------------------------------------------------------------------------------------------------------------------------------------------------------------------------------------------------------------------------------------------------------------------------------------------------------------------------------------------------------------------------------------------------------------------------------------------------------------------------------------------------------------------------------------------------------------------------------------------------------------------------------------------------------------------------------------------------------------------------------------------------------------------------------------------------------------------------------------------------------------------------------------------------------------------------------------------------------------------------------------------------------------------------------------------------------------------------------------------------------------------------------------------------------------------------------------------------------------------------------------------------------------------------------------------------------------------------------------------------------------------------------------------------------------------------------------------------------------------------------------------------------------------------------------------------------------------------------------------------------------------------------------------------------------------------------------------------------------------------------------------------------------------------------------------------------------------------------------------------------------------------------------------------------------------------------------------------------------------------------------------------------------------------------------------------------------------------------------------------------------------------------------------------------------------------------------------------------------------------------------------------------------------------------------------------------------------------------------------------------------------------------------------------------------------------------------------------------------------------------------------------------------------------------------------------------------------------------------------------------------------------------------------------------------------------------+----+---------+\n",
      "|1       |Toy Story (1995)|3.89      |76813       |0.93         |[Adventure, Animation, Children, Comedy, Fantasy]|[{1990S, 1}, {2009 REISSUE IN STEREOSCOPIC 3-D, 1}, {3 DIMENSIONAL, 1}, {3D, 4}, {55 MOVIES EVERY KID SHOULD SEE--ENTERTAINMENT WEEKLY, 1}, {ACCEPTING REALITY, 1}, {ACTION, 1}, {ACTION FIGURE, 2}, {ACTION FIGURES, 1}, {AD FOR TOYS, 1}, {ADVENTURE, 34}, {AFFECTION, 1}, {ALIEN, 1}, {ALMOST FAVORITE, 1}, {AMERICAN ANIMATION, 1}, {ANIMATED, 22}, {ANIMATED DOG, 1}, {ANIMATED FICTIONAL TV COMMERCIAL, 1}, {ANIMATION, 95}, {ANIMATION , 4}, {ANIMMATION, 1}, {ANTENNA, 1}, {ANTHROPOMORPHIC TOY, 1}, {ANTHROPOMORPHISM, 1}, {APOLOGY, 1}, {ARCADE, 1}, {ARCADE GAME, 1}, {ARM, 1}, {ASKING DIRECTIONS, 1}, {ASTRONAUT, 1}, {AUDIO FLASHBACK, 1}, {AVI, 1}, {BABY, 1}, {BABY MONITOR, 1}, {BACKFIRE, 1}, {BACKYARD, 1}, {BAD GUY, 1}, {BALLET FLATS, 1}, {BANISTER, 1}, {BATTERY, 1}, {BATTLESHIP GAME, 1}, {BD-VIDEO, 1}, {BEAUTIFUL, 1}, {BED, 1}, {BEDROOM, 1}, {BEST OF ROTTEN TOMATOES: ALL TIME, 1}, {BINOCULARS, 1}, {BIOHAZARD SIGN, 1}, {BIRTHDAY, 1}, {BIRTHDAY PARTY, 1}, {BIRTHDAY PRESENT, 1}, {BLINDS, 1}, {BLOCKBUSTER, 1}, {BO PEEP CHARACTER, 1}, {BOUNCY BALL, 1}, {BOY, 1}, {BOY NEXT DOOR, 1}, {BRAT, 1}, {BRAWL, 1}, {BRIGHT, 1}, {BROTHER SISTER RELATIONSHIP, 1}, {BUDDY, 1}, {BUDDY MOVIE, 14}, {BULL TERRIER, 1}, {BULLY, 1}, {BULLY COMEUPPANCE, 1}, {BULLYING, 1}, {BURN, 1}, {BUY, 1}, {BUZZ LIGHTYEAR, 1}, {BUZZ LIGHTYEAR CHARACTER, 1}, {CALLING SOMEONE AN IDIOT, 1}, {CANDY LAND THE BOARD GAME, 1}, {CAR, 1}, {CAR CRASH, 1}, {CARD GAME, 1}, {CARTOON, 11}, {CARTOON DOG, 1}, {CATCHPHRASE, 1}, {CG ANIMATION, 1}, {CGI, 12}, {CGI ANIMATION, 1}, {CGI CLASSIC, 1}, {CHARACTER'S POINT OF VIEW CAMERA SHOT, 1}, {CHASED BY A DOG, 1}, {CHASING A TRUCK, 1}, {CHILD, 1}, {CHILD ANTAGONIST, 1}, {CHILD DESTROYS ANOTHER'S TOY, 1}, {CHILD DESTROYS OWN TOY, 1}, {CHILD VILLAIN, 1}, {CHILD'S BEDROOM, 1}, {CHILD'S BIRTHDAY, 1}, {CHILD'S BIRTHDAY PARTY, 1}, {CHILDISH, 1}, {CHILDREN, 37}, {CHILDREN CARTOON, 1}, {CHRISTMAS, 1}, {CHRISTMAS DAY, 1}, {CHRISTMAS PRESENT, 1}, {CHRYSLER AUTOMOBILE, 1}, {CHRYSLER LEBARON CONVERTIBLE, 1}, {CLASSIC, 23}, {CLAW CRANE, 1}, {CLEVER, 30}, {CLOCK, 1}, {CLV, 1}, {COMEDY, 39}, {COMEDY , 1}, {COMEUPPANCE, 1}, {COMIC HERO, 1}, {COMMERCIAL, 1}, {COMPUTER ANIMATION, 44}, {COMPUTER GENERATED IMAGERY, 1}, {CONFRONTATION, 1}, {CORKBOARD, 1}, {COWBOY, 2}, {COWBOY BOOT, 1}, {COWBOY DOLL, 1}, {CRATE, 1}, {CULT FAVORITE, 1}, {CULT FILM, 1}, {CUTE, 1}, {DACHSHUND, 1}, {DARING RESCUES, 1}, {DART, 1}, {DARTBOARD, 1}, {DEAD BATTERY, 1}, {DELIVERY, 1}, {DENTAL BRACES, 1}, {DEPRESSION, 1}, {DESK, 1}, {DIGITAL, 1}, {DINOSAUR, 2}, {DIRECTORIAL DEBUT, 2}, {DISNEY, 69}, {DISNEY ANIMATED FEATURE, 1}, {DOG, 1}, {DOG AS GIFT, 1}, {DOLL, 1}, {DOLLS, 2}, {DOORBELL, 1}, {DOUBLE PRIZE, 1}, {DOUBT, 1}, {DVD-VIDEO, 1}, {ELEMENTARY SCHOOL, 1}, {EMOTIONAL, 1}, {ENCOURAGEMENT, 1}, {ENEMIES BECOME FRIENDS, 2}, {ENGAGING, 1}, {ENVY, 1}, {ERLEND'S DVDS, 1}, {ESCAPE, 1}, {ESCAPE ATTEMPT, 1}, {ETCH A SKETCH, 1}, {EXCITING PLOT, 1}, {EXPLOSION, 1}, {FACE MASK, 1}, {FALLING FROM A WINDOW, 1}, {FALLING FROM HEIGHT, 1}, {FALLING OUT A WINDOW, 1}, {FALSE ACCUSATION, 1}, {FAMILY, 35}, {FAMILY CARTOON, 4}, {FAMILY FILM, 1}, {FAMILY RELATIONSHIPS, 2}, {FAMOUS LINE, 1}, {FAMOUS SCORE, 1}, {FAMOUS SONG, 1}, {FANCIFUL, 1}, {FANTASY, 8}, {FAST AND A FURIOUS, 1}, {FAVORITE, 1}, {FAVORITISM, 1}, {FEAR, 1}, {FEEL-GOOD, 2}, {FIGHT, 1}, {FIREPLACE, 1}, {FIRST CGI FILM, 1}, {FIRST OF SERIES, 3}, {FIRST OF TRILOGY, 1}, {FIRST PART, 1}, {FISHING ROD, 1}, {FISTFIGHT, 1}, {FLASHLIGHT, 1}, {FLYING, 1}, {FORCED PUNS , 1}, {FRIEND, 1}, {FRIENDS, 3}, {FRIENDSHIP, 44}, {FRUSTRATION, 1}, {FUN, 12}, {FUN FAMILY MOVIE, 2}, {FUNNY, 59}, {FUNNY LINES, 1}, {GAME OF LIFE BOARD GAME, 1}, {GAS STATION, 1}, {GIFT, 1}, {GIRL, 1}, {GLIDING, 1}, {GLOBE, 1}, {GOOD ANIMATION, 1}, {GOOD CARTOON CHINDREN, 1}, {GOOD TIME, 1}, {GRATITUDE, 1}, {GREAT MOVIE, 1}, {GUILTY CONSCIENCE, 1}, {HASBRO, 1}, {HAT, 1}, {HEARTFELT, 1}, {HERO, 1}, {HERO'S JOURNEY, 1}, {HEROIC MISSION, 2}, {HOCKEY PUCK, 1}, {HOME, 1}, {HOUSE, 1}, {HTTPS://MOVIELENS.ORG/TAG/:ANIMATION, 1}, {HUMOROUS, 26}, {IMDB TOP 250, 16}, {INNOVATIVE, 1}, {INTERESTING, 1}, {INTERNAL LOGIC FAILS, 1}, {ITAEGE, 1}, {JACK IN THE BOX, 1}, {JEALOUSY, 5}, {JOHN LASSETER, 3}, {JOSS WHEDON, 1}, {JUMPING FROM HEIGHT, 1}, {JUMPING THROUGH A SUNROOF, 1}, {KARATE, 1}, {KARATE CHOP, 1}, {KIDS, 11}, {KIDS AND FAMILY, 1}, {KIDS MOVIE, 2}, {LAUGHTER, 1}, {LEARNING A LESSON, 1}, {LEGGINGS, 1}, {LIFTING A FEMALE INTO THE AIR, 1}, {LIFTING SOMEONE INTO THE AIR, 1}, {LIGHT, 1}, {LIGHT HEARTED, 1}, {LIPSTICK ON FACE, 1}, {LITTLE BOY, 1}, {LITTLE GIRL, 1}, {LOCKED IN, 1}, {LOOKING OUT A WINDOW, 1}, {LOTS OF HEART, 1}, {LOVABLE CHARACTERS, 1}, {LOVE INTEREST, 1}, {LOW FANTASY, 1}, {LOYAL FRIEND, 1}, {LOYALTY, 2}, {MAGIC 8 BALL, 1}, {MAGNIFYING GLASS, 1}, {MALE ANTAGONIST, 1}, {MALE PROTAGONIST, 1}, {MALE VILLAIN, 1}, {MARTIAL ARTS, 1}, {MATCH, 1}, {MATTEL, 1}, {MEDICAL MASK, 1}, {MEETING, 1}, {MICROPHONE, 1}, {MISSION, 1}, {MISUNDERSTANDING, 1}, {MIXED SOUNDTRACK, 1}, {MOCKERY, 1}, {MONSTERS, 1}, {MOTHER SON RELATIONSHIP, 1}, {MOUTH, 1}, {MOVING, 1}, {MOVING VAN, 1}, {MR POTATO HEAD, 1}, {MR. POTATO HEAD CHARACTER, 1}, {MUTANT, 1}, {NATIONAL FILM REGISTRY, 3}, {NEIGHBOR, 1}, {NEIGHBORHOOD, 1}, {NESTING EGG, 1}, {NEW HOME, 1}, {NEW TOY, 1}, {NOSTALGIC, 1}, {OHIO, 1}, {OPERATION GAME, 1}, {ORIGINAL STORY, 1}, {OS DOIS VIRAM, 1}, {OSCAR (BEST PICTURE), 1}, {OSCAR (SPECIAL ACHIEVEMENT), 1}, {OWNED, 1}, {PACKAGE, 1}, {PARACHUTE, 1}, {PART OF TRILOGY, 1}, {PET AS GIFT, 1}, {PET DOG, 1}, {PIGGY BANK, 1}, {PIXAR, 160}, {PIXAR ANIMATION, 3}, {PIZZA VAN, 1}, {PIZZERIA, 1}, {PLASTIC ARMY MEN, 1}, {PLAYSKOOL, 1}, {PLIERS, 1}, {PORCELAIN, 1}, {POSTER, 1}, {PRODUCT PLACEMENT, 1}, {PTERODACTYL, 1}, {PULL STRING DOLL, 1}, {PUSH BUTTON, 1}, {RADIO CONTROLLED, 1}, {RAG DOLL, 1}, {RAIN, 1}, {RAINY DAY WATCHLIST, 1}, {RAMP, 1}, {RATED-G, 1}, {RECLINER CHAIR, 1}, {RECONNAISSANCE MISSION, 1}, {REDEMPTION, 3}, {REFERENCE TO MARIE ANTOINETTE, 1}, {REFERENCE TO MATTEL, 1}, {REFLECTION, 4}, {REJECTION, 1}, {REMORSE, 1}, {REMOTE CONTROLLED TOY CAR, 1}, {RESCUE, 1}, {RESCUE MISSION, 2}, {RESOURCEFULNESS, 1}, {RINGING A DOORBELL, 1}, {RIVAL, 1}, {RIVALRY, 3}, {ROCKET, 1}, {ROUSING, 1}, {RUNNING, 1}, {SCENE BEFORE OPENING CREDITS, 1}, {SCENE DURING OPENING CREDITS, 1}, {SCHEMING, 1}, {SCI-FI, 1}, {SEATBELT, 1}, {SELF AWARENESS, 1}, {SELFLESSNESS, 2}, {SHARK, 1}, {SHED, 1}, {SHEPHERDESS, 1}, {SHERIFF, 1}, {SHIVERING, 1}, {SHOWDOWN, 1}, {SIGNATURE, 1}, {SINGLE MOTHER, 1}, {SKATEBOARD, 1}, {SLEEPING DOG, 1}, {SLIDING DOWN A BANISTER, 1}, {SLINKY DOG, 1}, {SLOW MOTION SCENE, 1}, {SO FUNNY, 1}, {SOLDIER, 1}, {SOOTHING, 1}, {SOUNDTRACK, 1}, {SPACE EXPLORER, 1}, {SPACE RANGER, 1}, {SPACEMAN TOY, 1}, {SPACESUIT, 1}, {SQUEEZE TOY, 1}, {SS, 1}, {STAIRCASE, 1}, {STORAGE SHED, 1}, {STORY, 1}, {SUBJECTIVE CAMERA, 1}, {SUBURB, 1}, {SUNLIGHT, 1}, {SUNROOF, 1}, {SURGICAL MASK, 1}, {SURPRISE ENDING, 1}, {SURROUNDED, 1}, {TALKING IN ONE'S SLEEP, 1}, {TALKING TO A TOY, 1}, {TALKING TOY, 1}, {TEAMWORK, 2}, {TECHNOLOGICAL MARVEL, 1}, {TELEVISION COMMERCIAL, 1}, {TELLING SOMEONE TO SHUT UP, 1}, {THE BOYS, 1}, {THREAT, 1}, {THUNDER, 1}, {THUNDERSTORM, 1}, {TIM ALLEN, 7}, {TIME LAPSE PHOTOGRAPHY, 1}, {TIME TRAVEL, 11}, {TITLE SPOKEN BY CHARACTER, 1}, {TOM HANKS, 58}, {TOOLBOX, 1}, {TORTURE, 1}, {TOUCHING STORY, 1}, {TOUGH GUY, 1}, {TOY, 7}, {TOY ANIMAL, 1}, {TOY COMES TO LIFE, 1}, {TOY DINOSAUR, 1}, {TOY DOG, 1}, {TOY FIRE TRUCK, 1}, {TOY ROBOT, 1}, {TOY SOLDIER, 1}, {TOY STORY, 2}, {TOY TEA SET, 1}, {TOYBOX, 1}, {TOYOTA, 1}, {TOYOTA TRUCK, 1}, {TOYS, 35}, {TOYS COME TO LIFE, 1}, {TOYS PLAYED, 1}, {TROLL DOLL, 1}, {TROUBLED PRODUCTION, 1}, {TUMEY'S TO SEE AGAIN, 1}, {TUMEY'S VHS, 1}, {TURBO BOOST, 1}, {TWISTER THE GAME, 1}, {TWO WORD TITLE, 1}, {TYRANNOSAURUS REX, 1}, {TÃ©A LEONI DOES NOT STAR IN THIS MOVIE, 1}, {UNLIKELY FRIENDSHIPS, 5}, {UNNY, 1}, {UNUSUAL FRIENDSHIP, 3}, {URBAN SETTING, 1}, {USA, 1}, {UTAH TEAPOT, 1}, {VAN, 1}, {VENTILATION SHAFT, 1}, {VERY GOOD, 1}, {VERY NICE, 1}, {VIEW THROUGH BINOCULARS, 1}, {VILLAIN, 1}, {VILLIAN HURTS TOYS, 1}, {VIOLENCE, 1}, {VISUAL PUN, 1}, {VOICE ACTING, 1}, {WALKIE TALKIE, 1}, {WALLPAPER, 1}, {WANT, 1}, {WANT TO SEE AGAIN, 1}, {WARM, 1}, {WATCHED, 1}, {WATER, 1}, {WEIGHTLIFTING, 1}, {WHIMSICA, 1}, {WILHELM SCREAM, 1}, {WINDOW, 1}, {WITTY, 45}, {WOODY, 1}, {WOODY CHARACTER, 1}, {X291-LIVE-JOHN LASSETER, 1}, {YA BOY, 1}, {YELLING, 1}, {É˜®Ä¸€É¸£, 1}]|1995|YO       |\n",
      "+--------+----------------+----------+------------+-------------+-------------------------------------------------+-----------------------------------------------------------------------------------------------------------------------------------------------------------------------------------------------------------------------------------------------------------------------------------------------------------------------------------------------------------------------------------------------------------------------------------------------------------------------------------------------------------------------------------------------------------------------------------------------------------------------------------------------------------------------------------------------------------------------------------------------------------------------------------------------------------------------------------------------------------------------------------------------------------------------------------------------------------------------------------------------------------------------------------------------------------------------------------------------------------------------------------------------------------------------------------------------------------------------------------------------------------------------------------------------------------------------------------------------------------------------------------------------------------------------------------------------------------------------------------------------------------------------------------------------------------------------------------------------------------------------------------------------------------------------------------------------------------------------------------------------------------------------------------------------------------------------------------------------------------------------------------------------------------------------------------------------------------------------------------------------------------------------------------------------------------------------------------------------------------------------------------------------------------------------------------------------------------------------------------------------------------------------------------------------------------------------------------------------------------------------------------------------------------------------------------------------------------------------------------------------------------------------------------------------------------------------------------------------------------------------------------------------------------------------------------------------------------------------------------------------------------------------------------------------------------------------------------------------------------------------------------------------------------------------------------------------------------------------------------------------------------------------------------------------------------------------------------------------------------------------------------------------------------------------------------------------------------------------------------------------------------------------------------------------------------------------------------------------------------------------------------------------------------------------------------------------------------------------------------------------------------------------------------------------------------------------------------------------------------------------------------------------------------------------------------------------------------------------------------------------------------------------------------------------------------------------------------------------------------------------------------------------------------------------------------------------------------------------------------------------------------------------------------------------------------------------------------------------------------------------------------------------------------------------------------------------------------------------------------------------------------------------------------------------------------------------------------------------------------------------------------------------------------------------------------------------------------------------------------------------------------------------------------------------------------------------------------------------------------------------------------------------------------------------------------------------------------------------------------------------------------------------------------------------------------------------------------------------------------------------------------------------------------------------------------------------------------------------------------------------------------------------------------------------------------------------------------------------------------------------------------------------------------------------------------------------------------------------------------------------------------------------------------------------------------------------------------------------------------------------------------------------------------------------------------------------------------------------------------------------------------------------------------------------------------------------------------------------------------------------------------------------------------------------------------------------------------------------------------------------------------------------------------------------------------------------------------------------------------------------------------------------------------------------------------------------------------------------------------------------------------------------------------------------------------------------------------------------------------------------------------------------------------------------------------------------------------------------------------------------------------------------------------------------------------------------------------------------------------------------------------------------------------------------------------------------------------------------------------------------------------------------------------------------------------------------------------------------------------------------------------------------------------------------------------------------------------------------------------------------------------------------------------------------------------------------------------------------------------------------------------------------------------------------------------------------------------------------------------------------------------------------------------------------------------------------------------------------------------------------------------------------------------------------------------------------------------------------------------------------------------------------------------------------------------------------------------------------------------------------------------------------------------------------------------------------------------------------------------------------------------------------------------------------------------------------------------------------------------------------------------------------------------------------------------------------------------------------------------------------------------------------------------------------------------------------------------------------------------------------------------------------------------------------------------------------------------------------------------------------------------------------------------------------------------------------------------------------------------------------------------------------------------------------------------------------------------------------------------------------------------------------------------------------------------------------------------------------------------------------------------------------------------------------------------------------------------------------------------------------------------------------------------------------------------------------------------------------------------------------------------------------------------------------------------------------------------------------------------------------------------------------+----+---------+\n",
      "\n"
     ]
    }
   ],
   "source": [
    "#TEST\n",
    "movies_df = get_last_movies_df(final_df)\n",
    "movies_df.where(f.col(\"movie_id\") == 1).show(1,False)\n",
    "#movies_df.filter(f.col(\"year\").isNull()).show() #demostrar que ya no hay null\n",
    "#movies_df.filter(f.col(\"year\").isNotNull()).show(3)"
   ]
  },
  {
   "cell_type": "code",
   "execution_count": 122,
   "id": "474ecbbf-68f4-4bd4-9f98-a10ec0786b8c",
   "metadata": {},
   "outputs": [
    {
     "name": "stdout",
     "output_type": "stream",
     "text": [
      "79235\n",
      "159\n",
      "55\n",
      "28\n"
     ]
    }
   ],
   "source": [
    "print(movies_df.where(f.col(\"year_type\") == \"YO\").count())\n",
    "print(movies_df.where(f.col(\"year_type\") == \"YR\").count())\n",
    "print(movies_df.where(f.col(\"year_type\") == \"YRT\").count())\n",
    "print(movies_df.where(f.col(\"year_type\") == \"YT\").count())\n",
    "# YO = 79235, YR = 159, YRT = 55, YT= 28"
   ]
  },
  {
   "cell_type": "code",
   "execution_count": 123,
   "id": "e484b294-c038-4fda-bbae-4fde34943876",
   "metadata": {},
   "outputs": [
    {
     "name": "stdout",
     "output_type": "stream",
     "text": [
      "root\n",
      " |-- movie_id: string (nullable = true)\n",
      " |-- title: string (nullable = true)\n",
      " |-- avg_rating: double (nullable = true)\n",
      " |-- count_rating: long (nullable = true)\n",
      " |-- stddev_rating: double (nullable = true)\n",
      " |-- genres: array (nullable = true)\n",
      " |    |-- element: string (containsNull = true)\n",
      " |-- tag_count: array (nullable = true)\n",
      " |    |-- element: struct (containsNull = true)\n",
      " |    |    |-- tag: string (nullable = true)\n",
      " |    |    |-- count: long (nullable = true)\n",
      " |-- year: integer (nullable = true)\n",
      " |-- year_type: string (nullable = true)\n",
      "\n"
     ]
    }
   ],
   "source": [
    "movies_df.printSchema()"
   ]
  },
  {
   "cell_type": "code",
   "execution_count": 124,
   "id": "68252b23-7945-4b65-9994-20980eb23889",
   "metadata": {},
   "outputs": [
    {
     "name": "stdout",
     "output_type": "stream",
     "text": [
      "+--------+------------+----------+------------+-------------+--------------------+---------+----+---------+\n",
      "|movie_id|       title|avg_rating|count_rating|stddev_rating|              genres|tag_count|year|year_type|\n",
      "+--------+------------+----------+------------+-------------+--------------------+---------+----+---------+\n",
      "|  148093|The Republic|      2.33|           3|         0.62|[Action, Crime, T...|     null|2015|       YR|\n",
      "+--------+------------+----------+------------+-------------+--------------------+---------+----+---------+\n",
      "only showing top 1 row\n",
      "\n"
     ]
    },
    {
     "data": {
      "text/plain": [
       "'\\nEjemplo de salida esperada (el orden de la columnas podría ser distinto):\\n+--------+----------------+----------+------------+-------------+--------------------+--------------------+----+---------+\\n|movie_id|           title|avg_rating|count_rating|stddev_rating|              genres|           tag_count|year|year_type|\\n+--------+----------------+----------+------------+-------------+--------------------+--------------------+----+---------+\\n|       1|Toy Story (1995)|      3.89|       76813|         0.93|[Adventure, Anima...|[{1990S, 1}, {200...|1995|       YO|\\n+--------+----------------+----------+------------+-------------+--------------------+--------------------+----+---------+\\nonly showing top 1 row\\n'"
      ]
     },
     "execution_count": 124,
     "metadata": {},
     "output_type": "execute_result"
    }
   ],
   "source": [
    "# NO MODIFICAR EL CONTENIDO DE ESTA CELDA\n",
    "\n",
    "movies_df = get_last_movies_df(final_df)\n",
    "movies_df.show(1)\n",
    "\"\"\"\n",
    "Ejemplo de salida esperada (el orden de la columnas podría ser distinto):\n",
    "+--------+----------------+----------+------------+-------------+--------------------+--------------------+----+---------+\n",
    "|movie_id|           title|avg_rating|count_rating|stddev_rating|              genres|           tag_count|year|year_type|\n",
    "+--------+----------------+----------+------------+-------------+--------------------+--------------------+----+---------+\n",
    "|       1|Toy Story (1995)|      3.89|       76813|         0.93|[Adventure, Anima...|[{1990S, 1}, {200...|1995|       YO|\n",
    "+--------+----------------+----------+------------+-------------+--------------------+--------------------+----+---------+\n",
    "only showing top 1 row\n",
    "\"\"\""
   ]
  },
  {
   "cell_type": "code",
   "execution_count": 125,
   "id": "62aca232-dc2b-41f3-bc9d-92a011c99029",
   "metadata": {},
   "outputs": [
    {
     "name": "stdout",
     "output_type": "stream",
     "text": [
      "+--------+----------------------------------------------+----------+------------+-------------+-------------+-------------------------------------------------------------------------------------------+----+---------+\n",
      "|movie_id|title                                         |avg_rating|count_rating|stddev_rating|genres       |tag_count                                                                                  |year|year_type|\n",
      "+--------+----------------------------------------------+----------+------------+-------------+-------------+-------------------------------------------------------------------------------------------+----+---------+\n",
      "|179479  |Samadhi Part 1: Maya, the Illusion of the Self|4.19      |8           |0.75         |[Documentary]|[{EASTERN PHILOSOPHY, 1}, {MEDITATION, 1}, {METAPHYSICAL, 1}, {NEW AGE, 1}, {SPIRITUAL, 1}]|2017|YT       |\n",
      "+--------+----------------------------------------------+----------+------------+-------------+-------------+-------------------------------------------------------------------------------------------+----+---------+\n",
      "\n"
     ]
    }
   ],
   "source": [
    "movies_df.where(f.col(\"movie_id\") == 179479).show(1,False)"
   ]
  },
  {
   "cell_type": "code",
   "execution_count": 126,
   "id": "cdfe845e-3491-4366-8759-49d8eae1b028",
   "metadata": {},
   "outputs": [],
   "source": [
    "# NO MODIFICAR EL CONTENIDO DE ESTA CELDA\n",
    "\n",
    "test_value = [Row(\n",
    "    movie_id='179479',\n",
    "    title='Samadhi Part 1: Maya, the Illusion of the Self',\n",
    "    avg_rating=4.19,\n",
    "    count_rating=8,\n",
    "    stddev_rating=0.75,\n",
    "    genres=['Documentary'],\n",
    "    tag_count=[Row(tag='EASTERN PHILOSOPHY', count=1),\n",
    "               Row(tag='MEDITATION', count=1),\n",
    "               Row(tag='METAPHYSICAL', count=1),\n",
    "               Row(tag='NEW AGE', count=1),\n",
    "               Row(tag='SPIRITUAL', count=1)],\n",
    "    year=2017,\n",
    "    year_type='YT')]\n",
    "\n",
    "expected_count_by_year_type = [\n",
    "    Row(year_type='YO', count=79235),\n",
    "    Row(year_type='YR', count=159),\n",
    "    Row(year_type='YRT', count=55),\n",
    "    Row(year_type='YT', count=28)]\n",
    "\n",
    "expected_columns = [\"movie_id\",\"title\",\"avg_rating\",\"count_rating\",\"stddev_rating\",\"genres\",\"tag_count\",\"year\",\"year_type\"]\n",
    "\n",
    "expected_schema = 'movie_id STRING,title STRING,avg_rating DOUBLE,count_rating BIGINT,stddev_rating DOUBLE,genres ARRAY<STRING>,tag_count ARRAY<STRUCT<tag: STRING, count: BIGINT>>,year INT,year_type STRING'\n",
    "\n",
    "assert set(movies_df.columns) - set(expected_columns) == set()\n",
    "assert set(expected_columns) - set(movies_df.columns) == set()\n",
    "assert movies_df.filter(f.col(\"year\").isNull()).count() == 0\n",
    "assert movies_df \\\n",
    "    .select(*expected_columns) \\\n",
    "    .filter(f.col(\"movie_id\") == \"179479\") \\\n",
    "    .collect() == test_value\n",
    "assert schema_to_ddl(spark, movies_df.select(*expected_columns)) == expected_schema\n",
    "assert movies_df.groupBy(f.col(\"year_type\")).count().orderBy(f.col(\"count\").desc()).collect() == expected_count_by_year_type"
   ]
  },
  {
   "cell_type": "code",
   "execution_count": 127,
   "id": "195f87e6-bdcf-4567-a8fe-56d4f1aa36fa",
   "metadata": {},
   "outputs": [],
   "source": [
    "# NO MODIFICAR EL CONTENIDO DE ESTA CELDA\n",
    "dfs = [(movies_df, \"08/movies\")]\n",
    "\n",
    "write_tmp_df(dfs)"
   ]
  },
  {
   "cell_type": "code",
   "execution_count": null,
   "id": "1b76900e-7ba9-4d99-bb20-2540cca7d4a2",
   "metadata": {},
   "outputs": [],
   "source": []
  }
 ],
 "metadata": {
  "kernelspec": {
   "display_name": "Python 3 (ipykernel)",
   "language": "python",
   "name": "python3"
  },
  "language_info": {
   "codemirror_mode": {
    "name": "ipython",
    "version": 3
   },
   "file_extension": ".py",
   "mimetype": "text/x-python",
   "name": "python",
   "nbconvert_exporter": "python",
   "pygments_lexer": "ipython3",
   "version": "3.9.13"
  }
 },
 "nbformat": 4,
 "nbformat_minor": 5
}
