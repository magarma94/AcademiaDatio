{
 "cells": [
  {
   "cell_type": "markdown",
   "id": "38577af2-d648-4b03-82b5-f44adadae9b0",
   "metadata": {},
   "source": [
    "#### El cliente ha pedido realizar un ajuste a las reglas implementadas hasta ahora, estos ajustes consisten en reemplazar algunas funciones hechas con groupBy por funciones Window, presta mucha atención y resuelve las siguientes actividades.\n",
    "\n",
    "##### Nota: Para poder trabajar con este notebook es necesario haber terminado el ejercicio de las sesiones 06, 07"
   ]
  },
  {
   "cell_type": "code",
   "execution_count": 1,
   "id": "59c5e3c8-5689-4c7c-83d3-ec7b70d0e1ab",
   "metadata": {},
   "outputs": [
    {
     "data": {
      "text/html": [
       "<style>pre { white-space: pre !important; }</style>"
      ],
      "text/plain": [
       "<IPython.core.display.HTML object>"
      ]
     },
     "metadata": {},
     "output_type": "display_data"
    }
   ],
   "source": [
    "# NO MODIFICAR EL CONTENIDO DE ESTA CELDA\n",
    "%run utils.py"
   ]
  },
  {
   "cell_type": "code",
   "execution_count": 2,
   "id": "46f34787-67c5-4d2b-a592-4f29e250e95a",
   "metadata": {},
   "outputs": [
    {
     "name": "stdout",
     "output_type": "stream",
     "text": [
      "+--------+----------------+-------------------------------------------------+----+\n",
      "|movie_id|title           |genres                                           |year|\n",
      "+--------+----------------+-------------------------------------------------+----+\n",
      "|1       |Toy Story (1995)|[Adventure, Animation, Children, Comedy, Fantasy]|1995|\n",
      "+--------+----------------+-------------------------------------------------+----+\n",
      "only showing top 1 row\n",
      "\n",
      "+-------+--------+------+-------------------+\n",
      "|user_id|movie_id|rating|time               |\n",
      "+-------+--------+------+-------------------+\n",
      "|1      |1       |4.0   |2008-11-03 11:52:19|\n",
      "+-------+--------+------+-------------------+\n",
      "only showing top 1 row\n",
      "\n",
      "+-------+--------+------+-------------------+\n",
      "|user_id|movie_id|tag   |time               |\n",
      "+-------+--------+------+-------------------+\n",
      "|224183 |832     |acting|2017-06-05 08:20:27|\n",
      "+-------+--------+------+-------------------+\n",
      "only showing top 1 row\n",
      "\n"
     ]
    }
   ],
   "source": [
    "# NO MODIFICAR EL CONTENIDO DE ESTA CELDA\n",
    "from pyspark.sql import SparkSession, DataFrame, Column, Window\n",
    "import pyspark.sql.functions as f\n",
    "import pyspark.sql.types as t\n",
    "\n",
    "# Creación de sesión de Spark\n",
    "spark = SparkSession.builder \\\n",
    "    .master(\"local[*]\") \\\n",
    "    .appName(\"ejercicio_8\") \\\n",
    "    .getOrCreate()\n",
    "\n",
    "# Carga de tablas requeridas\n",
    "root_path = \"../resources/data/tmp/parquet/\"\n",
    "names_list = [\"06/movies\", \"06/ratings\", \"06/tags\"]\n",
    "df_dict = read_tmp_df(spark, names_list)\n",
    "\n",
    "movies_df = df_dict[\"06/movies\"]\n",
    "ratings_df = df_dict[\"06/ratings\"]\n",
    "tags_df = df_dict[\"06/tags\"]\n",
    "\n",
    "movies_df.show(1, False)\n",
    "ratings_df.show(1, False)\n",
    "tags_df.show(1, False)"
   ]
  },
  {
   "cell_type": "markdown",
   "id": "ab07f716-9806-4388-ad1a-b0fa9f4266cf",
   "metadata": {},
   "source": [
    "#### Actividad 1:\n",
    "##### TO DO ->    En esta actividad hay que resolver la logica que implementaste en la \"Actividad 2 de la sesión 07 - método calculate_rating_values\" pero reemplazando el uso de la función groupBy por funciones Window. \n",
    "##### Tendrás que obtener el mismo resultado ya que en las validaciones se compararán ambos dataframes.\n",
    "##### La firma a utilizar es la siguiente:\n",
    "- ##### def calculate_rating_values_w(df: DataFrame) -> DataFrame:"
   ]
  },
  {
   "cell_type": "code",
   "execution_count": 3,
   "id": "ea8e7528-dd06-4379-9d4b-4183fb713f97",
   "metadata": {},
   "outputs": [
    {
     "data": {
      "text/plain": [
       "'\\ndef calculate_rating_values(df):\\n    crv_ratings_df = df.groupBy(f.col(\"movie_id\"))    .agg(\\n        f.round(f.avg(\"rating\"),2).alias(\"avg_rating\"),\\n        f.round(f.stddev_pop(\"rating\"),2).alias(\"stddev_rating\"),\\n        f.count(\"rating\").alias(\"count_rating\"),\\n        f.min(\"time\").alias(\"min_time_rating\")\\n    )\\n    return crv_ratings_df\\n'"
      ]
     },
     "execution_count": 3,
     "metadata": {},
     "output_type": "execute_result"
    }
   ],
   "source": [
    "# Ref ej7act2:\n",
    "\"\"\"\n",
    "def calculate_rating_values(df):\n",
    "    crv_ratings_df = df.groupBy(f.col(\"movie_id\"))\\\n",
    "    .agg(\n",
    "        f.round(f.avg(\"rating\"),2).alias(\"avg_rating\"),\n",
    "        f.round(f.stddev_pop(\"rating\"),2).alias(\"stddev_rating\"),\n",
    "        f.count(\"rating\").alias(\"count_rating\"),\n",
    "        f.min(\"time\").alias(\"min_time_rating\")\n",
    "    )\n",
    "    return crv_ratings_df\n",
    "\"\"\""
   ]
  },
  {
   "cell_type": "code",
   "execution_count": 4,
   "id": "133710a4-eb42-48ad-bfb7-8a47d8cf35c4",
   "metadata": {},
   "outputs": [
    {
     "name": "stdout",
     "output_type": "stream",
     "text": [
      "+-------+--------+------+-------------------+\n",
      "|user_id|movie_id|rating|               time|\n",
      "+-------+--------+------+-------------------+\n",
      "|      1|       1|   4.0|2008-11-03 11:52:19|\n",
      "+-------+--------+------+-------------------+\n",
      "only showing top 1 row\n",
      "\n"
     ]
    }
   ],
   "source": [
    "ratings_df.show(1)"
   ]
  },
  {
   "cell_type": "code",
   "execution_count": 5,
   "id": "4a5bb862-0181-4a7e-86bd-1611fe915f66",
   "metadata": {},
   "outputs": [],
   "source": [
    "## TU CODIGO VA EN ESTA CELDA:\n",
    "# def calculate_rating_values_w(df: DataFrame) -> DataFrame:\n",
    "# rating_df modificar codigo interno\n",
    "\n",
    "window_act1 = Window.partitionBy(f.col(\"movie_id\"))\n",
    "\n",
    "def calculate_rating_values_w(df):\n",
    "    crv_df = df.withColumn(\"avg_rating\", f.round(f.avg(\"rating\").over(window_act1), 2))\\\n",
    "            .withColumn(\"stddev_rating\", f.round(f.stddev_pop(\"rating\").over(window_act1), 2))\\\n",
    "            .withColumn(\"count_rating\", f.count(\"rating\").over(window_act1))\\\n",
    "            .withColumn(\"min_time_rating\", f.min(\"time\").over(window_act1))\\\n",
    "            .select(\"movie_id\", \"avg_rating\", \"stddev_rating\", \"count_rating\", \"min_time_rating\")\\\n",
    "            .distinct() # Returns a new DataFrame containing the distinct rows in this DataFrame\n",
    "    return crv_df"
   ]
  },
  {
   "cell_type": "code",
   "execution_count": 6,
   "id": "1f75654c-f84e-4c13-83f2-445301d53f22",
   "metadata": {},
   "outputs": [
    {
     "name": "stdout",
     "output_type": "stream",
     "text": [
      "+--------+----------+-------------+------------+-------------------+\n",
      "|movie_id|avg_rating|stddev_rating|count_rating|    min_time_rating|\n",
      "+--------+----------+-------------+------------+-------------------+\n",
      "|  100062|      3.63|         0.83|          64|2014-03-11 21:23:33|\n",
      "|  100070|      3.54|         0.89|          13|2013-01-24 11:24:50|\n",
      "+--------+----------+-------------+------------+-------------------+\n",
      "only showing top 2 rows\n",
      "\n"
     ]
    },
    {
     "data": {
      "text/plain": [
       "'\\nEjemplo de salida esperada:\\n+--------+----------+-------------+------------+-------------------+\\n|movie_id|avg_rating|stddev_rating|count_rating|    min_time_rating|\\n+--------+----------+-------------+------------+-------------------+\\n|  100062|      3.63|         0.83|          64|2014-03-11 21:23:33|\\n|  100070|      3.54|         0.89|          13|2013-01-24 11:24:50|\\n+--------+----------+-------------+------------+-------------------+\\nonly showing top 2 rows\\n'"
      ]
     },
     "execution_count": 6,
     "metadata": {},
     "output_type": "execute_result"
    }
   ],
   "source": [
    "# NO MODIFICAR EL CONTENIDO DE ESTA CELDA\n",
    "calculate_rating_values_w(ratings_df).show(2)\n",
    "\"\"\"\n",
    "Ejemplo de salida esperada:\n",
    "+--------+----------+-------------+------------+-------------------+\n",
    "|movie_id|avg_rating|stddev_rating|count_rating|    min_time_rating|\n",
    "+--------+----------+-------------+------------+-------------------+\n",
    "|  100062|      3.63|         0.83|          64|2014-03-11 21:23:33|\n",
    "|  100070|      3.54|         0.89|          13|2013-01-24 11:24:50|\n",
    "+--------+----------+-------------+------------+-------------------+\n",
    "only showing top 2 rows\n",
    "\"\"\""
   ]
  },
  {
   "cell_type": "code",
   "execution_count": 7,
   "id": "f660134e-15fa-4444-bc33-1a0cb9c96304",
   "metadata": {},
   "outputs": [
    {
     "data": {
      "text/plain": [
       "'\\nTEST_val = calculate_rating_values_w(ratings_df)\\nprint(len(TEST_val.columns))\\nprint(TEST_val.count())\\nTEST_val.where(f.col(\"movie_id\") == \"296\").show()\\n'"
      ]
     },
     "execution_count": 7,
     "metadata": {},
     "output_type": "execute_result"
    }
   ],
   "source": [
    "#Prevalidaciones:\n",
    "\"\"\"\n",
    "TEST_val = calculate_rating_values_w(ratings_df)\n",
    "print(len(TEST_val.columns))\n",
    "print(TEST_val.count())\n",
    "TEST_val.where(f.col(\"movie_id\") == \"296\").show()\n",
    "\"\"\""
   ]
  },
  {
   "cell_type": "code",
   "execution_count": 8,
   "id": "bec544e2-6d98-427f-a16a-f74588d26ef0",
   "metadata": {},
   "outputs": [],
   "source": [
    "# NO MODIFICAR EL CONTENIDO DE ESTA CELDA\n",
    "rating_values_df = calculate_rating_values_w(ratings_df)\n",
    "\n",
    "assert type(rating_values_df) == DataFrame\n",
    "assert len(rating_values_df.columns) == 5\n",
    "assert rating_values_df.count() == 83239\n",
    "\n",
    "data = rating_values_df \\\n",
    "    .filter(f.col(\"movie_id\") == \"296\") \\\n",
    "    .collect()[0]\n",
    "\n",
    "assert data[\"movie_id\"] == \"296\"\n",
    "assert data[\"avg_rating\"] == 4.19\n",
    "assert data[\"stddev_rating\"] == 0.95\n",
    "assert data[\"count_rating\"] == 108756\n",
    "assert data[\"min_time_rating\"] == datetime.datetime(1996, 2, 29, 10, 48, 44)"
   ]
  },
  {
   "cell_type": "code",
   "execution_count": 9,
   "id": "485c32fa-def0-4176-8d5e-50cf3358a8c9",
   "metadata": {},
   "outputs": [],
   "source": [
    "# NO MODIFICAR EL CONTENIDO DE ESTA CELDA\n",
    "dfs = [(rating_values_df, \"09/ratings\")]\n",
    "\n",
    "write_tmp_df(dfs)"
   ]
  },
  {
   "cell_type": "markdown",
   "id": "28d7f23a-b777-44d4-ae7e-fe6308e6a8c1",
   "metadata": {},
   "source": [
    "#### Actividad 2:\n",
    "##### TO DO ->    En esta actividad hay que resolver la logica que implementaste en la \"Actividad 3 de la sesión 07 - métodos get_act_3_df1 y get_act_3_df2\" pero reemplazando el uso de la función groupBy por funciones Window. \n",
    "##### Tendrás que obtener el mismo resultado ya que en las validaciones se compararán ambos dataframes.\n",
    "##### La firma a utilizar es la siguiente:\n",
    "- ##### Primer tabla (utilizando función concat_ws o concat): def get_act_3_df1_w(df: DataFrame) -> DataFrame:\n",
    "- ##### Segunda tabla (utilizando función struct): def get_act_3_df2_w(df: DataFrame) -> DataFrame:"
   ]
  },
  {
   "cell_type": "code",
   "execution_count": 10,
   "id": "d4798793-9303-4045-bef3-bf255dce8e1b",
   "metadata": {},
   "outputs": [
    {
     "name": "stdout",
     "output_type": "stream",
     "text": [
      "+-------+--------+--------------------+-------------------+\n",
      "|user_id|movie_id|                 tag|               time|\n",
      "+-------+--------+--------------------+-------------------+\n",
      "| 224183|     832|              acting|2017-06-05 08:20:27|\n",
      "| 224183|     832|              action|2017-06-05 08:20:01|\n",
      "| 224183|     832|       Brawley Nolte|2017-06-05 08:19:31|\n",
      "| 224183|     832|   conspiracy theory|2017-06-05 08:20:00|\n",
      "| 224183|     832|Director: Ron Howard|2017-06-05 08:15:05|\n",
      "+-------+--------+--------------------+-------------------+\n",
      "only showing top 5 rows\n",
      "\n"
     ]
    }
   ],
   "source": [
    "tags_df.show(5)"
   ]
  },
  {
   "cell_type": "code",
   "execution_count": 11,
   "id": "044b3cd6-bbe1-4147-b976-bf434f0c86f5",
   "metadata": {},
   "outputs": [],
   "source": [
    "#Declaración de windows:\n",
    "window_ven1 = Window.partitionBy(f.col(\"movie_id\"), f.col(\"tag\")) #aquí antes tenía un f.upper(f.col(\"tag\")) pero no transformaba\n",
    "window_ven2 = Window.partitionBy(f.col(\"movie_id\"))"
   ]
  },
  {
   "cell_type": "code",
   "execution_count": 12,
   "id": "4f49fb8d-5adb-4200-92ec-d06e0b3505e2",
   "metadata": {},
   "outputs": [
    {
     "data": {
      "text/plain": [
       "'\\ndef get_act_3_df1(df):\\n    df_mtt = df.groupBy(f.col(\"movie_id\"), f.upper(f.col(\"tag\")).alias(\"tag\"))        .agg(\\n            f.count(f.col(\"tag\")).alias(\"count\"),\\n            f.min(\"time\").alias(\"min\")\\n        ).select(\\n            f.col(\"movie_id\"),\\n            f.concat_ws(\" : \", f.col(\"tag\"),f.col(\"count\")).alias(\"tag_count\"),\\n            f.col(\"min\").alias(\"min_tag\")\\n        )\\n    tabla1_df = df_mtt.groupBy(f.col(\"movie_id\"))        .agg(\\n            f.sort_array(f.collect_set(\"tag_count\")).alias(\"tag_count\"),\\n            f.min(\"min_tag\").alias(\"min_time_tag\"),\\n        )\\n    return tabla1_df\\n'"
      ]
     },
     "execution_count": 12,
     "metadata": {},
     "output_type": "execute_result"
    }
   ],
   "source": [
    "# REFERENCIA:\n",
    "\"\"\"\n",
    "def get_act_3_df1(df):\n",
    "    df_mtt = df.groupBy(f.col(\"movie_id\"), f.upper(f.col(\"tag\")).alias(\"tag\"))\\\n",
    "        .agg(\n",
    "            f.count(f.col(\"tag\")).alias(\"count\"),\n",
    "            f.min(\"time\").alias(\"min\")\n",
    "        ).select(\n",
    "            f.col(\"movie_id\"),\n",
    "            f.concat_ws(\" : \", f.col(\"tag\"),f.col(\"count\")).alias(\"tag_count\"),\n",
    "            f.col(\"min\").alias(\"min_tag\")\n",
    "        )\n",
    "    tabla1_df = df_mtt.groupBy(f.col(\"movie_id\"))\\\n",
    "        .agg(\n",
    "            f.sort_array(f.collect_set(\"tag_count\")).alias(\"tag_count\"),\n",
    "            f.min(\"min_tag\").alias(\"min_time_tag\"),\n",
    "        )\n",
    "    return tabla1_df\n",
    "\"\"\""
   ]
  },
  {
   "cell_type": "code",
   "execution_count": 13,
   "id": "2c013c1e-f140-45b1-ba93-336aef9acedc",
   "metadata": {},
   "outputs": [],
   "source": [
    "## TU CODIGO VA EN ESTA CELDA, PUEDES GENERAR MÉTODOS O VARIABLES NUEVAS SI ASI LO REQUIERES\n",
    "\n",
    "#def get_act_3_df1_w(df: DataFrame) -> DataFrame:\n",
    "def get_act_3_df1_w(df):\n",
    "    df_mtt_w = df.withColumn(\"tag_count\", f.concat_ws(\" : \", f.upper(f.col(\"tag\")), f.count(\"tag\").over(window_ven1)))\\\n",
    "                .withColumn(\"min_tag\", f.min(\"time\").over(window_ven1))\\\n",
    "                .select(\"movie_id\", \"tag_count\", \"min_tag\")\\\n",
    "                .distinct()\n",
    "    tabla1_dff_w = df_mtt_w.withColumn(\"tag_count\", f.sort_array(f.collect_set(\"tag_count\").over(window_ven2)))\\\n",
    "                .withColumn(\"min_time_tag\", f.min(\"min_tag\").over(window_ven2))\\\n",
    "                .select(\"movie_id\", \"tag_count\", \"min_time_tag\")\\\n",
    "                .distinct()\n",
    "    return tabla1_dff_w # ... transformaciones a tags_df\n",
    "\n",
    "act_3_df1 = get_act_3_df1_w(tags_df)"
   ]
  },
  {
   "cell_type": "code",
   "execution_count": 14,
   "id": "fdd055fa-f4bb-4861-a804-25f75f7695cc",
   "metadata": {},
   "outputs": [
    {
     "data": {
      "text/plain": [
       "'act_3_df1.show(2, False)\\nact_3_df1.printSchema()'"
      ]
     },
     "execution_count": 14,
     "metadata": {},
     "output_type": "execute_result"
    }
   ],
   "source": [
    "\"\"\"act_3_df1.show(2, False)\n",
    "act_3_df1.printSchema()\"\"\""
   ]
  },
  {
   "cell_type": "code",
   "execution_count": 15,
   "id": "616ddaea-f6de-4a3e-b872-0af59995b02d",
   "metadata": {},
   "outputs": [
    {
     "data": {
      "text/plain": [
       "'\\n# ... transformaciones a tags_df\\ndef get_act_3_df2(df):\\n    df_mtt2 = df.groupBy(f.col(\"movie_id\"), f.upper(f.col(\"tag\")).alias(\"tag\"))        .agg(\\n            f.count(f.col(\"tag\")).alias(\"count\"),\\n            f.min(\"time\").alias(\"min\")\\n        ).select(\\n            f.col(\"movie_id\"),\\n            f.struct(f.col(\"tag\"),f.col(\"count\")).alias(\"struct\"),\\n            f.col(\"min\").alias(\"min_tag\")\\n        )\\n    tabla2_df = df_mtt2.groupBy(f.col(\"movie_id\"))        .agg(\\n            f.sort_array(f.collect_set(\"struct\")).alias(\"tag_count\"),\\n            f.min(\"min_tag\").alias(\"min_time_tag\")\\n        )\\n    return tabla2_df\\n'"
      ]
     },
     "execution_count": 15,
     "metadata": {},
     "output_type": "execute_result"
    }
   ],
   "source": [
    "# Referencia\n",
    "\"\"\"\n",
    "# ... transformaciones a tags_df\n",
    "def get_act_3_df2(df):\n",
    "    df_mtt2 = df.groupBy(f.col(\"movie_id\"), f.upper(f.col(\"tag\")).alias(\"tag\"))\\\n",
    "        .agg(\n",
    "            f.count(f.col(\"tag\")).alias(\"count\"),\n",
    "            f.min(\"time\").alias(\"min\")\n",
    "        ).select(\n",
    "            f.col(\"movie_id\"),\n",
    "            f.struct(f.col(\"tag\"),f.col(\"count\")).alias(\"struct\"),\n",
    "            f.col(\"min\").alias(\"min_tag\")\n",
    "        )\n",
    "    tabla2_df = df_mtt2.groupBy(f.col(\"movie_id\"))\\\n",
    "        .agg(\n",
    "            f.sort_array(f.collect_set(\"struct\")).alias(\"tag_count\"),\n",
    "            f.min(\"min_tag\").alias(\"min_time_tag\")\n",
    "        )\n",
    "    return tabla2_df\n",
    "\"\"\""
   ]
  },
  {
   "cell_type": "code",
   "execution_count": 16,
   "id": "8c9c3f2e-c649-4d8b-90e5-bef804133780",
   "metadata": {},
   "outputs": [],
   "source": [
    "def get_act_3_df2_w(df):\n",
    "    df_mtt2_w = df\\\n",
    "                .withColumn(\"tag\", f.upper(f.col(\"tag\")))\\\n",
    "                .withColumn(\"count\", f.count(\"tag\").over(window_ven1))\\\n",
    "                .withColumn(\"struct\", f.struct(f.col(\"tag\"), f.col(\"count\")))\\\n",
    "                .withColumn(\"min_tag\", f.min(\"time\").over(window_ven1))\\\n",
    "                .select(\"movie_id\", \"struct\", \"min_tag\")\\\n",
    "                .distinct()\n",
    "    tabla2_dff_w = df_mtt2_w.withColumn(\"tag_count\", f.sort_array(f.collect_set(\"struct\").over(window_ven2)))\\\n",
    "                .withColumn(\"min_time_tag\", f.min(\"min_tag\").over(window_ven2))\\\n",
    "                .select(\"movie_id\", \"tag_count\", \"min_time_tag\")\\\n",
    "                .distinct()\n",
    "    return tabla2_dff_w # ... transformaciones a tags_df\n",
    "\n",
    "act_3_df2 = get_act_3_df2_w(tags_df)"
   ]
  },
  {
   "cell_type": "code",
   "execution_count": 17,
   "id": "909d688b-4100-4c0c-8a9e-071602c14c9a",
   "metadata": {},
   "outputs": [
    {
     "data": {
      "text/plain": [
       "'\\ndef get_act_3_df2_w(df):\\n    df_mtt2_w = df.withColumn(\"struct\", f.struct(f.upper(f.col(\"tag\")), f.count(\"tag\").over(window_ven1)))                .withColumn(\"min_tag\", f.min(\"time\").over(window_ven1))                .select(\"movie_id\", \"struct\", \"min_tag\")                .distinct()\\n    tabla2_dff_w = df_mtt2_w.withColumn(\"tag_count\", f.sort_array(f.collect_set(\"struct\").over(window_ven2)))                .withColumn(\"min_time_tag\", f.min(\"min_tag\").over(window_ven2))                .select(\"movie_id\", \"tag_count\", \"min_time_tag\")                .distinct()\\n    return tabla2_dff_w # ... transformaciones a tags_df\\n\\nact_3_df2 = get_act_3_df2_w(tags_df)\\n'"
      ]
     },
     "execution_count": 17,
     "metadata": {},
     "output_type": "execute_result"
    }
   ],
   "source": [
    "#Bueno\n",
    "\"\"\"\n",
    "def get_act_3_df2_w(df):\n",
    "    df_mtt2_w = df.withColumn(\"struct\", f.struct(f.upper(f.col(\"tag\")), f.count(\"tag\").over(window_ven1)))\\\n",
    "                .withColumn(\"min_tag\", f.min(\"time\").over(window_ven1))\\\n",
    "                .select(\"movie_id\", \"struct\", \"min_tag\")\\\n",
    "                .distinct()\n",
    "    tabla2_dff_w = df_mtt2_w.withColumn(\"tag_count\", f.sort_array(f.collect_set(\"struct\").over(window_ven2)))\\\n",
    "                .withColumn(\"min_time_tag\", f.min(\"min_tag\").over(window_ven2))\\\n",
    "                .select(\"movie_id\", \"tag_count\", \"min_time_tag\")\\\n",
    "                .distinct()\n",
    "    return tabla2_dff_w # ... transformaciones a tags_df\n",
    "\n",
    "act_3_df2 = get_act_3_df2_w(tags_df)\n",
    "\"\"\""
   ]
  },
  {
   "cell_type": "code",
   "execution_count": 18,
   "id": "537dd372-c990-4b53-bc11-12fd0aecba6e",
   "metadata": {},
   "outputs": [
    {
     "data": {
      "text/plain": [
       "'act_3_df2.show(2, False)\\nact_3_df2.where(f.col(\"movie_id\") == \\'100070\\').show(1,False)\\nprint(len(act_3_df2.columns)) # == 3\\nprint(act_3_df2.count()) # == 53452\\nact_3_df2.printSchema()'"
      ]
     },
     "execution_count": 18,
     "metadata": {},
     "output_type": "execute_result"
    }
   ],
   "source": [
    "\"\"\"act_3_df2.show(2, False)\n",
    "act_3_df2.where(f.col(\"movie_id\") == '100070').show(1,False)\n",
    "print(len(act_3_df2.columns)) # == 3\n",
    "print(act_3_df2.count()) # == 53452\n",
    "act_3_df2.printSchema()\"\"\""
   ]
  },
  {
   "cell_type": "code",
   "execution_count": 19,
   "id": "1b76900e-7ba9-4d99-bb20-2540cca7d4a2",
   "metadata": {},
   "outputs": [
    {
     "name": "stdout",
     "output_type": "stream",
     "text": [
      "+--------+------------------------------------------------------------------+-------------------+\n",
      "|movie_id|tag_count                                                         |min_time_tag       |\n",
      "+--------+------------------------------------------------------------------+-------------------+\n",
      "|100062  |[FATE : 1, PRESS-GANGED : 1, WAR : 1, WORLD WAR II : 1]           |2018-05-26 17:40:54|\n",
      "|100070  |[COMEDIAN : 2, COMEDY : 1, GOOD HUMOUR : 1, STRUGGLING CAREER : 1]|2017-05-19 18:17:36|\n",
      "+--------+------------------------------------------------------------------+-------------------+\n",
      "only showing top 2 rows\n",
      "\n",
      "+--------+----------------------------------------------------------------------+-------------------+\n",
      "|movie_id|tag_count                                                             |min_time_tag       |\n",
      "+--------+----------------------------------------------------------------------+-------------------+\n",
      "|100062  |[{FATE, 1}, {PRESS-GANGED, 1}, {WAR, 1}, {WORLD WAR II, 1}]           |2018-05-26 17:40:54|\n",
      "|100070  |[{COMEDIAN, 2}, {COMEDY, 1}, {GOOD HUMOUR, 1}, {STRUGGLING CAREER, 1}]|2017-05-19 18:17:36|\n",
      "+--------+----------------------------------------------------------------------+-------------------+\n",
      "only showing top 2 rows\n",
      "\n"
     ]
    },
    {
     "data": {
      "text/plain": [
       "'\\nEjemplo de salida esperada:\\n+--------+------------------------------------------------------------------+-------------------+\\n|movie_id|tag_count                                                         |min_time_tag       |\\n+--------+------------------------------------------------------------------+-------------------+\\n|100062  |[FATE : 1, PRESS-GANGED : 1, WAR : 1, WORLD WAR II : 1]           |2018-05-26 16:40:54|\\n|100070  |[COMEDIAN : 2, COMEDY : 1, GOOD HUMOUR : 1, STRUGGLING CAREER : 1]|2017-05-19 17:17:36|\\n+--------+------------------------------------------------------------------+-------------------+\\nonly showing top 2 rows\\n\\n+--------+----------------------------------------------------------------------+-------------------+\\n|movie_id|tag_count                                                             |min_time_tag       |\\n+--------+----------------------------------------------------------------------+-------------------+\\n|100062  |[{FATE, 1}, {PRESS-GANGED, 1}, {WAR, 1}, {WORLD WAR II, 1}]           |2018-05-26 16:40:54|\\n|100070  |[{COMEDIAN, 2}, {COMEDY, 1}, {GOOD HUMOUR, 1}, {STRUGGLING CAREER, 1}]|2017-05-19 17:17:36|\\n+--------+----------------------------------------------------------------------+-------------------+\\nonly showing top 2 rows\\n'"
      ]
     },
     "execution_count": 19,
     "metadata": {},
     "output_type": "execute_result"
    }
   ],
   "source": [
    "# NO MODIFICAR EL CONTENIDO DE ESTA CELDA\n",
    "act_3_df1.show(2, False)\n",
    "act_3_df2.show(2, False)\n",
    "\"\"\"\n",
    "Ejemplo de salida esperada:\n",
    "+--------+------------------------------------------------------------------+-------------------+\n",
    "|movie_id|tag_count                                                         |min_time_tag       |\n",
    "+--------+------------------------------------------------------------------+-------------------+\n",
    "|100062  |[FATE : 1, PRESS-GANGED : 1, WAR : 1, WORLD WAR II : 1]           |2018-05-26 16:40:54|\n",
    "|100070  |[COMEDIAN : 2, COMEDY : 1, GOOD HUMOUR : 1, STRUGGLING CAREER : 1]|2017-05-19 17:17:36|\n",
    "+--------+------------------------------------------------------------------+-------------------+\n",
    "only showing top 2 rows\n",
    "\n",
    "+--------+----------------------------------------------------------------------+-------------------+\n",
    "|movie_id|tag_count                                                             |min_time_tag       |\n",
    "+--------+----------------------------------------------------------------------+-------------------+\n",
    "|100062  |[{FATE, 1}, {PRESS-GANGED, 1}, {WAR, 1}, {WORLD WAR II, 1}]           |2018-05-26 16:40:54|\n",
    "|100070  |[{COMEDIAN, 2}, {COMEDY, 1}, {GOOD HUMOUR, 1}, {STRUGGLING CAREER, 1}]|2017-05-19 17:17:36|\n",
    "+--------+----------------------------------------------------------------------+-------------------+\n",
    "only showing top 2 rows\n",
    "\"\"\""
   ]
  },
  {
   "cell_type": "code",
   "execution_count": 20,
   "id": "229650b4-a2d1-4c52-82e5-576defdfbb6b",
   "metadata": {},
   "outputs": [],
   "source": [
    "# NO MODIFICAR EL CONTENIDO DE ESTA CELDA\n",
    "expected_df1 = [\n",
    "    Row(movie_id='100070',\n",
    "        tag_count=['COMEDIAN : 2', 'COMEDY : 1', 'GOOD HUMOUR : 1', 'STRUGGLING CAREER : 1'],\n",
    "        min_time_tag=datetime.datetime(2017, 5, 19, 17, 17, 36))]\n",
    "schema_df1 = t.StructType([\n",
    "    t.StructField(\"movie_id\", t.StringType()),\n",
    "    t.StructField(\"tag_count\", t.ArrayType(t.StringType())),\n",
    "    t.StructField(\"min_time_tag\", t.TimestampType())\n",
    "])\n",
    "assert len(act_3_df1.columns) == 3\n",
    "assert \"movie_id\" in act_3_df1.columns\n",
    "assert \"tag_count\" in act_3_df1.columns\n",
    "assert \"min_time_tag\" in act_3_df1.columns\n",
    "assert schema_to_ddl(spark, act_3_df1.select(\"movie_id\", \"tag_count\", \"min_time_tag\")).replace(\" NOT NULL\", \"\") == 'movie_id STRING,tag_count ARRAY<STRING>,min_time_tag TIMESTAMP'\n",
    "assert act_3_df1.count() == 53452\n",
    "assert act_3_df1.filter(f.col(\"movie_id\") == \"100070\").subtract(spark.createDataFrame(expected_df1, schema_df1)).count() == 0\n",
    "\n",
    "\n",
    "expected_df2 = [\n",
    "    Row(movie_id='100070',\n",
    "        tag_count=[Row(tag='COMEDIAN', count=2),\n",
    "                   Row(tag='COMEDY', count=1),\n",
    "                   Row(tag='GOOD HUMOUR', count=1),\n",
    "                   Row(tag='STRUGGLING CAREER', count=1)],\n",
    "        min_time_tag=datetime.datetime(2017, 5, 19, 17, 17, 36))]\n",
    "schema_df2 = t.StructType([\n",
    "    t.StructField(\"movie_id\", t.StringType()),\n",
    "    t.StructField(\"tag_count\", t.ArrayType(t.StructType([\n",
    "        t.StructField(\"tag\", t.StringType()),\n",
    "        t.StructField(\"count\", t.LongType())\n",
    "    ]))),\n",
    "    t.StructField(\"min_time_tag\", t.TimestampType())\n",
    "])\n",
    "assert len(act_3_df2.columns) == 3\n",
    "assert \"movie_id\" in act_3_df2.columns\n",
    "assert \"tag_count\" in act_3_df2.columns\n",
    "assert \"min_time_tag\" in act_3_df2.columns\n",
    "assert schema_to_ddl(spark, act_3_df2.select(\"movie_id\", \"tag_count\", \"min_time_tag\")).replace(\" NOT NULL\", \"\") == 'movie_id STRING,tag_count ARRAY<STRUCT<tag: STRING, count: BIGINT>>,min_time_tag TIMESTAMP'\n",
    "assert act_3_df2.count() == 53452\n",
    "assert act_3_df2.filter(f.col(\"movie_id\") == \"100070\").subtract(spark.createDataFrame(expected_df2, schema_df2)).count() == 0"
   ]
  },
  {
   "cell_type": "code",
   "execution_count": 21,
   "id": "5328bd3f-1e6b-4ab7-950c-22e4904f07cd",
   "metadata": {},
   "outputs": [],
   "source": [
    "# NO MODIFICAR EL CONTENIDO DE ESTA CELDA\n",
    "dfs = [(act_3_df1, \"09/tags_p1\"),\n",
    "       (act_3_df2, \"09/tags_p2\")]\n",
    "\n",
    "write_tmp_df(dfs)"
   ]
  },
  {
   "cell_type": "code",
   "execution_count": 22,
   "id": "81bf84ab-0b94-4dc6-829e-b683e337b304",
   "metadata": {},
   "outputs": [],
   "source": [
    "# NO MODIFICAR EL CONTENIDO DE ESTA CELDA\n",
    "last_movies_df = movies_df \\\n",
    "    .join(act_3_df2, [\"movie_id\"], \"left\") \\\n",
    "    .join(rating_values_df, [\"movie_id\"], \"left\")"
   ]
  },
  {
   "cell_type": "code",
   "execution_count": 23,
   "id": "ea21abfb-d225-4147-8a5f-7aad1afbbfc7",
   "metadata": {},
   "outputs": [],
   "source": [
    "# NO MODIFICAR EL CONTENIDO DE ESTA CELDA\n",
    "dfs = [(last_movies_df, \"09/movies\")]\n",
    "\n",
    "write_tmp_df(dfs)"
   ]
  },
  {
   "cell_type": "markdown",
   "id": "1c7747f5-bf41-4a4d-a775-90cc9c75455a",
   "metadata": {},
   "source": [
    "#### Actividad 3:\n",
    "##### TO DO ->    La última actividad a realizar es la siguiente:\n",
    "- ##### El cliente nos ha solicitado generar una tabla donde se muestre el top de peliculas ranqueadas por genero, para realizar esto se realizan los siguientes pasos:\n",
    "    - ##### Las peliculas que entran a la parte del ranqueo deben cumplir con las siguientes condiciones:\n",
    "        -  count_rating > 1000\n",
    "        -  avg_rating >= 4.2\n",
    "        -  stddev_rating < 2\n",
    "    - #####  Descomponer la columna \"genres\" en una columna llamada \"genre\"\n",
    "    - ##### Agregar la columna \"top\" donde se asignará el valor de la función \"rank\" de Spark tomando las siguientes caracteristicas:\n",
    "        - particionar por: \"genre\"\n",
    "        - order por: avg_rating DESC, stddev_rating ASC, count_rating DESC\n",
    "##### El esquema resultante deberá ser:\n",
    "* |-- title: string\n",
    "* |-- year: integer\n",
    "* |-- genre: string\n",
    "* |-- top: integer"
   ]
  },
  {
   "cell_type": "code",
   "execution_count": 24,
   "id": "9f9b80c7-19a0-4e41-8ae6-057718058431",
   "metadata": {},
   "outputs": [
    {
     "name": "stdout",
     "output_type": "stream",
     "text": [
      "+--------+--------------------+--------------------+----+--------------------+-------------------+----------+-------------+------------+-------------------+\n",
      "|movie_id|               title|              genres|year|           tag_count|       min_time_tag|avg_rating|stddev_rating|count_rating|    min_time_rating|\n",
      "+--------+--------------------+--------------------+----+--------------------+-------------------+----------+-------------+------------+-------------------+\n",
      "|       3|Grumpier Old Men ...|   [Comedy, Romance]|1995|[{ANN MARGARET, 1...|2006-01-16 00:28:45|      3.17|         1.02|       15820|1996-01-29 17:54:45|\n",
      "|       1|    Toy Story (1995)|[Adventure, Anima...|1995|[{1990S, 1}, {200...|2006-01-12 19:19:35|      3.89|         0.93|       76813|1996-01-28 18:00:00|\n",
      "+--------+--------------------+--------------------+----+--------------------+-------------------+----------+-------------+------------+-------------------+\n",
      "only showing top 2 rows\n",
      "\n"
     ]
    }
   ],
   "source": [
    "# Tabla inicial:\n",
    "last_movies_df.show(2)"
   ]
  },
  {
   "cell_type": "code",
   "execution_count": 25,
   "id": "50b32ef7-ab48-4cd4-8c31-e9b2bcde1e76",
   "metadata": {},
   "outputs": [
    {
     "data": {
      "text/plain": [
       "'\\ndef get_all_genres(df):\\n    gag_df = df        .select(\\n            f.explode(f.col(\"genres\")).alias(\"list_of_genres\")\\n        )        .distinct()\\n    return gag_df\\n'"
      ]
     },
     "execution_count": 25,
     "metadata": {},
     "output_type": "execute_result"
    }
   ],
   "source": [
    "# Referencia:\n",
    "\"\"\"\n",
    "def get_all_genres(df):\n",
    "    gag_df = df\\\n",
    "        .select(\n",
    "            f.explode(f.col(\"genres\")).alias(\"list_of_genres\")\n",
    "        )\\\n",
    "        .distinct()\n",
    "    return gag_df\n",
    "\"\"\""
   ]
  },
  {
   "cell_type": "code",
   "execution_count": 26,
   "id": "d21f3657-54ba-4b2a-a139-1ba41daa8b0b",
   "metadata": {
    "scrolled": true
   },
   "outputs": [],
   "source": [
    "## TU CODIGO VA EN ESTA CELDA:\n",
    "# Transformaciones a last_movies_df\n",
    "\n",
    "df_act3 = last_movies_df\\\n",
    "    .filter(\n",
    "        (f.col(\"count_rating\") > 1000) &\n",
    "        (f.col(\"avg_rating\") >= 4.2) &\n",
    "        (f.col(\"stddev_rating\") < 2)\n",
    "    )\\\n",
    "    .select(\n",
    "        f.col(\"title\"),\n",
    "        f.col(\"year\"),\n",
    "        f.col(\"avg_rating\"),\n",
    "        f.col(\"stddev_rating\"),\n",
    "        f.col(\"count_rating\"),\n",
    "        f.explode(f.col(\"genres\")).alias(\"genre\")\n",
    "    )\n",
    "\n",
    "#TEST\n",
    "#df_act3.show(5)\n",
    "\n",
    "window_act3 = Window\\\n",
    "    .partitionBy(f.col(\"genre\"))\\\n",
    "    .orderBy(\n",
    "        f.col(\"avg_rating\").desc(),\n",
    "        f.col(\"stddev_rating\").asc(),\n",
    "        f.col(\"count_rating\").desc()\n",
    "    )\n",
    "\n",
    "top_movies_df = df_act3\\\n",
    "    .withColumn(\"top\", f.rank().over(window_act3))\\\n",
    "    .select(\"title\", \"year\", \"genre\", \"top\")\n",
    "\n",
    "#TEST:\n",
    "#top_movies_df.show(5)"
   ]
  },
  {
   "cell_type": "code",
   "execution_count": 27,
   "id": "a250478e-7fff-4384-bbbf-9ae81599285e",
   "metadata": {},
   "outputs": [
    {
     "name": "stdout",
     "output_type": "stream",
     "text": [
      "+--------------------+----+---------+---+\n",
      "|               title|year|    genre|top|\n",
      "+--------------------+----+---------+---+\n",
      "|Band of Brothers ...|2001|   Action|  1|\n",
      "|Seven Samurai (Sh...|1954|   Action|  2|\n",
      "|   Fight Club (1999)|1999|   Action|  3|\n",
      "|Over the Garden W...|2013|Adventure|  1|\n",
      "|Seven Samurai (Sh...|1954|Adventure|  2|\n",
      "+--------------------+----+---------+---+\n",
      "only showing top 5 rows\n",
      "\n"
     ]
    },
    {
     "data": {
      "text/plain": [
       "'\\nEjemplo de salida esperada (hay que mantener mismo orden de columnas):\\n+--------------------+----+---------+---+\\n|               title|year|    genre|top|\\n+--------------------+----+---------+---+\\n|Band of Brothers ...|2001|   Action|  1|\\n|Seven Samurai (Sh...|1954|   Action|  2|\\n|   Fight Club (1999)|1999|   Action|  3|\\n|Over the Garden W...|2013|Adventure|  1|\\n|Seven Samurai (Sh...|1954|Adventure|  2|\\n+--------------------+----+---------+---+\\nonly showing top 5 rows\\n'"
      ]
     },
     "execution_count": 27,
     "metadata": {},
     "output_type": "execute_result"
    }
   ],
   "source": [
    "# NO MODIFICAR EL CONTENIDO DE ESTA CELDA\n",
    "\n",
    "top_movies_df.show(5)\n",
    "\"\"\"\n",
    "Ejemplo de salida esperada (hay que mantener mismo orden de columnas):\n",
    "+--------------------+----+---------+---+\n",
    "|               title|year|    genre|top|\n",
    "+--------------------+----+---------+---+\n",
    "|Band of Brothers ...|2001|   Action|  1|\n",
    "|Seven Samurai (Sh...|1954|   Action|  2|\n",
    "|   Fight Club (1999)|1999|   Action|  3|\n",
    "|Over the Garden W...|2013|Adventure|  1|\n",
    "|Seven Samurai (Sh...|1954|Adventure|  2|\n",
    "+--------------------+----+---------+---+\n",
    "only showing top 5 rows\n",
    "\"\"\""
   ]
  },
  {
   "cell_type": "code",
   "execution_count": 28,
   "id": "2e8d5a52-1f1a-4ade-ba04-41266a276ca7",
   "metadata": {},
   "outputs": [],
   "source": [
    "assert top_movies_df.orderBy(f.col(\"genre\").asc(), f.col(\"top\").asc()).collect() == top_movies"
   ]
  },
  {
   "cell_type": "code",
   "execution_count": 29,
   "id": "7ea6c8bf-1fc0-40f7-8d4d-9711e0ec36a7",
   "metadata": {},
   "outputs": [],
   "source": [
    "# NO MODIFICAR EL CONTENIDO DE ESTA CELDA\n",
    "dfs = [(top_movies_df, \"09/top_movies\")]\n",
    "\n",
    "write_tmp_df(dfs)"
   ]
  },
  {
   "cell_type": "code",
   "execution_count": null,
   "id": "69335a59-913c-4eaa-82a3-a9668a64c9b6",
   "metadata": {},
   "outputs": [],
   "source": []
  }
 ],
 "metadata": {
  "kernelspec": {
   "display_name": "Python 3 (ipykernel)",
   "language": "python",
   "name": "python3"
  },
  "language_info": {
   "codemirror_mode": {
    "name": "ipython",
    "version": 3
   },
   "file_extension": ".py",
   "mimetype": "text/x-python",
   "name": "python",
   "nbconvert_exporter": "python",
   "pygments_lexer": "ipython3",
   "version": "3.9.13"
  }
 },
 "nbformat": 4,
 "nbformat_minor": 5
}
