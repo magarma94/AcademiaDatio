{
 "cells": [
  {
   "cell_type": "markdown",
   "id": "fc26ebe0-9fe4-49ce-9970-c45aa5c280db",
   "metadata": {},
   "source": [
    "#### Como parte de la primera evaluación necesitamos validar que es posible levantar la sesión de spark dada tu ambientación local, resuelve las siguientes actividades."
   ]
  },
  {
   "cell_type": "markdown",
   "id": "b44da53c-7cfe-45a1-9ee5-735619cbb7ea",
   "metadata": {},
   "source": [
    "#### Actividad 1:\n",
    "##### TO DO: Ejecuta las siguientes celdas"
   ]
  },
  {
   "cell_type": "code",
   "execution_count": 2,
   "id": "71db4bec-ce2a-4b44-98d0-4fbdab40ff18",
   "metadata": {},
   "outputs": [],
   "source": [
    "from pyspark.sql import SparkSession\n",
    "\n",
    "## Coloca tu nombre completo en la variable, después ejecuta\n",
    "nombre_completo = \"Mauricio Garduño Magaña - pyspark\"\n",
    "\n",
    "spark = SparkSession.builder \\\n",
    "    .master(\"local[*]\") \\\n",
    "    .appName(nombre_completo) \\\n",
    "    .getOrCreate()"
   ]
  },
  {
   "cell_type": "code",
   "execution_count": 3,
   "id": "a8612489-baab-4639-935a-245ef71c921c",
   "metadata": {},
   "outputs": [
    {
     "data": {
      "text/html": [
       "\n",
       "            <div>\n",
       "                <p><b>SparkSession - in-memory</b></p>\n",
       "                \n",
       "        <div>\n",
       "            <p><b>SparkContext</b></p>\n",
       "\n",
       "            <p><a href=\"http://23LAP5CD20860NP.indra.es:4040\">Spark UI</a></p>\n",
       "\n",
       "            <dl>\n",
       "              <dt>Version</dt>\n",
       "                <dd><code>v3.4.1</code></dd>\n",
       "              <dt>Master</dt>\n",
       "                <dd><code>local[*]</code></dd>\n",
       "              <dt>AppName</dt>\n",
       "                <dd><code>Mauricio Garduño Magaña - pyspark</code></dd>\n",
       "            </dl>\n",
       "        </div>\n",
       "        \n",
       "            </div>\n",
       "        "
      ],
      "text/plain": [
       "<pyspark.sql.session.SparkSession at 0x1636caaa640>"
      ]
     },
     "execution_count": 3,
     "metadata": {},
     "output_type": "execute_result"
    }
   ],
   "source": [
    "# 1- Toma una captura del \"Spark UI\"\n",
    "# 2- Almacena la imagen en la carpeta \"../../resources/img/\" con el nombre \"Sesion01.jpg\"\n",
    "spark"
   ]
  },
  {
   "cell_type": "code",
   "execution_count": null,
   "id": "8b7ab2d6-dc86-4723-984c-22fd645263b2",
   "metadata": {},
   "outputs": [],
   "source": [
    "# Ejecuta en una celda de tipo Markdown el contenido de: ![title](../../resources/img/Sesion01.jpg)"
   ]
  },
  {
   "cell_type": "markdown",
   "id": "3f8960bd-0b61-4e1a-80f1-835bd6fddf35",
   "metadata": {},
   "source": [
    "![title](../../resources/img/Session01_pyspark.jpg)"
   ]
  },
  {
   "cell_type": "code",
   "execution_count": null,
   "id": "bfa6b8f5-8e76-484b-8291-6a64bf7a5448",
   "metadata": {},
   "outputs": [],
   "source": [
    "# Guarda el notebook y sube los cambios a git"
   ]
  }
 ],
 "metadata": {
  "kernelspec": {
   "display_name": "Python 3 (ipykernel)",
   "language": "python",
   "name": "python3"
  },
  "language_info": {
   "codemirror_mode": {
    "name": "ipython",
    "version": 3
   },
   "file_extension": ".py",
   "mimetype": "text/x-python",
   "name": "python",
   "nbconvert_exporter": "python",
   "pygments_lexer": "ipython3",
   "version": "3.9.13"
  }
 },
 "nbformat": 4,
 "nbformat_minor": 5
}
