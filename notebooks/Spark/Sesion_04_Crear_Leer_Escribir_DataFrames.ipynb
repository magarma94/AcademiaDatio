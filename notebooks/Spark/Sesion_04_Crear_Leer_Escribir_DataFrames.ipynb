{
 "cells": [
  {
   "cell_type": "markdown",
   "id": "310df0be-54f1-4ae6-a179-67e407d8a1ad",
   "metadata": {},
   "source": [
    "- #### SparSession\n",
    "- #### Leer Dataframe\n",
    "- #### Esquema de un Dataframe\n",
    "- #### Crear Dataframe\n",
    "- #### Escribir Dataframe"
   ]
  },
  {
   "cell_type": "markdown",
   "id": "696bd9c1-3daf-4cb7-891a-e14f2ed8a6a8",
   "metadata": {},
   "source": [
    "## Hands on"
   ]
  },
  {
   "cell_type": "code",
   "execution_count": 1,
   "id": "aada02ed-6ee5-4c80-a4f9-9e980d298398",
   "metadata": {},
   "outputs": [],
   "source": [
    "import org.apache.spark.sql.{SparkSession, Row, DataFrame}\n",
    "import org.apache.spark.sql.types._"
   ]
  },
  {
   "cell_type": "markdown",
   "id": "5f52074d-797e-4418-a715-57e9072f94d3",
   "metadata": {},
   "source": [
    "### SparkSession"
   ]
  },
  {
   "cell_type": "code",
   "execution_count": 2,
   "id": "26e4f019-9285-465f-a7a0-b287ad778ea7",
   "metadata": {},
   "outputs": [
    {
     "data": {
      "text/plain": [
       "sc = org.apache.spark.SparkContext@ac9d5b0\n"
      ]
     },
     "metadata": {},
     "output_type": "display_data",
     "source": "user"
    },
    {
     "data": {
      "text/plain": [
       "spark: org.apache.spark.sql.SparkSession = org.apache.spark.sql.SparkSession@3a94792\r\n"
      ]
     },
     "metadata": {},
     "output_type": "display_data",
     "source": "user"
    },
    {
     "data": {
      "text/plain": [
       "org.apache.spark.SparkContext@ac9d5b0"
      ]
     },
     "execution_count": 2,
     "metadata": {},
     "output_type": "execute_result"
    }
   ],
   "source": [
    "val spark = SparkSession.builder().appName(\"sesion_1\").master(\"local[*]\").getOrCreate()\n",
    "val sc = spark.sparkContext"
   ]
  },
  {
   "cell_type": "code",
   "execution_count": 3,
   "id": "412d24e9-03ae-4425-a225-76d956753a16",
   "metadata": {},
   "outputs": [
    {
     "data": {
      "text/plain": [
       "Some(http://23LAP5CD20860NP.indra.es:4041)"
      ]
     },
     "execution_count": 3,
     "metadata": {},
     "output_type": "execute_result"
    }
   ],
   "source": [
    "sc.uiWebUrl"
   ]
  },
  {
   "cell_type": "markdown",
   "id": "046bb0a3-fe80-487e-8a40-9af923b8e0e7",
   "metadata": {},
   "source": [
    "### Read DataFrame"
   ]
  },
  {
   "cell_type": "code",
   "execution_count": 9,
   "id": "bf402d48-429e-4dd7-95dc-79dcf88b169f",
   "metadata": {},
   "outputs": [
    {
     "name": "stdout",
     "output_type": "stream",
     "text": [
      "+----------+-------+----+---------+----------+-----+\n",
      "|cod_client| nombre|edad|provincia|cod_postal|  vip|\n",
      "+----------+-------+----+---------+----------+-----+\n",
      "|     00001|  Julen|  31| Valencia|     23700|false|\n",
      "|     00002| Javier|  58|     Ja?n|     08728| true|\n",
      "|     00003| Carlos|  48|  Sevilla|     28757| true|\n",
      "|     00004|  Maria|  38|   Gerona|     18393| true|\n",
      "|     00005|Ernesto|  22|  C?ceres|     13950|false|\n",
      "|     00006|  Luisa|  43|   Murcia|     23940| true|\n",
      "|     00007|   Raul|  51|    ?lava|     09030|false|\n",
      "+----------+-------+----+---------+----------+-----+\n",
      "\n",
      "+-------+-----------+------------+----------+------+\n",
      "|cod_iuc|cod_titular|cod_producto|  fec_alta|activo|\n",
      "+-------+-----------+------------+----------+------+\n",
      "|  30000|      00006|         100|2012-05-01|  true|\n",
      "|  30001|      00006|         200|2014-05-01|  true|\n",
      "|  30002|      00006|         300|2006-02-01| false|\n",
      "|  30003|      00006|         150|2012-05-01|  true|\n",
      "|  30002|      00005|         300|2012-05-01|  true|\n",
      "|  30004|      00006|         400|2012-05-01| false|\n",
      "|  30005|      00006|         500|2012-05-01|  true|\n",
      "|  30006|      00006|         600|2012-05-01| false|\n",
      "|  30003|      00003|         150|2019-10-14|  true|\n",
      "|  30007|      00006|         700|2014-02-01| false|\n",
      "|  30008|      00006|         800|2012-05-01|  true|\n",
      "|  30009|      00006|         900|2015-09-01|  true|\n",
      "|  30009|      00002|         900|2009-10-01|  true|\n",
      "|  30010|      00006|        1000|2014-02-01|  true|\n",
      "|  30003|      00002|         150|2018-09-18|  true|\n",
      "|  30011|      00003|        1100|2018-10-01|  true|\n",
      "|  30007|      00006|         700|2012-05-01|  true|\n",
      "|  30007|      00002|         700|2015-05-15|  true|\n",
      "|  30002|      00007|         300|2001-04-11| false|\n",
      "|  30001|      00004|         200|2017-12-01|  true|\n",
      "+-------+-----------+------------+----------+------+\n",
      "only showing top 20 rows\n",
      "\n",
      "+------------+-----------------+\n",
      "|cod_producto|    desc_producto|\n",
      "+------------+-----------------+\n",
      "|         100|  tarjeta cr?dito|\n",
      "|         150|   tarjeta d?bito|\n",
      "|         200|pr?stamo personal|\n",
      "|         300|         hipoteca|\n",
      "|         400|plan de pensiones|\n",
      "|         500|            fondo|\n",
      "|         600|      seguro moto|\n",
      "|         700|     seguro coche|\n",
      "|         800|           nomina|\n",
      "|         900|    seguro ahorro|\n",
      "|        1000|         dep?sito|\n",
      "|        1100|          pension|\n",
      "+------------+-----------------+\n",
      "\n"
     ]
    },
    {
     "data": {
      "text/plain": [
       "productsDf = [cod_producto: string, desc_producto: string]\n"
      ]
     },
     "metadata": {},
     "output_type": "display_data",
     "source": "user"
    },
    {
     "data": {
      "text/plain": [
       "readCsv: (path: String)org.apache.spark.sql.DataFrame\r\n",
       "readParquet: (path: String)org.apache.spark.sql.DataFrame\r\n",
       "BasePath: String = ../../resources/data/csv/\r\n",
       "clientsDf: org.apache.spark.sql.DataFrame = [cod_client: string, nombre: string ... 4 more fields]\r\n",
       "contractsDf: org.apache.spark.sql.DataFrame = [cod_iuc: string, cod_titular: string ... 3 more fields]\r\n"
      ]
     },
     "metadata": {},
     "output_type": "display_data",
     "source": "user"
    },
    {
     "data": {
      "text/plain": [
       "[cod_producto: string, desc_producto: string]"
      ]
     },
     "execution_count": 9,
     "metadata": {},
     "output_type": "execute_result"
    }
   ],
   "source": [
    "// Colocar el tipo de dato de entrada (path: String) y el tipo de dato de salida (): DataFrame =\n",
    "def readCsv(path: String): DataFrame = {\n",
    "    spark.read\n",
    "        .option(\"header\",\"true\")\n",
    "        .option(\"delimiter\",\",\")\n",
    "        .option(\"inferSchema\",\"false\")\n",
    "        .csv(path)\n",
    "    }\n",
    "\n",
    "def readParquet(path: String): DataFrame = {\n",
    "    spark.read.parquet(path)\n",
    "    }\n",
    "\n",
    "val BasePath: String = \"../../resources/data/csv/\"\n",
    "val clientsDf: DataFrame = readCsv(BasePath + \"clients.csv\")\n",
    "val contractsDf: DataFrame = readCsv(BasePath + \"contracts.csv\")\n",
    "val productsDf: DataFrame = readCsv(BasePath + \"products.csv\")\n",
    "\n",
    "clientsDf.show()\n",
    "contractsDf.show()\n",
    "productsDf.show()"
   ]
  },
  {
   "cell_type": "code",
   "execution_count": 5,
   "id": "1b57aac4-0e63-4d3a-8270-20bce1520794",
   "metadata": {},
   "outputs": [
    {
     "name": "stdout",
     "output_type": "stream",
     "text": [
      "root\n",
      " |-- cod_client: string (nullable = true)\n",
      " |-- nombre: string (nullable = true)\n",
      " |-- edad: string (nullable = true)\n",
      " |-- provincia: string (nullable = true)\n",
      " |-- cod_postal: string (nullable = true)\n",
      " |-- vip: string (nullable = true)\n",
      "\n"
     ]
    }
   ],
   "source": [
    "clientsDf.printSchema()"
   ]
  },
  {
   "cell_type": "code",
   "execution_count": 6,
   "id": "362e0dc7-2961-4c94-b060-b8a96ad27240",
   "metadata": {},
   "outputs": [
    {
     "data": {
      "text/plain": [
       "Array(cod_client, nombre, edad, provincia, cod_postal, vip)"
      ]
     },
     "execution_count": 6,
     "metadata": {},
     "output_type": "execute_result"
    }
   ],
   "source": [
    "clientsDf.columns"
   ]
  },
  {
   "cell_type": "markdown",
   "id": "ea351534-8199-4be5-8812-d1f9cb34f94b",
   "metadata": {},
   "source": [
    "### Create Dataframe"
   ]
  },
  {
   "cell_type": "code",
   "execution_count": 10,
   "id": "1c796ef7-9e33-417c-b709-74dc2c75f727",
   "metadata": {},
   "outputs": [
    {
     "name": "stdout",
     "output_type": "stream",
     "text": [
      "+----------+------------------------------------+\n",
      "|cod_client|fecha_pago                          |\n",
      "+----------+------------------------------------+\n",
      "|00001     |[2020-01-01, 2022-01-01]            |\n",
      "|00002     |[2022-01-01, 2023-01-01, 2010-01-01]|\n",
      "+----------+------------------------------------+\n",
      "\n",
      "root\n",
      " |-- cod_client: string (nullable = true)\n",
      " |-- fecha_pago: array (nullable = true)\n",
      " |    |-- element: string (containsNull = true)\n",
      "\n"
     ]
    },
    {
     "data": {
      "text/plain": [
       "pagosDf = [cod_client: string, fecha_pago: array<string>]\n"
      ]
     },
     "metadata": {},
     "output_type": "display_data",
     "source": "user"
    },
    {
     "data": {
      "text/plain": [
       "data: Seq[org.apache.spark.sql.Row] = List([00001,List(2020-01-01, 2022-01-01)], [00002,List(2022-01-01, 2023-01-01, 2010-01-01)])\r\n",
       "schema: org.apache.spark.sql.types.StructType = StructType(StructField(cod_client,StringType,true),StructField(fecha_pago,ArrayType(StringType,true),true))\r\n"
      ]
     },
     "metadata": {},
     "output_type": "display_data",
     "source": "user"
    },
    {
     "data": {
      "text/plain": [
       "[cod_client: string, fecha_pago: array<string>]"
      ]
     },
     "execution_count": 10,
     "metadata": {},
     "output_type": "execute_result"
    }
   ],
   "source": [
    "val data = Seq(\n",
    "    Row(\"00001\", Seq(\"2020-01-01\", \"2022-01-01\")),\n",
    "    Row(\"00002\", Seq(\"2022-01-01\", \"2023-01-01\", \"2010-01-01\"))\n",
    "    )\n",
    "\n",
    "val schema = StructType(Seq(\n",
    "    StructField(\"cod_client\", StringType),\n",
    "    StructField(\"fecha_pago\", ArrayType(StringType))\n",
    "    ))\n",
    "\n",
    "val pagosDf = spark.createDataFrame(sc.parallelize(data), schema)\n",
    "\n",
    "pagosDf.show(2, false) // (número de valores a mostrar, truncar contenido? \"true\" o \"false\")\n",
    "pagosDf.printSchema()"
   ]
  },
  {
   "cell_type": "markdown",
   "id": "a48e7b37-47b9-4145-b558-79d858d067fb",
   "metadata": {},
   "source": [
    "### Write Dataframe"
   ]
  },
  {
   "cell_type": "code",
   "execution_count": 8,
   "id": "8230e7ba-ec6a-4b68-9ac2-82dbbb3fc4e6",
   "metadata": {},
   "outputs": [
    {
     "data": {
      "text/plain": [
       "basePathParquet = ../../resources/data/parquet/\n"
      ]
     },
     "metadata": {},
     "output_type": "display_data",
     "source": "user"
    },
    {
     "data": {
      "text/plain": [
       "../../resources/data/parquet/"
      ]
     },
     "execution_count": 8,
     "metadata": {},
     "output_type": "execute_result"
    }
   ],
   "source": [
    "val basePathParquet = \"../../resources/data/parquet/\"\n",
    "clientsDf.write.mode(\"overwrite\").parquet(basePathParquet + \"clients\")"
   ]
  },
  {
   "cell_type": "code",
   "execution_count": null,
   "id": "3e3fcdb6-2bf7-46bb-8090-8004038c9c70",
   "metadata": {},
   "outputs": [],
   "source": []
  }
 ],
 "metadata": {
  "kernelspec": {
   "display_name": "Apache Toree - Scala",
   "language": "scala",
   "name": "apache_toree_scala"
  },
  "language_info": {
   "codemirror_mode": "text/x-scala",
   "file_extension": ".scala",
   "mimetype": "text/x-scala",
   "name": "scala",
   "pygments_lexer": "scala",
   "version": "2.12.15"
  }
 },
 "nbformat": 4,
 "nbformat_minor": 5
}
