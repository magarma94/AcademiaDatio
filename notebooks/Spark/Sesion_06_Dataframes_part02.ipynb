{
 "cells": [
  {
   "cell_type": "markdown",
   "id": "3c32b616-f93c-478f-821c-223802edb396",
   "metadata": {},
   "source": [
    "- #### Transformaciones\n",
    "    - ##### select - when\n",
    "    - ##### where/filter\r\n"
   ]
  },
  {
   "cell_type": "code",
   "execution_count": 1,
   "id": "43770df0-6ba9-477f-9438-d27658409647",
   "metadata": {},
   "outputs": [
    {
     "data": {
      "text/plain": [
       "sc = org.apache.spark.SparkContext@e6be2d0\n"
      ]
     },
     "metadata": {},
     "output_type": "display_data",
     "source": "user"
    },
    {
     "data": {
      "text/plain": [
       "spark: org.apache.spark.sql.SparkSession = org.apache.spark.sql.SparkSession@5b7a3662\r\n"
      ]
     },
     "metadata": {},
     "output_type": "display_data",
     "source": "user"
    },
    {
     "data": {
      "text/plain": [
       "org.apache.spark.SparkContext@e6be2d0"
      ]
     },
     "execution_count": 1,
     "metadata": {},
     "output_type": "execute_result"
    }
   ],
   "source": [
    "import org.apache.spark.sql.{SparkSession, DataFrame, Column}\n",
    "\n",
    "val spark = SparkSession.builder\n",
    "        .appName(\"sesion_1\")\n",
    "        .master(\"local[*]\")\n",
    "        .getOrCreate()\n",
    "val sc = spark.sparkContext"
   ]
  },
  {
   "cell_type": "code",
   "execution_count": 2,
   "id": "c96fc930-1c0a-4afb-971a-5b80cdc4b289",
   "metadata": {},
   "outputs": [
    {
     "data": {
      "text/plain": [
       "Some(http://23LAP5CD20860NP.indra.es:4041)"
      ]
     },
     "execution_count": 2,
     "metadata": {},
     "output_type": "execute_result"
    }
   ],
   "source": [
    "sc.uiWebUrl"
   ]
  },
  {
   "cell_type": "code",
   "execution_count": 3,
   "id": "13b0fa8b-cf0f-475a-9b96-a735aba71861",
   "metadata": {},
   "outputs": [
    {
     "data": {
      "text/plain": [
       "contractsDf = [cod_iuc: string, cod_titular: string ... 3 more fields]\n"
      ]
     },
     "metadata": {},
     "output_type": "display_data",
     "source": "user"
    },
    {
     "data": {
      "text/plain": [
       "readCsv: (path: String)org.apache.spark.sql.DataFrame\r\n",
       "BasePath: String = ../../resources/data/csv/\r\n"
      ]
     },
     "metadata": {},
     "output_type": "display_data",
     "source": "user"
    },
    {
     "name": "stdout",
     "output_type": "stream",
     "text": [
      "+-------+-----------+------------+----------+------+\n",
      "|cod_iuc|cod_titular|cod_producto|  fec_alta|activo|\n",
      "+-------+-----------+------------+----------+------+\n",
      "|  30000|      00006|         100|2012-05-01|  true|\n",
      "|  30001|      00006|         200|2014-05-01|  true|\n",
      "|  30002|      00006|         300|2006-02-01| false|\n",
      "|  30003|      00006|         150|2012-05-01|  true|\n",
      "|  30002|      00005|         300|2012-05-01|  true|\n",
      "|  30004|      00006|         400|2012-05-01| false|\n",
      "|  30005|      00006|         500|2012-05-01|  true|\n",
      "|  30006|      00006|         600|2012-05-01| false|\n",
      "|  30003|      00003|         150|2019-10-14|  true|\n",
      "|  30007|      00006|         700|2014-02-01| false|\n",
      "|  30008|      00006|         800|2012-05-01|  true|\n",
      "|  30009|      00006|         900|2015-09-01|  true|\n",
      "|  30009|      00002|         900|2009-10-01|  true|\n",
      "|  30010|      00006|        1000|2014-02-01|  true|\n",
      "|  30003|      00002|         150|2018-09-18|  true|\n",
      "|  30011|      00003|        1100|2018-10-01|  true|\n",
      "|  30007|      00006|         700|2012-05-01|  true|\n",
      "|  30007|      00002|         700|2015-05-15|  true|\n",
      "|  30002|      00007|         300|2001-04-11| false|\n",
      "|  30001|      00004|         200|2017-12-01|  true|\n",
      "+-------+-----------+------------+----------+------+\n",
      "only showing top 20 rows\n",
      "\n"
     ]
    },
    {
     "data": {
      "text/plain": [
       "[cod_iuc: string, cod_titular: string ... 3 more fields]"
      ]
     },
     "execution_count": 3,
     "metadata": {},
     "output_type": "execute_result"
    }
   ],
   "source": [
    "def readCsv(path: String): DataFrame = {\n",
    "    spark.read\n",
    "        .option(\"header\",\"true\")\n",
    "        .option(\"delimiter\",\",\")\n",
    "        .option(\"inferSchema\",\"false\")\n",
    "        .csv(path)\n",
    "}\n",
    "\n",
    "val BasePath = \"../../resources/data/csv/\"\n",
    "val contractsDf = readCsv(BasePath + \"contracts.csv\")\n",
    "\n",
    "contractsDf.show()"
   ]
  },
  {
   "cell_type": "code",
   "execution_count": 6,
   "id": "0760c8c9-cad3-432e-b3f7-837d8b2e2aa8",
   "metadata": {},
   "outputs": [
    {
     "data": {
      "text/plain": [
       "resultedDf = [cod_iuc: string, cod_titular: string ... 6 more fields]\n"
      ]
     },
     "metadata": {},
     "output_type": "display_data",
     "source": "user"
    },
    {
     "data": {
      "text/plain": [
       "import org.apache.spark.sql.{functions=>f}\r\n",
       "import org.apache.spark.sql.{types=>t}\r\n",
       "difference: (l1: Seq[String], l2: Seq[String])Seq[org.apache.spark.sql.Column]\r\n"
      ]
     },
     "metadata": {},
     "output_type": "display_data",
     "source": "user"
    },
    {
     "name": "stdout",
     "output_type": "stream",
     "text": [
      "+-------+-----------+------------+------+------------+-----------+------------+----+\n",
      "|cod_iuc|cod_titular|cod_producto|activo|fec_alta_ini|actual_date|fec_alta_fin|diff|\n",
      "+-------+-----------+------------+------+------------+-----------+------------+----+\n",
      "|  30000|      00006|         100|  true|  2012-05-01| 2024-02-22|  2012-05-09|   8|\n",
      "|  30001|      00006|         200|  true|  2014-05-01| 2024-02-22|  2014-05-06|   5|\n",
      "|  30002|      00006|         300| false|  2006-02-01| 2024-02-22|  2006-02-02|   1|\n",
      "|  30003|      00006|         150|  true|  2012-05-01| 2024-02-22|  2012-05-04|   3|\n",
      "|  30002|      00005|         300|  true|  2012-05-01| 2024-02-22|  2012-05-08|   7|\n",
      "|  30004|      00006|         400| false|  2012-05-01| 2024-02-22|  2012-05-04|   3|\n",
      "|  30005|      00006|         500|  true|  2012-05-01| 2024-02-22|  2012-05-03|   2|\n",
      "|  30006|      00006|         600| false|  2012-05-01| 2024-02-22|  2012-05-07|   6|\n",
      "|  30003|      00003|         150|  true|  2019-10-14| 2024-02-22|  2019-10-21|   7|\n",
      "|  30007|      00006|         700| false|  2014-02-01| 2024-02-22|  2014-02-01|   0|\n",
      "|  30008|      00006|         800|  true|  2012-05-01| 2024-02-22|  2012-05-03|   2|\n",
      "|  30009|      00006|         900|  true|  2015-09-01| 2024-02-22|  2015-09-07|   6|\n",
      "|  30009|      00002|         900|  true|  2009-10-01| 2024-02-22|  2009-10-05|   4|\n",
      "|  30010|      00006|        1000|  true|  2014-02-01| 2024-02-22|  2014-02-06|   5|\n",
      "|  30003|      00002|         150|  true|  2018-09-18| 2024-02-22|  2018-09-22|   4|\n",
      "|  30011|      00003|        1100|  true|  2018-10-01| 2024-02-22|  2018-10-04|   3|\n",
      "|  30007|      00006|         700|  true|  2012-05-01| 2024-02-22|  2012-05-02|   1|\n",
      "|  30007|      00002|         700|  true|  2015-05-15| 2024-02-22|  2015-05-20|   5|\n",
      "|  30002|      00007|         300| false|  2001-04-11| 2024-02-22|  2001-04-17|   6|\n",
      "|  30001|      00004|         200|  true|  2017-12-01| 2024-02-22|  2017-12-03|   2|\n",
      "+-------+-----------+------------+------+------------+-----------+------------+----+\n",
      "only showing top 20 rows\n",
      "\n",
      "root\n",
      " |-- cod_iuc: string (nullable = true)\n",
      " |-- cod_titular: string (nullable = true)\n",
      " |-- cod_producto: string (nullable = true)\n",
      " |-- activo: boolean (nullable = true)\n",
      " |-- fec_alta_ini: date (nullable = true)\n",
      " |-- actual_date: date (nullable = false)\n",
      " |-- fec_alta_fin: date (nullable = true)\n",
      " |-- diff: integer (nullable = true)\n",
      "\n"
     ]
    },
    {
     "data": {
      "text/plain": [
       "[cod_iuc: string, cod_titular: string ... 6 more fields]"
      ]
     },
     "execution_count": 6,
     "metadata": {},
     "output_type": "execute_result"
    }
   ],
   "source": [
    "import org.apache.spark.sql.{functions => f}\n",
    "import org.apache.spark.sql.{types => t}\n",
    "\n",
    "// Select\n",
    "\n",
    "def difference(l1: Seq[String], l2: Seq[String]): Seq[Column] = {\n",
    "    l1.diff(l2).map(colName => f.col(colName))\n",
    "}\n",
    "// Concatenar :+\n",
    "// Desempaquetar :_*\n",
    "val resultedDf = contractsDf\n",
    "    .select(\n",
    "        difference(contractsDf.columns.toSeq, Seq(\"fec_alta\", \"activo\")) :+\n",
    "        f.col(\"activo\").cast(t.BooleanType) :+\n",
    "        f.col(\"fec_alta\").alias(\"fec_alta_ini\").cast(t.DateType) :+\n",
    "        f.current_date().alias(\"actual_date\") :+\n",
    "        f.round(f.rand(0) * f.lit(10)).cast(t.IntegerType).alias(\"randm_num\") :+\n",
    "        f.date_add(f.col(\"fec_alta_ini\"), f.col(\"randm_num\")).alias(\"fec_alta_fin\") :+\n",
    "        f.datediff(f.col(\"fec_alta_fin\"), f.col(\"fec_alta_ini\")).alias(\"diff\") :_*\n",
    "        )\n",
    "    .drop(\"randm_num\")\n",
    "\n",
    "resultedDf.show()\n",
    "resultedDf.printSchema()"
   ]
  },
  {
   "cell_type": "code",
   "execution_count": 7,
   "id": "d4a8754e-8ee1-401b-b2d7-00063e6a09db",
   "metadata": {},
   "outputs": [
    {
     "data": {
      "text/plain": [
       "selectWhenDf = [cod_iuc: string, cod_titular: string ... 8 more fields]\n"
      ]
     },
     "metadata": {},
     "output_type": "display_data",
     "source": "user"
    },
    {
     "data": {
      "text/plain": [
       "cond_1: org.apache.spark.sql.Column = (cod_producto <= 300)\r\n",
       "cond_2: org.apache.spark.sql.Column = (cod_producto <= 600)\r\n",
       "cond_3: org.apache.spark.sql.Column = (cod_producto <= 1000)\r\n"
      ]
     },
     "metadata": {},
     "output_type": "display_data",
     "source": "user"
    },
    {
     "name": "stdout",
     "output_type": "stream",
     "text": [
      "+-------+-----------+------------+------------+-----------+------------+----+--------+--------------+------+\n",
      "|cod_iuc|cod_titular|cod_producto|fec_alta_ini|actual_date|fec_alta_fin|diff| calidad|prioridad_alta|activo|\n",
      "+-------+-----------+------------+------------+-----------+------------+----+--------+--------------+------+\n",
      "|  30000|      00006|         100|  2012-05-01| 2024-02-22|  2012-05-09|   8|    baja|          null|  true|\n",
      "|  30001|      00006|         200|  2014-05-01| 2024-02-22|  2014-05-06|   5|    baja|          null|  true|\n",
      "|  30002|      00006|         300|  2006-02-01| 2024-02-22|  2006-02-02|   1|    baja|          null|  null|\n",
      "|  30003|      00006|         150|  2012-05-01| 2024-02-22|  2012-05-04|   3|    baja|          null|  true|\n",
      "|  30002|      00005|         300|  2012-05-01| 2024-02-22|  2012-05-08|   7|    baja|          null|  true|\n",
      "|  30004|      00006|         400|  2012-05-01| 2024-02-22|  2012-05-04|   3|   media|          null|  null|\n",
      "|  30005|      00006|         500|  2012-05-01| 2024-02-22|  2012-05-03|   2|   media|          null|  true|\n",
      "|  30006|      00006|         600|  2012-05-01| 2024-02-22|  2012-05-07|   6|   media|          null|  null|\n",
      "|  30003|      00003|         150|  2019-10-14| 2024-02-22|  2019-10-21|   7|    baja|          null|  true|\n",
      "|  30007|      00006|         700|  2014-02-01| 2024-02-22|  2014-02-01|   0|    alta|          null|  null|\n",
      "|  30008|      00006|         800|  2012-05-01| 2024-02-22|  2012-05-03|   2|    alta|            ok|  true|\n",
      "|  30009|      00006|         900|  2015-09-01| 2024-02-22|  2015-09-07|   6|    alta|            ok|  true|\n",
      "|  30009|      00002|         900|  2009-10-01| 2024-02-22|  2009-10-05|   4|    alta|            ok|  true|\n",
      "|  30010|      00006|        1000|  2014-02-01| 2024-02-22|  2014-02-06|   5|    alta|            ok|  true|\n",
      "|  30003|      00002|         150|  2018-09-18| 2024-02-22|  2018-09-22|   4|    baja|          null|  true|\n",
      "|  30011|      00003|        1100|  2018-10-01| 2024-02-22|  2018-10-04|   3|muy alta|            ok|  true|\n",
      "|  30007|      00006|         700|  2012-05-01| 2024-02-22|  2012-05-02|   1|    alta|            ok|  true|\n",
      "|  30007|      00002|         700|  2015-05-15| 2024-02-22|  2015-05-20|   5|    alta|            ok|  true|\n",
      "|  30002|      00007|         300|  2001-04-11| 2024-02-22|  2001-04-17|   6|    baja|          null|  null|\n",
      "|  30001|      00004|         200|  2017-12-01| 2024-02-22|  2017-12-03|   2|    baja|          null|  true|\n",
      "+-------+-----------+------------+------------+-----------+------------+----+--------+--------------+------+\n",
      "only showing top 20 rows\n",
      "\n"
     ]
    },
    {
     "data": {
      "text/plain": [
       "[cod_iuc: string, cod_titular: string ... 8 more fields]"
      ]
     },
     "execution_count": 7,
     "metadata": {},
     "output_type": "execute_result"
    }
   ],
   "source": [
    "// select- when\n",
    "\n",
    "val cond_1: Column = f.col(\"cod_producto\") <= 300 // baja\n",
    "val cond_2: Column = f.col(\"cod_producto\") <= 600 // media\n",
    "val cond_3: Column = f.col(\"cod_producto\") <= 1000 // alta\n",
    "\n",
    "val selectWhenDf = resultedDf\n",
    "    .select(\n",
    "        difference(resultedDf.columns.toSeq, Seq(\"activo\")) :+\n",
    "        f.when(cond_1, f.lit(\"baja\"))\n",
    "            .when(cond_2, f.lit(\"media\"))\n",
    "            .when(cond_3, f.lit(\"alta\"))\n",
    "            .otherwise(f.lit(\"muy alta\")).alias(\"calidad\") :+\n",
    "        f.when((f.col(\"activo\") === f.lit(true)) && (f.col(\"calidad\").isin(\"alta\", \"muy alta\")), f.lit(\"ok\")).alias(\"prioridad_alta\") :+\n",
    "        f.when(f.col(\"activo\") === true, f.lit(true)).alias(\"activo\") :_*\n",
    "    )\n",
    "\n",
    "selectWhenDf.show()"
   ]
  },
  {
   "cell_type": "code",
   "execution_count": 8,
   "id": "c41ac942-58bc-4b82-90a6-0506349588a2",
   "metadata": {},
   "outputs": [
    {
     "name": "stdout",
     "output_type": "stream",
     "text": [
      "+-------+-----------+------------+------------+-----------+------------+----+-------+--------------+------+\n",
      "|cod_iuc|cod_titular|cod_producto|fec_alta_ini|actual_date|fec_alta_fin|diff|calidad|prioridad_alta|activo|\n",
      "+-------+-----------+------------+------------+-----------+------------+----+-------+--------------+------+\n",
      "|  30009|      00006|         900|  2015-09-01| 2024-02-22|  2015-09-07|   6|   alta|            ok|  true|\n",
      "|  30010|      00006|        1000|  2014-02-01| 2024-02-22|  2014-02-06|   5|   alta|            ok|  true|\n",
      "|  30007|      00001|         700|  2016-07-01| 2024-02-22|  2016-07-03|   2|   alta|            ok|  true|\n",
      "|  30006|      00005|         600|  2016-12-10| 2024-02-22|  2016-12-10|   0|  media|          null|  true|\n",
      "+-------+-----------+------------+------------+-----------+------------+----+-------+--------------+------+\n",
      "\n"
     ]
    }
   ],
   "source": [
    "// where / filter\n",
    "// La negación en Scala es con !\n",
    "selectWhenDf\n",
    "    .filter(f.col(\"activo\").isNotNull)\n",
    "    .filter(!f.col(\"cod_producto\").isin(\"100\", \"200\", \"150\", \"300\"))\n",
    "    .where(f.col(\"fec_alta_ini\").between(\"2014-02-01\", \"2018-10-01\"))\n",
    "    .where((f.col(\"calidad\") === \"media\") || (f.col(\"cod_titular\").isin(\"00006\", \"00001\")))\n",
    "    .show()"
   ]
  },
  {
   "cell_type": "code",
   "execution_count": 9,
   "id": "b6b93a85-c1f7-4e14-917c-1810848dc6a7",
   "metadata": {},
   "outputs": [],
   "source": [
    "selectWhenDf\n",
    "    .write.mode(\"overwrite\").parquet(\"../../resources/data/parquet/contracts_tmp\")"
   ]
  },
  {
   "cell_type": "code",
   "execution_count": null,
   "id": "7a5561ac-6fef-4c93-92dc-507334cdd822",
   "metadata": {},
   "outputs": [],
   "source": []
  }
 ],
 "metadata": {
  "kernelspec": {
   "display_name": "Apache Toree - Scala",
   "language": "scala",
   "name": "apache_toree_scala"
  },
  "language_info": {
   "codemirror_mode": "text/x-scala",
   "file_extension": ".scala",
   "mimetype": "text/x-scala",
   "name": "scala",
   "pygments_lexer": "scala",
   "version": "2.12.15"
  }
 },
 "nbformat": 4,
 "nbformat_minor": 5
}
