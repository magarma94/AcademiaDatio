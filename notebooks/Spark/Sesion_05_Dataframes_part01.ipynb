{
 "cells": [
  {
   "cell_type": "markdown",
   "id": "d46a80c1-2dcf-46a3-a800-c54225283ea1",
   "metadata": {},
   "source": [
    "- #### Acciones\n",
    "    - ##### count\n",
    "    - ##### collect\n",
    "    - ##### show\n",
    "    - ##### isEmpty\n",
    "    - ##### head\n",
    "    - ##### first\n",
    "    - ##### take\n",
    "    - ##### tail\n",
    "- #### Transformaciones\n",
    "    - ##### withColumn\n",
    "    - ##### withColumnRenamed\n",
    "    - ##### drop"
   ]
  },
  {
   "cell_type": "code",
   "execution_count": 1,
   "id": "134ad6e6-d9d8-4a4e-8ff2-c3b8e57df985",
   "metadata": {},
   "outputs": [
    {
     "data": {
      "text/plain": [
       "sc = org.apache.spark.SparkContext@125bd5fc\n"
      ]
     },
     "metadata": {},
     "output_type": "display_data",
     "source": "user"
    },
    {
     "data": {
      "text/plain": [
       "spark: org.apache.spark.sql.SparkSession = org.apache.spark.sql.SparkSession@17990ebf\r\n"
      ]
     },
     "metadata": {},
     "output_type": "display_data",
     "source": "user"
    },
    {
     "data": {
      "text/plain": [
       "org.apache.spark.SparkContext@125bd5fc"
      ]
     },
     "execution_count": 1,
     "metadata": {},
     "output_type": "execute_result"
    }
   ],
   "source": [
    "import org.apache.spark.sql.{SparkSession, DataFrame}\n",
    "\n",
    "val spark = SparkSession.builder\n",
    "        .appName(\"sesion_1\")\n",
    "        .master(\"local[*]\")\n",
    "        .getOrCreate()\n",
    "val sc = spark.sparkContext"
   ]
  },
  {
   "cell_type": "code",
   "execution_count": 2,
   "id": "1b245934-d357-449c-a7cd-c3419b57f137",
   "metadata": {},
   "outputs": [
    {
     "data": {
      "text/plain": [
       "Some(http://23LAP5CD20860NP.indra.es:4041)"
      ]
     },
     "execution_count": 2,
     "metadata": {},
     "output_type": "execute_result"
    }
   ],
   "source": [
    "sc.uiWebUrl"
   ]
  },
  {
   "cell_type": "code",
   "execution_count": 3,
   "id": "5507947c-4d93-4278-b1af-a0c28e08f1af",
   "metadata": {},
   "outputs": [
    {
     "name": "stdout",
     "output_type": "stream",
     "text": [
      "+-------+-----------+------------+----------+------+\n",
      "|cod_iuc|cod_titular|cod_producto|  fec_alta|activo|\n",
      "+-------+-----------+------------+----------+------+\n",
      "|  30000|      00006|         100|2012-05-01|  true|\n",
      "|  30001|      00006|         200|2014-05-01|  true|\n",
      "|  30002|      00006|         300|2006-02-01| false|\n",
      "|  30003|      00006|         150|2012-05-01|  true|\n",
      "|  30002|      00005|         300|2012-05-01|  true|\n",
      "|  30004|      00006|         400|2012-05-01| false|\n",
      "|  30005|      00006|         500|2012-05-01|  true|\n",
      "|  30006|      00006|         600|2012-05-01| false|\n",
      "|  30003|      00003|         150|2019-10-14|  true|\n",
      "|  30007|      00006|         700|2014-02-01| false|\n",
      "|  30008|      00006|         800|2012-05-01|  true|\n",
      "|  30009|      00006|         900|2015-09-01|  true|\n",
      "|  30009|      00002|         900|2009-10-01|  true|\n",
      "|  30010|      00006|        1000|2014-02-01|  true|\n",
      "|  30003|      00002|         150|2018-09-18|  true|\n",
      "|  30011|      00003|        1100|2018-10-01|  true|\n",
      "|  30007|      00006|         700|2012-05-01|  true|\n",
      "|  30007|      00002|         700|2015-05-15|  true|\n",
      "|  30002|      00007|         300|2001-04-11| false|\n",
      "|  30001|      00004|         200|2017-12-01|  true|\n",
      "+-------+-----------+------------+----------+------+\n",
      "only showing top 20 rows\n",
      "\n"
     ]
    },
    {
     "data": {
      "text/plain": [
       "contractsDf = [cod_iuc: string, cod_titular: string ... 3 more fields]\n"
      ]
     },
     "metadata": {},
     "output_type": "display_data",
     "source": "user"
    },
    {
     "data": {
      "text/plain": [
       "readCsv: (path: String)org.apache.spark.sql.DataFrame\r\n",
       "BasePath: String = ../../resources/data/csv/\r\n"
      ]
     },
     "metadata": {},
     "output_type": "display_data",
     "source": "user"
    },
    {
     "data": {
      "text/plain": [
       "[cod_iuc: string, cod_titular: string ... 3 more fields]"
      ]
     },
     "execution_count": 3,
     "metadata": {},
     "output_type": "execute_result"
    }
   ],
   "source": [
    "def readCsv(path: String): DataFrame = {\n",
    "    spark.read\n",
    "        .option(\"header\",\"true\")\n",
    "        .option(\"delimiter\",\",\")\n",
    "        .option(\"inferSchema\",\"false\")\n",
    "        .csv(path)\n",
    "    }\n",
    "\n",
    "val BasePath = \"../../resources/data/csv/\"\n",
    "val contractsDf = readCsv(BasePath + \"contracts.csv\")\n",
    "\n",
    "contractsDf.show()"
   ]
  },
  {
   "cell_type": "markdown",
   "id": "c77c349c-9299-4d90-b4fb-02bae3694b06",
   "metadata": {},
   "source": [
    "## Actions"
   ]
  },
  {
   "cell_type": "code",
   "execution_count": 4,
   "id": "cc4b1862-d330-42c2-9436-90502e521998",
   "metadata": {},
   "outputs": [
    {
     "name": "stdout",
     "output_type": "stream",
     "text": [
      "32\n"
     ]
    }
   ],
   "source": [
    "// count\n",
    "println(contractsDf.count())"
   ]
  },
  {
   "cell_type": "code",
   "execution_count": 5,
   "id": "a2d7096d-f37a-4125-a77e-8346590b7223",
   "metadata": {},
   "outputs": [
    {
     "name": "stdout",
     "output_type": "stream",
     "text": [
      "WrappedArray([30000,00006,100,2012-05-01,true], [30001,00006,200,2014-05-01,true], [30002,00006,300,2006-02-01,false], [30003,00006,150,2012-05-01,true], [30002,00005,300,2012-05-01,true], [30004,00006,400,2012-05-01,false], [30005,00006,500,2012-05-01,true], [30006,00006,600,2012-05-01,false], [30003,00003,150,2019-10-14,true], [30007,00006,700,2014-02-01,false], [30008,00006,800,2012-05-01,true], [30009,00006,900,2015-09-01,true], [30009,00002,900,2009-10-01,true], [30010,00006,1000,2014-02-01,true], [30003,00002,150,2018-09-18,true], [30011,00003,1100,2018-10-01,true], [30007,00006,700,2012-05-01,true], [30007,00002,700,2015-05-15,true], [30002,00007,300,2001-04-11,false], [30001,00004,200,2017-12-01,true], [30001,00005,200,2019-11-10,true], [30005,00001,500,2007-03-22,true], [30007,00001,700,2016-07-01,true], [30007,00002,600,2020-04-01,true], [30003,00001,150,2016-05-01,true], [30003,00004,150,2020-03-01,true], [30006,00005,600,2016-12-10,true], [30000,00005,100,2015-05-25,true], [30008,00007,800,2004-09-01,true], [30008,00002,800,2014-03-21,true], [30004,00002,400,2008-02-01,false], [30010,00007,1000,2014-08-01,false])\n"
     ]
    }
   ],
   "source": [
    "// collect\n",
    "println(contractsDf.collect().toSeq)"
   ]
  },
  {
   "cell_type": "code",
   "execution_count": 6,
   "id": "cd0b99ea-024e-4a95-b0b4-f89fdf06f8a1",
   "metadata": {},
   "outputs": [
    {
     "name": "stdout",
     "output_type": "stream",
     "text": [
      "sealed class $read extends _root_.java.io.Serializable {\n",
      "  def <init>() = {\n",
      "    super.<init>;\n",
      "    ()\n",
      "  };\n",
      "  sealed class $iw extends _root_.java.io.Serializable {\n",
      "    def <init>() = {\n",
      "      super.<init>;\n",
      "      ()\n",
      "    };\n",
      "    sealed class $iw extends _root_.java.io.Serializable {\n",
      "      def <init>() = {\n",
      "        super.<init>;\n",
      "        ()\n",
      "      };\n",
      "      import org.apache.spark.SparkContext._;\n",
      "      sealed class $iw extends _root_.java.io.Serializable {\n",
      "        def <init>() = {\n",
      "          super.<init>;\n",
      "          ()\n",
      "        };\n",
      "        import org.apache.toree.kernel.api.Kernel;\n",
      "        val $line6$read: $line6.$read.INSTANCE.type = $line6.$read.INSTANCE;\n",
      "        import $line6$read.$iw.$iw.$iw.$iw.kernel;\n",
      "        import org.apache.spark.sql.SparkSession;\n",
      "        import org.apache.spark.sql.SQLContext;\n",
      "        import org.apache.spark.sql.SQLImplicits;\n",
      "        val $line9$read: $line9.$read.INSTANCE.type = $line9.$read.INSTANCE;\n",
      "        import $line9$read.$iw.$iw.$iw.$iw.implicits;\n",
      "        sealed class $iw extends _root_.java.io.Serializable {\n",
      "          def <init>() = {\n",
      "            super.<init>;\n",
      "            ()\n",
      "          };\n",
      "          import implicits._;\n",
      "          sealed class $iw extends _root_.java.io.Serializable {\n",
      "            def <init>() = {\n",
      "              super.<init>;\n",
      "              ()\n",
      "            };\n",
      "            import org.apache.spark.sql.{SparkSession, DataFrame};\n",
      "            val $line15$read: $line15.$read.INSTANCE.type = $line15.$read.INSTANCE;\n",
      "            import $line15$read.$iw.$iw.$iw.$iw.$iw.$iw.contractsDf;\n",
      "            sealed class $iw extends _root_.java.io.Serializable {\n",
      "              def <init>() = {\n",
      "                super.<init>;\n",
      "                ()\n",
      "              };\n",
      "              val res4 = contractsDf.show(5, false)\n",
      "            };\n",
      "            val $iw = new $iw.<init>\n",
      "          };\n",
      "          val $iw = new $iw.<init>\n",
      "        };\n",
      "        val $iw = new $iw.<init>\n",
      "      };\n",
      "      val $iw = new $iw.<init>\n",
      "    };\n",
      "    val $iw = new $iw.<init>\n",
      "  };\n",
      "  val $iw = new $iw.<init>\n",
      "}\n",
      "object $read extends scala.AnyRef {\n",
      "  def <init>() = {\n",
      "    super.<init>;\n",
      "    ()\n",
      "  };\n",
      "  val INSTANCE = new $read.<init>\n",
      "}\n",
      "+-------+-----------+------------+----------+------+\n",
      "|cod_iuc|cod_titular|cod_producto|fec_alta  |activo|\n",
      "+-------+-----------+------------+----------+------+\n",
      "|30000  |00006      |100         |2012-05-01|true  |\n",
      "|30001  |00006      |200         |2014-05-01|true  |\n",
      "|30002  |00006      |300         |2006-02-01|false |\n",
      "|30003  |00006      |150         |2012-05-01|true  |\n",
      "|30002  |00005      |300         |2012-05-01|true  |\n",
      "+-------+-----------+------------+----------+------+\n",
      "only showing top 5 rows\n",
      "\n"
     ]
    }
   ],
   "source": [
    "// show\n",
    "contractsDf.show(5, false)"
   ]
  },
  {
   "cell_type": "code",
   "execution_count": 7,
   "id": "ede11ad5-4952-458c-97b0-0a2620520b35",
   "metadata": {},
   "outputs": [
    {
     "data": {
      "text/plain": [
       "false"
      ]
     },
     "execution_count": 7,
     "metadata": {},
     "output_type": "execute_result"
    }
   ],
   "source": [
    "// isEmpty\n",
    "contractsDf.isEmpty"
   ]
  },
  {
   "cell_type": "code",
   "execution_count": 8,
   "id": "e156f064-842e-4f09-bec1-058dc814bdf1",
   "metadata": {},
   "outputs": [
    {
     "data": {
      "text/plain": [
       "Array([30000,00006,100,2012-05-01,true], [30001,00006,200,2014-05-01,true], [30002,00006,300,2006-02-01,false])"
      ]
     },
     "execution_count": 8,
     "metadata": {},
     "output_type": "execute_result"
    }
   ],
   "source": [
    "// first() -> primer elemento del df -> head()\n",
    "// head(n) -> primer N-elementos del df -> take(n)\n",
    "// take -> primer N-elementos del df -> limit().collect()\n",
    "\n",
    "contractsDf.head(3)"
   ]
  },
  {
   "cell_type": "code",
   "execution_count": 9,
   "id": "32e63b1f-baaf-403b-8d38-16f97df0d807",
   "metadata": {},
   "outputs": [
    {
     "data": {
      "text/plain": [
       "Array([30008,00002,800,2014-03-21,true], [30004,00002,400,2008-02-01,false], [30010,00007,1000,2014-08-01,false])"
      ]
     },
     "execution_count": 9,
     "metadata": {},
     "output_type": "execute_result"
    }
   ],
   "source": [
    "// tail\n",
    "contractsDf.tail(3)"
   ]
  },
  {
   "cell_type": "markdown",
   "id": "50fe740c-769e-4fbe-a0d9-838d0ac84792",
   "metadata": {},
   "source": [
    "## Transformations"
   ]
  },
  {
   "cell_type": "code",
   "execution_count": 10,
   "id": "5131bfc7-4f39-4e61-807b-909482bd695f",
   "metadata": {},
   "outputs": [
    {
     "data": {
      "text/plain": [
       "import org.apache.spark.sql.{functions=>f}\r\n",
       "import org.apache.spark.sql.{types=>t}\n"
      ]
     },
     "metadata": {},
     "output_type": "display_data",
     "source": "user"
    }
   ],
   "source": [
    "import org.apache.spark.sql.{functions => f}\n",
    "import org.apache.spark.sql.{types => t}"
   ]
  },
  {
   "cell_type": "markdown",
   "id": "080c6cb3-a52b-4dcf-8d82-0f554963455d",
   "metadata": {},
   "source": [
    "#### withColumn, withColumnRenamed, drop"
   ]
  },
  {
   "cell_type": "code",
   "execution_count": 11,
   "id": "8b325471-7613-467d-adbf-60c6d72695d4",
   "metadata": {},
   "outputs": [
    {
     "data": {
      "text/plain": [
       "resultedDf = [cod_iuc: string, cod_titular: string ... 6 more fields]\n"
      ]
     },
     "metadata": {},
     "output_type": "display_data",
     "source": "user"
    },
    {
     "name": "stdout",
     "output_type": "stream",
     "text": [
      "+-------+-----------+------------+------------+------+-----------+------------+----+\n",
      "|cod_iuc|cod_titular|cod_producto|fec_alta_ini|activo|actual_date|fec_alta_fin|diff|\n",
      "+-------+-----------+------------+------------+------+-----------+------------+----+\n",
      "|  30000|      00006|         100|  2012-05-01|  true| 2024-02-21|  2012-05-09|   8|\n",
      "|  30001|      00006|         200|  2014-05-01|  true| 2024-02-21|  2014-05-06|   5|\n",
      "|  30002|      00006|         300|  2006-02-01| false| 2024-02-21|  2006-02-02|   1|\n",
      "|  30003|      00006|         150|  2012-05-01|  true| 2024-02-21|  2012-05-04|   3|\n",
      "|  30002|      00005|         300|  2012-05-01|  true| 2024-02-21|  2012-05-08|   7|\n",
      "|  30004|      00006|         400|  2012-05-01| false| 2024-02-21|  2012-05-04|   3|\n",
      "|  30005|      00006|         500|  2012-05-01|  true| 2024-02-21|  2012-05-03|   2|\n",
      "|  30006|      00006|         600|  2012-05-01| false| 2024-02-21|  2012-05-07|   6|\n",
      "|  30003|      00003|         150|  2019-10-14|  true| 2024-02-21|  2019-10-21|   7|\n",
      "|  30007|      00006|         700|  2014-02-01| false| 2024-02-21|  2014-02-01|   0|\n",
      "|  30008|      00006|         800|  2012-05-01|  true| 2024-02-21|  2012-05-03|   2|\n",
      "|  30009|      00006|         900|  2015-09-01|  true| 2024-02-21|  2015-09-07|   6|\n",
      "|  30009|      00002|         900|  2009-10-01|  true| 2024-02-21|  2009-10-05|   4|\n",
      "|  30010|      00006|        1000|  2014-02-01|  true| 2024-02-21|  2014-02-06|   5|\n",
      "|  30003|      00002|         150|  2018-09-18|  true| 2024-02-21|  2018-09-22|   4|\n",
      "|  30011|      00003|        1100|  2018-10-01|  true| 2024-02-21|  2018-10-04|   3|\n",
      "|  30007|      00006|         700|  2012-05-01|  true| 2024-02-21|  2012-05-02|   1|\n",
      "|  30007|      00002|         700|  2015-05-15|  true| 2024-02-21|  2015-05-20|   5|\n",
      "|  30002|      00007|         300|  2001-04-11| false| 2024-02-21|  2001-04-17|   6|\n",
      "|  30001|      00004|         200|  2017-12-01|  true| 2024-02-21|  2017-12-03|   2|\n",
      "+-------+-----------+------------+------------+------+-----------+------------+----+\n",
      "only showing top 20 rows\n",
      "\n",
      "root\n",
      " |-- cod_iuc: string (nullable = true)\n",
      " |-- cod_titular: string (nullable = true)\n",
      " |-- cod_producto: string (nullable = true)\n",
      " |-- fec_alta_ini: string (nullable = true)\n",
      " |-- activo: string (nullable = true)\n",
      " |-- actual_date: date (nullable = false)\n",
      " |-- fec_alta_fin: date (nullable = true)\n",
      " |-- diff: integer (nullable = true)\n",
      "\n"
     ]
    },
    {
     "data": {
      "text/plain": [
       "[cod_iuc: string, cod_titular: string ... 6 more fields]"
      ]
     },
     "execution_count": 11,
     "metadata": {},
     "output_type": "execute_result"
    }
   ],
   "source": [
    "val resultedDf = contractsDf\n",
    "    .withColumnRenamed(\"fec_alta\", \"fec_alta_ini\")\n",
    "    .withColumn(\"actual_date\", f.current_date())\n",
    "    .withColumn(\"randm_num\", f.round(f.rand(0) * f.lit(10)).cast(t.IntegerType))\n",
    "    .withColumn(\"fec_alta_fin\", f.date_add(f.col(\"fec_alta_ini\"), f.col(\"randm_num\")))\n",
    "    .withColumn(\"diff\", f.datediff(f.col(\"fec_alta_fin\"), f.col(\"fec_alta_ini\")))\n",
    "    .drop(\"randm_num\")\n",
    "\n",
    "resultedDf.show()\n",
    "resultedDf.printSchema()"
   ]
  },
  {
   "cell_type": "code",
   "execution_count": 12,
   "id": "72a411d9-a3dc-4586-874f-9ca7bd2cf9f4",
   "metadata": {},
   "outputs": [
    {
     "data": {
      "text/plain": [
       "resultedAgainDf = [cod_iuc: string, cod_titular: string ... 6 more fields]\n"
      ]
     },
     "metadata": {},
     "output_type": "display_data",
     "source": "user"
    },
    {
     "data": {
      "text/plain": [
       "dictCols: scala.collection.immutable.Map[String,org.apache.spark.sql.Column] = Map(actual_date -> current_date(), randm_num -> CAST(round((rand(0) * 10), 0) AS INT), fec_alta_fin -> date_add(fec_alta_ini, randm_num), diff -> datediff(fec_alta_fin, fec_alta_ini))\r\n"
      ]
     },
     "metadata": {},
     "output_type": "display_data",
     "source": "user"
    },
    {
     "name": "stdout",
     "output_type": "stream",
     "text": [
      "+-------+-----------+------------+------------+------+-----------+------------+----+\n",
      "|cod_iuc|cod_titular|cod_producto|fec_alta_ini|activo|actual_date|fec_alta_fin|diff|\n",
      "+-------+-----------+------------+------------+------+-----------+------------+----+\n",
      "|  30000|      00006|         100|  2012-05-01|  true| 2024-02-21|  2012-05-09|   8|\n",
      "|  30001|      00006|         200|  2014-05-01|  true| 2024-02-21|  2014-05-06|   5|\n",
      "|  30002|      00006|         300|  2006-02-01| false| 2024-02-21|  2006-02-02|   1|\n",
      "|  30003|      00006|         150|  2012-05-01|  true| 2024-02-21|  2012-05-04|   3|\n",
      "|  30002|      00005|         300|  2012-05-01|  true| 2024-02-21|  2012-05-08|   7|\n",
      "|  30004|      00006|         400|  2012-05-01| false| 2024-02-21|  2012-05-04|   3|\n",
      "|  30005|      00006|         500|  2012-05-01|  true| 2024-02-21|  2012-05-03|   2|\n",
      "|  30006|      00006|         600|  2012-05-01| false| 2024-02-21|  2012-05-07|   6|\n",
      "|  30003|      00003|         150|  2019-10-14|  true| 2024-02-21|  2019-10-21|   7|\n",
      "|  30007|      00006|         700|  2014-02-01| false| 2024-02-21|  2014-02-01|   0|\n",
      "|  30008|      00006|         800|  2012-05-01|  true| 2024-02-21|  2012-05-03|   2|\n",
      "|  30009|      00006|         900|  2015-09-01|  true| 2024-02-21|  2015-09-07|   6|\n",
      "|  30009|      00002|         900|  2009-10-01|  true| 2024-02-21|  2009-10-05|   4|\n",
      "|  30010|      00006|        1000|  2014-02-01|  true| 2024-02-21|  2014-02-06|   5|\n",
      "|  30003|      00002|         150|  2018-09-18|  true| 2024-02-21|  2018-09-22|   4|\n",
      "|  30011|      00003|        1100|  2018-10-01|  true| 2024-02-21|  2018-10-04|   3|\n",
      "|  30007|      00006|         700|  2012-05-01|  true| 2024-02-21|  2012-05-02|   1|\n",
      "|  30007|      00002|         700|  2015-05-15|  true| 2024-02-21|  2015-05-20|   5|\n",
      "|  30002|      00007|         300|  2001-04-11| false| 2024-02-21|  2001-04-17|   6|\n",
      "|  30001|      00004|         200|  2017-12-01|  true| 2024-02-21|  2017-12-03|   2|\n",
      "+-------+-----------+------------+------------+------+-----------+------------+----+\n",
      "only showing top 20 rows\n",
      "\n",
      "root\n",
      " |-- cod_iuc: string (nullable = true)\n",
      " |-- cod_titular: string (nullable = true)\n",
      " |-- cod_producto: string (nullable = true)\n",
      " |-- fec_alta_ini: string (nullable = true)\n",
      " |-- activo: string (nullable = true)\n",
      " |-- actual_date: date (nullable = false)\n",
      " |-- fec_alta_fin: date (nullable = true)\n",
      " |-- diff: integer (nullable = true)\n",
      "\n"
     ]
    },
    {
     "data": {
      "text/plain": [
       "[cod_iuc: string, cod_titular: string ... 6 more fields]"
      ]
     },
     "execution_count": 12,
     "metadata": {},
     "output_type": "execute_result"
    }
   ],
   "source": [
    "val dictCols = Map(\n",
    "    \"actual_date\" -> f.current_date(),\n",
    "    \"randm_num\" -> f.round(f.rand(0) * f.lit(10)).cast(t.IntegerType),\n",
    "    \"fec_alta_fin\" -> f.date_add(f.col(\"fec_alta_ini\"), f.col(\"randm_num\")),\n",
    "    \"diff\" -> f.datediff(f.col(\"fec_alta_fin\"), f.col(\"fec_alta_ini\"))\n",
    "    )\n",
    "\n",
    "val resultedAgainDf = contractsDf\n",
    "    .withColumnRenamed(\"fec_alta\", \"fec_alta_ini\")\n",
    "    .withColumns(dictCols)\n",
    "    .drop(\"randm_num\")\n",
    "\n",
    "resultedAgainDf.show()\n",
    "resultedAgainDf.printSchema()"
   ]
  },
  {
   "cell_type": "code",
   "execution_count": null,
   "id": "4bb278ac-7da4-46fa-851f-0dd934154f08",
   "metadata": {},
   "outputs": [],
   "source": []
  }
 ],
 "metadata": {
  "kernelspec": {
   "display_name": "Apache Toree - Scala",
   "language": "scala",
   "name": "apache_toree_scala"
  },
  "language_info": {
   "codemirror_mode": "text/x-scala",
   "file_extension": ".scala",
   "mimetype": "text/x-scala",
   "name": "scala",
   "pygments_lexer": "scala",
   "version": "2.12.15"
  }
 },
 "nbformat": 4,
 "nbformat_minor": 5
}
