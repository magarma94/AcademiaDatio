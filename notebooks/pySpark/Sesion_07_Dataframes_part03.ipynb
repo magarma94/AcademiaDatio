{
 "cells": [
  {
   "cell_type": "markdown",
   "id": "13beccdc-323e-4bb3-b80a-f48d3447aabf",
   "metadata": {},
   "source": [
    "- #### Transformaciones\n",
    "    - ##### sort/orderBy\n",
    "    - ##### dropDuplicates\n",
    "    - ##### distinct\n",
    "    - ##### groupBy\n",
    "    - ##### union/unionAll\n",
    "    - ##### unionByName"
   ]
  },
  {
   "cell_type": "code",
   "execution_count": 1,
   "id": "43770df0-6ba9-477f-9438-d27658409647",
   "metadata": {},
   "outputs": [],
   "source": [
    "from pyspark.sql import SparkSession\n",
    "\n",
    "spark = SparkSession.builder \\\n",
    "        .appName(\"sesion_1\") \\\n",
    "        .master(\"local[*]\") \\\n",
    "        .getOrCreate()"
   ]
  },
  {
   "cell_type": "code",
   "execution_count": 2,
   "id": "13b0fa8b-cf0f-475a-9b96-a735aba71861",
   "metadata": {},
   "outputs": [
    {
     "name": "stdout",
     "output_type": "stream",
     "text": [
      "+-------+-----------+------------+------------+-----------+------------+----+--------+--------------+------+\n",
      "|cod_iuc|cod_titular|cod_producto|fec_alta_ini|actual_date|fec_alta_fin|diff| calidad|prioridad_alta|activo|\n",
      "+-------+-----------+------------+------------+-----------+------------+----+--------+--------------+------+\n",
      "|  30000|      00006|         100|  2012-05-01| 2024-02-22|  2012-05-09|   8|    baja|          null|  true|\n",
      "|  30001|      00006|         200|  2014-05-01| 2024-02-22|  2014-05-06|   5|    baja|          null|  true|\n",
      "|  30002|      00006|         300|  2006-02-01| 2024-02-22|  2006-02-02|   1|    baja|          null|  null|\n",
      "|  30003|      00006|         150|  2012-05-01| 2024-02-22|  2012-05-04|   3|    baja|          null|  true|\n",
      "|  30002|      00005|         300|  2012-05-01| 2024-02-22|  2012-05-08|   7|    baja|          null|  true|\n",
      "|  30004|      00006|         400|  2012-05-01| 2024-02-22|  2012-05-04|   3|   media|          null|  null|\n",
      "|  30005|      00006|         500|  2012-05-01| 2024-02-22|  2012-05-03|   2|   media|          null|  true|\n",
      "|  30006|      00006|         600|  2012-05-01| 2024-02-22|  2012-05-07|   6|   media|          null|  null|\n",
      "|  30003|      00003|         150|  2019-10-14| 2024-02-22|  2019-10-21|   7|    baja|          null|  true|\n",
      "|  30007|      00006|         700|  2014-02-01| 2024-02-22|  2014-02-01|   0|    alta|          null|  null|\n",
      "|  30008|      00006|         800|  2012-05-01| 2024-02-22|  2012-05-03|   2|    alta|            ok|  true|\n",
      "|  30009|      00006|         900|  2015-09-01| 2024-02-22|  2015-09-07|   6|    alta|            ok|  true|\n",
      "|  30009|      00002|         900|  2009-10-01| 2024-02-22|  2009-10-05|   4|    alta|            ok|  true|\n",
      "|  30010|      00006|        1000|  2014-02-01| 2024-02-22|  2014-02-06|   5|    alta|            ok|  true|\n",
      "|  30003|      00002|         150|  2018-09-18| 2024-02-22|  2018-09-22|   4|    baja|          null|  true|\n",
      "|  30011|      00003|        1100|  2018-10-01| 2024-02-22|  2018-10-04|   3|muy alta|            ok|  true|\n",
      "|  30007|      00006|         700|  2012-05-01| 2024-02-22|  2012-05-02|   1|    alta|            ok|  true|\n",
      "|  30007|      00002|         700|  2015-05-15| 2024-02-22|  2015-05-20|   5|    alta|            ok|  true|\n",
      "|  30002|      00007|         300|  2001-04-11| 2024-02-22|  2001-04-17|   6|    baja|          null|  null|\n",
      "|  30001|      00004|         200|  2017-12-01| 2024-02-22|  2017-12-03|   2|    baja|          null|  true|\n",
      "+-------+-----------+------------+------------+-----------+------------+----+--------+--------------+------+\n",
      "only showing top 20 rows\n",
      "\n",
      "root\n",
      " |-- cod_iuc: string (nullable = true)\n",
      " |-- cod_titular: string (nullable = true)\n",
      " |-- cod_producto: string (nullable = true)\n",
      " |-- fec_alta_ini: date (nullable = true)\n",
      " |-- actual_date: date (nullable = true)\n",
      " |-- fec_alta_fin: date (nullable = true)\n",
      " |-- diff: integer (nullable = true)\n",
      " |-- calidad: string (nullable = true)\n",
      " |-- prioridad_alta: string (nullable = true)\n",
      " |-- activo: boolean (nullable = true)\n",
      "\n"
     ]
    }
   ],
   "source": [
    "\n",
    "base_path = \"../../resources/data/parquet/\"\n",
    "contracts_df = spark.read.parquet(base_path + \"contracts_tmp\")\n",
    "\n",
    "contracts_df.show()\n",
    "contracts_df.printSchema()"
   ]
  },
  {
   "cell_type": "code",
   "execution_count": 3,
   "id": "b6b93a85-c1f7-4e14-917c-1810848dc6a7",
   "metadata": {},
   "outputs": [
    {
     "name": "stdout",
     "output_type": "stream",
     "text": [
      "+-------+-----------+------------+------------+-----------+------------+----+--------+--------------+------+\n",
      "|cod_iuc|cod_titular|cod_producto|fec_alta_ini|actual_date|fec_alta_fin|diff| calidad|prioridad_alta|activo|\n",
      "+-------+-----------+------------+------------+-----------+------------+----+--------+--------------+------+\n",
      "|  30011|      00003|        1100|  2018-10-01| 2024-02-22|  2018-10-04|   3|muy alta|            ok|  true|\n",
      "|  30010|      00007|        1000|  2014-08-01| 2024-02-22|  2014-08-08|   7|    alta|          null|  null|\n",
      "|  30010|      00006|        1000|  2014-02-01| 2024-02-22|  2014-02-06|   5|    alta|            ok|  true|\n",
      "|  30009|      00006|         900|  2015-09-01| 2024-02-22|  2015-09-07|   6|    alta|            ok|  true|\n",
      "|  30009|      00002|         900|  2009-10-01| 2024-02-22|  2009-10-05|   4|    alta|            ok|  true|\n",
      "|  30008|      00002|         800|  2014-03-21| 2024-02-22|  2014-03-29|   8|    alta|            ok|  true|\n",
      "|  30008|      00006|         800|  2012-05-01| 2024-02-22|  2012-05-03|   2|    alta|            ok|  true|\n",
      "|  30008|      00007|         800|  2004-09-01| 2024-02-22|  2004-09-10|   9|    alta|            ok|  true|\n",
      "|  30007|      00002|         600|  2020-04-01| 2024-02-22|  2020-04-03|   2|   media|          null|  true|\n",
      "|  30007|      00001|         700|  2016-07-01| 2024-02-22|  2016-07-03|   2|    alta|            ok|  true|\n",
      "|  30007|      00002|         700|  2015-05-15| 2024-02-22|  2015-05-20|   5|    alta|            ok|  true|\n",
      "|  30007|      00006|         700|  2014-02-01| 2024-02-22|  2014-02-01|   0|    alta|          null|  null|\n",
      "|  30007|      00006|         700|  2012-05-01| 2024-02-22|  2012-05-02|   1|    alta|            ok|  true|\n",
      "|  30006|      00005|         600|  2016-12-10| 2024-02-22|  2016-12-10|   0|   media|          null|  true|\n",
      "|  30006|      00006|         600|  2012-05-01| 2024-02-22|  2012-05-07|   6|   media|          null|  null|\n",
      "|  30005|      00006|         500|  2012-05-01| 2024-02-22|  2012-05-03|   2|   media|          null|  true|\n",
      "|  30005|      00001|         500|  2007-03-22| 2024-02-22|  2007-03-31|   9|   media|          null|  true|\n",
      "|  30004|      00006|         400|  2012-05-01| 2024-02-22|  2012-05-04|   3|   media|          null|  null|\n",
      "|  30004|      00002|         400|  2008-02-01| 2024-02-22|  2008-02-10|   9|   media|          null|  null|\n",
      "|  30003|      00004|         150|  2020-03-01| 2024-02-22|  2020-03-08|   7|    baja|          null|  true|\n",
      "+-------+-----------+------------+------------+-----------+------------+----+--------+--------------+------+\n",
      "only showing top 20 rows\n",
      "\n"
     ]
    }
   ],
   "source": [
    "# sort/orderBy - operación que invokucra shuffle\n",
    "\n",
    "import pyspark.sql.functions as f\n",
    "\n",
    "contracts_df.orderBy(f.col(\"cod_iuc\").desc(), f.col(\"fec_alta_fin\").desc()).show()"
   ]
  },
  {
   "cell_type": "code",
   "execution_count": 4,
   "id": "f65370ab-774b-4672-96a7-2ab982bcc537",
   "metadata": {},
   "outputs": [],
   "source": [
    "# dropDuplicates distinct\n",
    "\n",
    "#contracts_df.dropDuplicates([\"cod_iuc\", \"cod_producto\"]).show()\n",
    "\n",
    "#contracts_df.distinct().show() # - .distinct() Elimina valores duplicados"
   ]
  },
  {
   "cell_type": "code",
   "execution_count": 5,
   "id": "70d0543a-4984-4873-ae29-8cbf258a4e99",
   "metadata": {},
   "outputs": [
    {
     "name": "stdout",
     "output_type": "stream",
     "text": [
      "+-------+-----+\n",
      "|cod_iuc|count|\n",
      "+-------+-----+\n",
      "|  30002|    3|\n",
      "|  30005|    2|\n",
      "|  30006|    2|\n",
      "|  30009|    2|\n",
      "|  30008|    3|\n",
      "|  30007|    5|\n",
      "|  30004|    2|\n",
      "|  30003|    5|\n",
      "|  30000|    2|\n",
      "|  30011|    1|\n",
      "|  30001|    3|\n",
      "|  30010|    2|\n",
      "+-------+-----+\n",
      "\n",
      "+-------+------+-----+--------+--------+--------+-----------------+-----------------+----------------+\n",
      "|cod_iuc|activo|count|sum_diff|max_diff|min_diff|        mean_diff|         avg_diff|max_fec_alta_ini|\n",
      "+-------+------+-----+--------+--------+--------+-----------------+-----------------+----------------+\n",
      "|  30002|  null|    2|       7|       6|       1|              3.5|              3.5|      2006-02-01|\n",
      "|  30006|  null|    1|       6|       6|       6|              6.0|              6.0|      2012-05-01|\n",
      "|  30001|  true|    3|      16|       9|       2|5.333333333333333|5.333333333333333|      2019-11-10|\n",
      "|  30003|  true|    5|      23|       7|       2|              4.6|              4.6|      2020-03-01|\n",
      "|  30002|  true|    1|       7|       7|       7|              7.0|              7.0|      2012-05-01|\n",
      "|  30000|  true|    2|      13|       8|       5|              6.5|              6.5|      2015-05-25|\n",
      "|  30007|  null|    1|       0|       0|       0|              0.0|              0.0|      2014-02-01|\n",
      "|  30004|  null|    2|      12|       9|       3|              6.0|              6.0|      2012-05-01|\n",
      "|  30008|  true|    3|      19|       9|       2|6.333333333333333|6.333333333333333|      2014-03-21|\n",
      "|  30011|  true|    1|       3|       3|       3|              3.0|              3.0|      2018-10-01|\n",
      "|  30010|  true|    1|       5|       5|       5|              5.0|              5.0|      2014-02-01|\n",
      "|  30005|  true|    2|      11|       9|       2|              5.5|              5.5|      2012-05-01|\n",
      "|  30006|  true|    1|       0|       0|       0|              0.0|              0.0|      2016-12-10|\n",
      "|  30007|  true|    4|      10|       5|       1|              2.5|              2.5|      2020-04-01|\n",
      "|  30010|  null|    1|       7|       7|       7|              7.0|              7.0|      2014-08-01|\n",
      "|  30009|  true|    2|      10|       6|       4|              5.0|              5.0|      2015-09-01|\n",
      "+-------+------+-----+--------+--------+--------+-----------------+-----------------+----------------+\n",
      "\n"
     ]
    }
   ],
   "source": [
    "# groupBy -> count, max, min, avg, mean, sum\n",
    "\n",
    "contracts_df.groupBy(\"cod_iuc\").count().show()\n",
    "#contracts_df.groupBy(f.col(\"cod_iuc\")).sum(\"diff\").show()\n",
    "#contracts_df.groupBy(f.col(\"cod_iuc\")).max(\"fec_alta_ini\").show()\n",
    "\n",
    "contracts_df.groupBy(f.col(\"cod_iuc\"), f.col(\"activo\"))\\\n",
    "    .agg(\n",
    "        f.count(\"*\").alias(\"count\"),\n",
    "        f.sum(\"diff\").alias(\"sum_diff\"),\n",
    "        f.max(\"diff\").alias(\"max_diff\"),\n",
    "        f.min(\"diff\").alias(\"min_diff\"),\n",
    "        f.mean(\"diff\").alias(\"mean_diff\"),\n",
    "        f.avg(\"diff\").alias(\"avg_diff\"),\n",
    "        f.max(\"fec_alta_ini\").alias(\"max_fec_alta_ini\")\n",
    "    ).show()\n"
   ]
  },
  {
   "cell_type": "code",
   "execution_count": 6,
   "id": "85753db0-d5f5-42f0-ab6d-7503067a404a",
   "metadata": {},
   "outputs": [
    {
     "name": "stdout",
     "output_type": "stream",
     "text": [
      "+-------+-------------+----------------------+--------------+-------------+----------------------+-----------------+\n",
      "|cod_iuc|null_count(1)|null_max(fec_alta_fin)|null_avg(diff)|true_count(1)|true_max(fec_alta_fin)|   true_avg(diff)|\n",
      "+-------+-------------+----------------------+--------------+-------------+----------------------+-----------------+\n",
      "|  30002|            2|            2006-02-02|           3.5|            1|            2012-05-08|              7.0|\n",
      "|  30005|            0|                  null|          null|            2|            2012-05-03|              5.5|\n",
      "|  30006|            1|            2012-05-07|           6.0|            1|            2016-12-10|              0.0|\n",
      "|  30009|            0|                  null|          null|            2|            2015-09-07|              5.0|\n",
      "|  30008|            0|                  null|          null|            3|            2014-03-29|6.333333333333333|\n",
      "|  30007|            1|            2014-02-01|           0.0|            4|            2020-04-03|              2.5|\n",
      "|  30004|            2|            2012-05-04|           6.0|            0|                  null|             null|\n",
      "|  30003|            0|                  null|          null|            5|            2020-03-08|              4.6|\n",
      "|  30000|            0|                  null|          null|            2|            2015-05-30|              6.5|\n",
      "|  30011|            0|                  null|          null|            1|            2018-10-04|              3.0|\n",
      "|  30001|            0|                  null|          null|            3|            2019-11-19|5.333333333333333|\n",
      "|  30010|            1|            2014-08-08|           7.0|            1|            2014-02-06|              5.0|\n",
      "+-------+-------------+----------------------+--------------+-------------+----------------------+-----------------+\n",
      "\n"
     ]
    }
   ],
   "source": [
    "contracts_df\\\n",
    "    .groupBy(\"cod_iuc\") \\\n",
    "    .pivot(\"activo\") \\\n",
    "    .agg(\n",
    "        f.count(\"*\"),\n",
    "        f.max(\"fec_alta_fin\"),\n",
    "        f.avg(\"diff\")\n",
    "    ) \\\n",
    "    .show()"
   ]
  },
  {
   "cell_type": "code",
   "execution_count": 7,
   "id": "cce4dd4a-59d0-4dbd-ba98-84801d2a45b1",
   "metadata": {},
   "outputs": [
    {
     "name": "stdout",
     "output_type": "stream",
     "text": [
      "+-------+-----------+------------+------------+-----------+------------+----+-------+--------------+------+\n",
      "|cod_iuc|cod_titular|cod_producto|fec_alta_ini|actual_date|fec_alta_fin|diff|calidad|prioridad_alta|activo|\n",
      "+-------+-----------+------------+------------+-----------+------------+----+-------+--------------+------+\n",
      "|  30002|      00006|         300|  2006-02-01| 2024-02-22|  2006-02-02|   1|   baja|          null|  null|\n",
      "|  30004|      00006|         400|  2012-05-01| 2024-02-22|  2012-05-04|   3|  media|          null|  null|\n",
      "|  30006|      00006|         600|  2012-05-01| 2024-02-22|  2012-05-07|   6|  media|          null|  null|\n",
      "|  30007|      00006|         700|  2014-02-01| 2024-02-22|  2014-02-01|   0|   alta|          null|  null|\n",
      "|  30002|      00007|         300|  2001-04-11| 2024-02-22|  2001-04-17|   6|   baja|          null|  null|\n",
      "|  30004|      00002|         400|  2008-02-01| 2024-02-22|  2008-02-10|   9|  media|          null|  null|\n",
      "|  30010|      00007|        1000|  2014-08-01| 2024-02-22|  2014-08-08|   7|   alta|          null|  null|\n",
      "+-------+-----------+------------+------------+-----------+------------+----+-------+--------------+------+\n",
      "\n",
      "+-----------+------------+-----------+\n",
      "|cod_titular|fec_alta_ini|actual_date|\n",
      "+-----------+------------+-----------+\n",
      "|      00006|  2006-02-01| 2024-02-22|\n",
      "|      00006|  2012-05-01| 2024-02-22|\n",
      "|      00006|  2012-05-01| 2024-02-22|\n",
      "|      00006|  2014-02-01| 2024-02-22|\n",
      "|      00007|  2001-04-11| 2024-02-22|\n",
      "|      00002|  2008-02-01| 2024-02-22|\n",
      "|      00007|  2014-08-01| 2024-02-22|\n",
      "|      00006|  2006-02-01| 2024-02-22|\n",
      "|      00006|  2012-05-01| 2024-02-22|\n",
      "|      00006|  2012-05-01| 2024-02-22|\n",
      "|      00006|  2014-02-01| 2024-02-22|\n",
      "|      00007|  2001-04-11| 2024-02-22|\n",
      "|      00002|  2008-02-01| 2024-02-22|\n",
      "|      00007|  2014-08-01| 2024-02-22|\n",
      "+-----------+------------+-----------+\n",
      "\n",
      "+-----------+------------+-----------+\n",
      "|cod_titular|fec_alta_ini|actual_date|\n",
      "+-----------+------------+-----------+\n",
      "|      00006|  2006-02-01| 2024-02-22|\n",
      "|      00006|  2012-05-01| 2024-02-22|\n",
      "|      00006|  2012-05-01| 2024-02-22|\n",
      "|      00006|  2014-02-01| 2024-02-22|\n",
      "|      00007|  2001-04-11| 2024-02-22|\n",
      "|      00002|  2008-02-01| 2024-02-22|\n",
      "|      00007|  2014-08-01| 2024-02-22|\n",
      "|      00006|  2006-02-01| 2024-02-22|\n",
      "|      00006|  2012-05-01| 2024-02-22|\n",
      "|      00006|  2012-05-01| 2024-02-22|\n",
      "|      00006|  2014-02-01| 2024-02-22|\n",
      "|      00007|  2001-04-11| 2024-02-22|\n",
      "|      00002|  2008-02-01| 2024-02-22|\n",
      "|      00007|  2014-08-01| 2024-02-22|\n",
      "+-----------+------------+-----------+\n",
      "\n"
     ]
    }
   ],
   "source": [
    "## union/unionAll unionByName\n",
    "contracts_tmp_df = contracts_df.filter(f.col(\"activo\").isNull())\n",
    "\n",
    "contracts_tmp_df.show()\n",
    "\n",
    "contracts_tmp_df.select(\"cod_titular\",\"fec_alta_ini\",\"actual_date\")\\\n",
    "    .union(contracts_tmp_df.select(\"cod_titular\",\"fec_alta_ini\",\"actual_date\")).show()\n",
    "\n",
    "contracts_tmp_df.select(\"cod_titular\",\"fec_alta_ini\",\"actual_date\")\\\n",
    "    .unionByName(contracts_tmp_df.select(\"actual_date\",\"cod_titular\",\"fec_alta_ini\")).show()"
   ]
  },
  {
   "cell_type": "code",
   "execution_count": null,
   "id": "15c0ad3d-d796-472e-bb63-85c6998c0dd0",
   "metadata": {},
   "outputs": [],
   "source": []
  }
 ],
 "metadata": {
  "kernelspec": {
   "display_name": "Python 3 (ipykernel)",
   "language": "python",
   "name": "python3"
  },
  "language_info": {
   "codemirror_mode": {
    "name": "ipython",
    "version": 3
   },
   "file_extension": ".py",
   "mimetype": "text/x-python",
   "name": "python",
   "nbconvert_exporter": "python",
   "pygments_lexer": "ipython3",
   "version": "3.9.13"
  }
 },
 "nbformat": 4,
 "nbformat_minor": 5
}
