{
 "cells": [
  {
   "cell_type": "markdown",
   "id": "88e85f7b-7369-435d-b060-268e93d92475",
   "metadata": {},
   "source": [
    "## RDD"
   ]
  },
  {
   "cell_type": "markdown",
   "id": "bbf2900f-a72f-48ba-be8b-95a3680469ef",
   "metadata": {},
   "source": [
    "#### Transformations:\n",
    "\n",
    "https://spark.apache.org/docs/latest/rdd-programming-guide.html#transformations\n",
    "\n",
    "#### Actions\n",
    "\n",
    "https://spark.apache.org/docs/latest/rdd-programming-guide.html#actions"
   ]
  },
  {
   "cell_type": "code",
   "execution_count": 1,
   "id": "1b6548b1-97a7-47d0-a08b-e5e96bb6753b",
   "metadata": {},
   "outputs": [],
   "source": [
    "from pyspark import RDD\n",
    "from pyspark.sql import SparkSession\n",
    "\n",
    "spark = SparkSession.builder.appName(\"Sesion_3\").master(\"local[*]\").getOrCreate()\n",
    "sc = spark.sparkContext"
   ]
  },
  {
   "cell_type": "code",
   "execution_count": 2,
   "id": "009847e5-8c61-4e58-87b1-0f682555d124",
   "metadata": {},
   "outputs": [
    {
     "data": {
      "text/html": [
       "\n",
       "            <div>\n",
       "                <p><b>SparkSession - in-memory</b></p>\n",
       "                \n",
       "        <div>\n",
       "            <p><b>SparkContext</b></p>\n",
       "\n",
       "            <p><a href=\"http://23LAP5CD20860NP.indra.es:4041\">Spark UI</a></p>\n",
       "\n",
       "            <dl>\n",
       "              <dt>Version</dt>\n",
       "                <dd><code>v3.4.1</code></dd>\n",
       "              <dt>Master</dt>\n",
       "                <dd><code>local[*]</code></dd>\n",
       "              <dt>AppName</dt>\n",
       "                <dd><code>Sesion_3</code></dd>\n",
       "            </dl>\n",
       "        </div>\n",
       "        \n",
       "            </div>\n",
       "        "
      ],
      "text/plain": [
       "<pyspark.sql.session.SparkSession at 0x190b3a4b6d0>"
      ]
     },
     "execution_count": 2,
     "metadata": {},
     "output_type": "execute_result"
    }
   ],
   "source": [
    "spark"
   ]
  },
  {
   "cell_type": "code",
   "execution_count": 3,
   "id": "801c68e9-97a3-4138-8ddd-71375eb69dd8",
   "metadata": {},
   "outputs": [],
   "source": [
    "pokemon_rdd: RDD[str] = sc.textFile(name = \"../../resources/data/csv/pokemon.csv\") # \\\n",
    "    #.flatMap(lambda line: [line + \",\" + str(i) for i in range(0, 10)])\n",
    "\n",
    "pokemon_rdd.foreach(lambda item: print(item))"
   ]
  },
  {
   "cell_type": "code",
   "execution_count": 9,
   "id": "59781b39-3ee4-4e70-8916-243169b98246",
   "metadata": {},
   "outputs": [],
   "source": [
    "import re\n",
    "## re es para aplicar Expresiones Regulares\n",
    "clean_pokemon_rdd = pokemon_rdd\\\n",
    "    .map(lambda line: line.split(\",\"))\\\n",
    "    .filter(lambda array_str: True if re.match(\"^[0-9]+$\", array_str[0]) else False)\\\n",
    "    .map(lambda array_str: [int(array_str[0]), str(array_str[1]), str(array_str[2]), str(array_str[3]),\n",
    "                            int(array_str[4]), int(array_str[5]), int(array_str[6]), int(array_str[7]),\n",
    "                            int(array_str[8]), int(array_str[9]), int(array_str[10]), int(array_str[11]),\n",
    "                            True if array_str[12] == \"True\" else False\n",
    "                            ])\n",
    "\n",
    "clean_pokemon_rdd.foreach(lambda item: print(item))"
   ]
  },
  {
   "cell_type": "code",
   "execution_count": 5,
   "id": "187e541f-fe9c-4d9f-87cd-2c1c7df3c7fa",
   "metadata": {},
   "outputs": [
    {
     "name": "stdout",
     "output_type": "stream",
     "text": [
      "65\n",
      "65\n",
      "65\n"
     ]
    }
   ],
   "source": [
    "# Cuantos pokemon legendarios existen?\n",
    "count_legendary = clean_pokemon_rdd \\\n",
    "    .map(lambda array: [array[12], 1]) \\\n",
    "    .filter(lambda item: item[0]) \\\n",
    "    .map(lambda item: item[1]) \\\n",
    "    .reduce(lambda item_1, item_2: item_1 + item_2)\n",
    "\n",
    "print(count_legendary)\n",
    "\n",
    "count_legendary = clean_pokemon_rdd \\\n",
    "        .map(lambda array: [array[12], 1]) \\\n",
    "        .reduceByKey(lambda item_1, item_2: item_1 + item_2) \\\n",
    "        .filter(lambda item: item[0]) \\\n",
    "        .collect()[0][1]\n",
    "\n",
    "print(count_legendary)\n",
    "\n",
    "## Lo mismo que lo anterior, pero más simplificado\n",
    "count_legendary = clean_pokemon_rdd \\\n",
    "        .filter(lambda item: item[12]) \\\n",
    "        .count()\n",
    "\n",
    "print(count_legendary)"
   ]
  },
  {
   "cell_type": "code",
   "execution_count": 6,
   "id": "db885f91-b7ec-4e59-9ef4-5496abc8899b",
   "metadata": {},
   "outputs": [],
   "source": [
    "# Valor promedio de ataque por cada type_1\n",
    "clean_pokemon_rdd \\\n",
    "    .map(lambda array: (array[2], array[6])) \\\n",
    "    .groupByKey() \\\n",
    "    .mapValues(lambda values: (sum(list(values)), len(list(values)))) \\\n",
    "    .mapValues(lambda items: items[0]/items[1]) \\\n",
    "    .foreach(lambda item: print(item))\n",
    "\n",
    "clean_pokemon_rdd \\\n",
    "    .map(lambda array: (array[2], array[6])) \\\n",
    "    .groupByKey() \\\n",
    "    .map(lambda values: (values[0], sum(list(values[1])) / len(list(values[1])))) \\\n",
    "    .foreach(lambda item: print(item))\n",
    "\n",
    "clean_pokemon_rdd \\\n",
    "    .map(lambda array: (array[2], (array[6], 1))) \\\n",
    "    .reduceByKey(lambda tuple_1, tuple_2: (tuple_1[0] + tuple_2[0], tuple_1[1] + tuple_2[1])) \\\n",
    "    .map(lambda results: (results[0], results[1][0]/results[1][1])) \\\n",
    "    .foreach(lambda item: print(item))"
   ]
  },
  {
   "cell_type": "code",
   "execution_count": 7,
   "id": "d9ac34f7-4cda-4e12-94bf-3e79b38e6956",
   "metadata": {},
   "outputs": [],
   "source": [
    "#Pokemon con mejor score en Total POR cada TYPE 1 Y POR GENERACIÓN OMITIENDO LOS LEGENDARIOS\n",
    "clean_pokemon_rdd \\\n",
    "    .filter(lambda array: ~array[12]) \\\n",
    "    .map(lambda array: ((array[2], array[11]), (array[1], array[4]))) \\\n",
    "    .reduceByKey(lambda item_1, item_2: item_1 if item_1[1] > item_2[1] else item_2) \\\n",
    "    .foreach(lambda item: print(item))"
   ]
  },
  {
   "cell_type": "code",
   "execution_count": 17,
   "id": "5934683a-1101-4caf-a7e0-bfc912c75f67",
   "metadata": {},
   "outputs": [],
   "source": [
    "#Top 3 Pokemon con mejor score en Total POR cada TYPE 1 Y POR GENERACIÓN OMITIENDO LOS LEGENDARIOS\n",
    "clean_pokemon_rdd \\\n",
    "    .filter(lambda array: ~array[12]) \\\n",
    "    .map(lambda array: ((array[2], array[11]), (array[1], array[4]))) \\\n",
    "    .groupByKey() \\\n",
    "    .mapValues(lambda items: sorted(list(items), key=lambda x: x[1], reverse=True)[0:3]) \\\n",
    "    .flatMapValues(lambda results: results) \\\n",
    "    .foreach(lambda item: print(item))"
   ]
  },
  {
   "cell_type": "code",
   "execution_count": null,
   "id": "8baed243-c79a-402e-aaea-95406a09e59d",
   "metadata": {},
   "outputs": [],
   "source": []
  }
 ],
 "metadata": {
  "kernelspec": {
   "display_name": "Python 3 (ipykernel)",
   "language": "python",
   "name": "python3"
  },
  "language_info": {
   "codemirror_mode": {
    "name": "ipython",
    "version": 3
   },
   "file_extension": ".py",
   "mimetype": "text/x-python",
   "name": "python",
   "nbconvert_exporter": "python",
   "pygments_lexer": "ipython3",
   "version": "3.9.13"
  }
 },
 "nbformat": 4,
 "nbformat_minor": 5
}
