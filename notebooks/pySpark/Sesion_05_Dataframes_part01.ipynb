{
 "cells": [
  {
   "cell_type": "markdown",
   "id": "d46a80c1-2dcf-46a3-a800-c54225283ea1",
   "metadata": {},
   "source": [
    "- #### Acciones\n",
    "    - ##### count\n",
    "    - ##### collect\n",
    "    - ##### show\n",
    "    - ##### isEmpty\n",
    "    - ##### head\n",
    "    - ##### first\n",
    "    - ##### take\n",
    "    - ##### tail\n",
    "- #### Transformaciones\n",
    "    - ##### withColumn\n",
    "    - ##### withColumnRenamed\n",
    "    - ##### drop"
   ]
  },
  {
   "cell_type": "code",
   "execution_count": 1,
   "id": "134ad6e6-d9d8-4a4e-8ff2-c3b8e57df985",
   "metadata": {},
   "outputs": [],
   "source": [
    "from pyspark.sql import SparkSession\n",
    "\n",
    "spark = SparkSession.builder \\\n",
    "        .appName(\"sesion_1\") \\\n",
    "        .master(\"local[*]\") \\\n",
    "        .getOrCreate()"
   ]
  },
  {
   "cell_type": "code",
   "execution_count": 2,
   "id": "5507947c-4d93-4278-b1af-a0c28e08f1af",
   "metadata": {},
   "outputs": [
    {
     "name": "stdout",
     "output_type": "stream",
     "text": [
      "+-------+-----------+------------+----------+------+\n",
      "|cod_iuc|cod_titular|cod_producto|  fec_alta|activo|\n",
      "+-------+-----------+------------+----------+------+\n",
      "|  30000|      00006|         100|2012-05-01|  true|\n",
      "|  30001|      00006|         200|2014-05-01|  true|\n",
      "|  30002|      00006|         300|2006-02-01| false|\n",
      "|  30003|      00006|         150|2012-05-01|  true|\n",
      "|  30002|      00005|         300|2012-05-01|  true|\n",
      "|  30004|      00006|         400|2012-05-01| false|\n",
      "|  30005|      00006|         500|2012-05-01|  true|\n",
      "|  30006|      00006|         600|2012-05-01| false|\n",
      "|  30003|      00003|         150|2019-10-14|  true|\n",
      "|  30007|      00006|         700|2014-02-01| false|\n",
      "|  30008|      00006|         800|2012-05-01|  true|\n",
      "|  30009|      00006|         900|2015-09-01|  true|\n",
      "|  30009|      00002|         900|2009-10-01|  true|\n",
      "|  30010|      00006|        1000|2014-02-01|  true|\n",
      "|  30003|      00002|         150|2018-09-18|  true|\n",
      "|  30011|      00003|        1100|2018-10-01|  true|\n",
      "|  30007|      00006|         700|2012-05-01|  true|\n",
      "|  30007|      00002|         700|2015-05-15|  true|\n",
      "|  30002|      00007|         300|2001-04-11| false|\n",
      "|  30001|      00004|         200|2017-12-01|  true|\n",
      "+-------+-----------+------------+----------+------+\n",
      "only showing top 20 rows\n",
      "\n"
     ]
    }
   ],
   "source": [
    "def read_csv(path):\n",
    "    return spark.read\\\n",
    "        .option(\"header\",\"true\")\\\n",
    "        .option(\"delimiter\",\",\")\\\n",
    "        .option(\"inferSchema\",\"false\")\\\n",
    "        .csv(path)\n",
    "\n",
    "base_path = \"../../resources/data/csv/\"\n",
    "contracts_df = read_csv(base_path + \"contracts.csv\")\n",
    "\n",
    "contracts_df.show()"
   ]
  },
  {
   "cell_type": "markdown",
   "id": "c77c349c-9299-4d90-b4fb-02bae3694b06",
   "metadata": {},
   "source": [
    "## Actions"
   ]
  },
  {
   "cell_type": "code",
   "execution_count": 3,
   "id": "cc4b1862-d330-42c2-9436-90502e521998",
   "metadata": {},
   "outputs": [
    {
     "name": "stdout",
     "output_type": "stream",
     "text": [
      "32\n"
     ]
    }
   ],
   "source": [
    "#count - cuenta el número de registros\n",
    "print(contracts_df.count())"
   ]
  },
  {
   "cell_type": "code",
   "execution_count": 4,
   "id": "a2d7096d-f37a-4125-a77e-8346590b7223",
   "metadata": {},
   "outputs": [
    {
     "name": "stdout",
     "output_type": "stream",
     "text": [
      "[Row(cod_iuc='30000', cod_titular='00006', cod_producto='100', fec_alta='2012-05-01', activo='true'), Row(cod_iuc='30001', cod_titular='00006', cod_producto='200', fec_alta='2014-05-01', activo='true'), Row(cod_iuc='30002', cod_titular='00006', cod_producto='300', fec_alta='2006-02-01', activo='false'), Row(cod_iuc='30003', cod_titular='00006', cod_producto='150', fec_alta='2012-05-01', activo='true'), Row(cod_iuc='30002', cod_titular='00005', cod_producto='300', fec_alta='2012-05-01', activo='true'), Row(cod_iuc='30004', cod_titular='00006', cod_producto='400', fec_alta='2012-05-01', activo='false'), Row(cod_iuc='30005', cod_titular='00006', cod_producto='500', fec_alta='2012-05-01', activo='true'), Row(cod_iuc='30006', cod_titular='00006', cod_producto='600', fec_alta='2012-05-01', activo='false'), Row(cod_iuc='30003', cod_titular='00003', cod_producto='150', fec_alta='2019-10-14', activo='true'), Row(cod_iuc='30007', cod_titular='00006', cod_producto='700', fec_alta='2014-02-01', activo='false'), Row(cod_iuc='30008', cod_titular='00006', cod_producto='800', fec_alta='2012-05-01', activo='true'), Row(cod_iuc='30009', cod_titular='00006', cod_producto='900', fec_alta='2015-09-01', activo='true'), Row(cod_iuc='30009', cod_titular='00002', cod_producto='900', fec_alta='2009-10-01', activo='true'), Row(cod_iuc='30010', cod_titular='00006', cod_producto='1000', fec_alta='2014-02-01', activo='true'), Row(cod_iuc='30003', cod_titular='00002', cod_producto='150', fec_alta='2018-09-18', activo='true'), Row(cod_iuc='30011', cod_titular='00003', cod_producto='1100', fec_alta='2018-10-01', activo='true'), Row(cod_iuc='30007', cod_titular='00006', cod_producto='700', fec_alta='2012-05-01', activo='true'), Row(cod_iuc='30007', cod_titular='00002', cod_producto='700', fec_alta='2015-05-15', activo='true'), Row(cod_iuc='30002', cod_titular='00007', cod_producto='300', fec_alta='2001-04-11', activo='false'), Row(cod_iuc='30001', cod_titular='00004', cod_producto='200', fec_alta='2017-12-01', activo='true'), Row(cod_iuc='30001', cod_titular='00005', cod_producto='200', fec_alta='2019-11-10', activo='true'), Row(cod_iuc='30005', cod_titular='00001', cod_producto='500', fec_alta='2007-03-22', activo='true'), Row(cod_iuc='30007', cod_titular='00001', cod_producto='700', fec_alta='2016-07-01', activo='true'), Row(cod_iuc='30007', cod_titular='00002', cod_producto='600', fec_alta='2020-04-01', activo='true'), Row(cod_iuc='30003', cod_titular='00001', cod_producto='150', fec_alta='2016-05-01', activo='true'), Row(cod_iuc='30003', cod_titular='00004', cod_producto='150', fec_alta='2020-03-01', activo='true'), Row(cod_iuc='30006', cod_titular='00005', cod_producto='600', fec_alta='2016-12-10', activo='true'), Row(cod_iuc='30000', cod_titular='00005', cod_producto='100', fec_alta='2015-05-25', activo='true'), Row(cod_iuc='30008', cod_titular='00007', cod_producto='800', fec_alta='2004-09-01', activo='true'), Row(cod_iuc='30008', cod_titular='00002', cod_producto='800', fec_alta='2014-03-21', activo='true'), Row(cod_iuc='30004', cod_titular='00002', cod_producto='400', fec_alta='2008-02-01', activo='false'), Row(cod_iuc='30010', cod_titular='00007', cod_producto='1000', fec_alta='2014-08-01', activo='false')]\n"
     ]
    }
   ],
   "source": [
    "#collect \n",
    "print(contracts_df.collect())"
   ]
  },
  {
   "cell_type": "code",
   "execution_count": 5,
   "id": "cd0b99ea-024e-4a95-b0b4-f89fdf06f8a1",
   "metadata": {},
   "outputs": [
    {
     "name": "stdout",
     "output_type": "stream",
     "text": [
      "+-------+-----------+------------+----------+------+\n",
      "|cod_iuc|cod_titular|cod_producto|fec_alta  |activo|\n",
      "+-------+-----------+------------+----------+------+\n",
      "|30000  |00006      |100         |2012-05-01|true  |\n",
      "|30001  |00006      |200         |2014-05-01|true  |\n",
      "|30002  |00006      |300         |2006-02-01|false |\n",
      "|30003  |00006      |150         |2012-05-01|true  |\n",
      "|30002  |00005      |300         |2012-05-01|true  |\n",
      "+-------+-----------+------------+----------+------+\n",
      "only showing top 5 rows\n",
      "\n"
     ]
    }
   ],
   "source": [
    "#show\n",
    "contracts_df.show(5, False)"
   ]
  },
  {
   "cell_type": "code",
   "execution_count": 6,
   "id": "ede11ad5-4952-458c-97b0-0a2620520b35",
   "metadata": {},
   "outputs": [
    {
     "data": {
      "text/plain": [
       "False"
      ]
     },
     "execution_count": 6,
     "metadata": {},
     "output_type": "execute_result"
    }
   ],
   "source": [
    "#isEmpty\n",
    "contracts_df.isEmpty()"
   ]
  },
  {
   "cell_type": "code",
   "execution_count": 7,
   "id": "e156f064-842e-4f09-bec1-058dc814bdf1",
   "metadata": {},
   "outputs": [
    {
     "data": {
      "text/plain": [
       "[Row(cod_iuc='30000', cod_titular='00006', cod_producto='100', fec_alta='2012-05-01', activo='true'),\n",
       " Row(cod_iuc='30001', cod_titular='00006', cod_producto='200', fec_alta='2014-05-01', activo='true'),\n",
       " Row(cod_iuc='30002', cod_titular='00006', cod_producto='300', fec_alta='2006-02-01', activo='false')]"
      ]
     },
     "execution_count": 7,
     "metadata": {},
     "output_type": "execute_result"
    }
   ],
   "source": [
    "#first() -> primer elemento del df -> head()\n",
    "#head(n) -> primer N-elementos del df -> take(n)\n",
    "#take -> primer N-elementos del df -> limit().collect()\n",
    "\n",
    "contracts_df.head(3)"
   ]
  },
  {
   "cell_type": "code",
   "execution_count": 8,
   "id": "32e63b1f-baaf-403b-8d38-16f97df0d807",
   "metadata": {},
   "outputs": [
    {
     "data": {
      "text/plain": [
       "[Row(cod_iuc='30008', cod_titular='00002', cod_producto='800', fec_alta='2014-03-21', activo='true'),\n",
       " Row(cod_iuc='30004', cod_titular='00002', cod_producto='400', fec_alta='2008-02-01', activo='false'),\n",
       " Row(cod_iuc='30010', cod_titular='00007', cod_producto='1000', fec_alta='2014-08-01', activo='false')]"
      ]
     },
     "execution_count": 8,
     "metadata": {},
     "output_type": "execute_result"
    }
   ],
   "source": [
    "#tail\n",
    "contracts_df.tail(3)"
   ]
  },
  {
   "cell_type": "markdown",
   "id": "50fe740c-769e-4fbe-a0d9-838d0ac84792",
   "metadata": {},
   "source": [
    "## Transformations"
   ]
  },
  {
   "cell_type": "code",
   "execution_count": 9,
   "id": "5131bfc7-4f39-4e61-807b-909482bd695f",
   "metadata": {},
   "outputs": [],
   "source": [
    "import pyspark.sql.functions as f\n",
    "import pyspark.sql.types as t"
   ]
  },
  {
   "cell_type": "markdown",
   "id": "080c6cb3-a52b-4dcf-8d82-0f554963455d",
   "metadata": {},
   "source": [
    "#### withColumn, withColumnRenamed, drop"
   ]
  },
  {
   "cell_type": "code",
   "execution_count": 10,
   "id": "8b325471-7613-467d-adbf-60c6d72695d4",
   "metadata": {},
   "outputs": [
    {
     "name": "stdout",
     "output_type": "stream",
     "text": [
      "+-------+-----------+------------+------------+------+-----------+------------+----+\n",
      "|cod_iuc|cod_titular|cod_producto|fec_alta_ini|activo|actual_date|fec_alta_fin|diff|\n",
      "+-------+-----------+------------+------------+------+-----------+------------+----+\n",
      "|  30000|      00006|         100|  2012-05-01|  true| 2024-02-21|  2012-05-09|   8|\n",
      "|  30001|      00006|         200|  2014-05-01|  true| 2024-02-21|  2014-05-06|   5|\n",
      "|  30002|      00006|         300|  2006-02-01| false| 2024-02-21|  2006-02-02|   1|\n",
      "|  30003|      00006|         150|  2012-05-01|  true| 2024-02-21|  2012-05-04|   3|\n",
      "|  30002|      00005|         300|  2012-05-01|  true| 2024-02-21|  2012-05-08|   7|\n",
      "|  30004|      00006|         400|  2012-05-01| false| 2024-02-21|  2012-05-04|   3|\n",
      "|  30005|      00006|         500|  2012-05-01|  true| 2024-02-21|  2012-05-03|   2|\n",
      "|  30006|      00006|         600|  2012-05-01| false| 2024-02-21|  2012-05-07|   6|\n",
      "|  30003|      00003|         150|  2019-10-14|  true| 2024-02-21|  2019-10-21|   7|\n",
      "|  30007|      00006|         700|  2014-02-01| false| 2024-02-21|  2014-02-01|   0|\n",
      "|  30008|      00006|         800|  2012-05-01|  true| 2024-02-21|  2012-05-03|   2|\n",
      "|  30009|      00006|         900|  2015-09-01|  true| 2024-02-21|  2015-09-07|   6|\n",
      "|  30009|      00002|         900|  2009-10-01|  true| 2024-02-21|  2009-10-05|   4|\n",
      "|  30010|      00006|        1000|  2014-02-01|  true| 2024-02-21|  2014-02-06|   5|\n",
      "|  30003|      00002|         150|  2018-09-18|  true| 2024-02-21|  2018-09-22|   4|\n",
      "|  30011|      00003|        1100|  2018-10-01|  true| 2024-02-21|  2018-10-04|   3|\n",
      "|  30007|      00006|         700|  2012-05-01|  true| 2024-02-21|  2012-05-02|   1|\n",
      "|  30007|      00002|         700|  2015-05-15|  true| 2024-02-21|  2015-05-20|   5|\n",
      "|  30002|      00007|         300|  2001-04-11| false| 2024-02-21|  2001-04-17|   6|\n",
      "|  30001|      00004|         200|  2017-12-01|  true| 2024-02-21|  2017-12-03|   2|\n",
      "+-------+-----------+------------+------------+------+-----------+------------+----+\n",
      "only showing top 20 rows\n",
      "\n",
      "root\n",
      " |-- cod_iuc: string (nullable = true)\n",
      " |-- cod_titular: string (nullable = true)\n",
      " |-- cod_producto: string (nullable = true)\n",
      " |-- fec_alta_ini: string (nullable = true)\n",
      " |-- activo: string (nullable = true)\n",
      " |-- actual_date: date (nullable = false)\n",
      " |-- fec_alta_fin: date (nullable = true)\n",
      " |-- diff: integer (nullable = true)\n",
      "\n"
     ]
    }
   ],
   "source": [
    "resulted_df = contracts_df \\\n",
    "    .withColumnRenamed(\"fec_alta\", \"fec_alta_ini\") \\\n",
    "    .withColumn(\"actual_date\", f.current_date()) \\\n",
    "    .withColumn(\"randm_num\", f.round(f.rand(0) * f.lit(10)).cast(t.IntegerType())) \\\n",
    "    .withColumn(\"fec_alta_fin\", f.date_add(f.col(\"fec_alta_ini\"), f.col(\"randm_num\"))) \\\n",
    "    .withColumn(\"diff\", f.datediff(f.col(\"fec_alta_fin\"), f.col(\"fec_alta_ini\"))) \\\n",
    "    .drop(\"randm_num\")\n",
    "\n",
    "resulted_df.show()\n",
    "resulted_df.printSchema()"
   ]
  },
  {
   "cell_type": "code",
   "execution_count": 11,
   "id": "72a411d9-a3dc-4586-874f-9ca7bd2cf9f4",
   "metadata": {},
   "outputs": [
    {
     "name": "stdout",
     "output_type": "stream",
     "text": [
      "+-------+-----------+------------+------------+------+-----------+------------+----+\n",
      "|cod_iuc|cod_titular|cod_producto|fec_alta_ini|activo|actual_date|fec_alta_fin|diff|\n",
      "+-------+-----------+------------+------------+------+-----------+------------+----+\n",
      "|  30000|      00006|         100|  2012-05-01|  true| 2024-02-21|  2012-05-09|   8|\n",
      "|  30001|      00006|         200|  2014-05-01|  true| 2024-02-21|  2014-05-06|   5|\n",
      "|  30002|      00006|         300|  2006-02-01| false| 2024-02-21|  2006-02-02|   1|\n",
      "|  30003|      00006|         150|  2012-05-01|  true| 2024-02-21|  2012-05-04|   3|\n",
      "|  30002|      00005|         300|  2012-05-01|  true| 2024-02-21|  2012-05-08|   7|\n",
      "|  30004|      00006|         400|  2012-05-01| false| 2024-02-21|  2012-05-04|   3|\n",
      "|  30005|      00006|         500|  2012-05-01|  true| 2024-02-21|  2012-05-03|   2|\n",
      "|  30006|      00006|         600|  2012-05-01| false| 2024-02-21|  2012-05-07|   6|\n",
      "|  30003|      00003|         150|  2019-10-14|  true| 2024-02-21|  2019-10-21|   7|\n",
      "|  30007|      00006|         700|  2014-02-01| false| 2024-02-21|  2014-02-01|   0|\n",
      "|  30008|      00006|         800|  2012-05-01|  true| 2024-02-21|  2012-05-03|   2|\n",
      "|  30009|      00006|         900|  2015-09-01|  true| 2024-02-21|  2015-09-07|   6|\n",
      "|  30009|      00002|         900|  2009-10-01|  true| 2024-02-21|  2009-10-05|   4|\n",
      "|  30010|      00006|        1000|  2014-02-01|  true| 2024-02-21|  2014-02-06|   5|\n",
      "|  30003|      00002|         150|  2018-09-18|  true| 2024-02-21|  2018-09-22|   4|\n",
      "|  30011|      00003|        1100|  2018-10-01|  true| 2024-02-21|  2018-10-04|   3|\n",
      "|  30007|      00006|         700|  2012-05-01|  true| 2024-02-21|  2012-05-02|   1|\n",
      "|  30007|      00002|         700|  2015-05-15|  true| 2024-02-21|  2015-05-20|   5|\n",
      "|  30002|      00007|         300|  2001-04-11| false| 2024-02-21|  2001-04-17|   6|\n",
      "|  30001|      00004|         200|  2017-12-01|  true| 2024-02-21|  2017-12-03|   2|\n",
      "+-------+-----------+------------+------------+------+-----------+------------+----+\n",
      "only showing top 20 rows\n",
      "\n",
      "root\n",
      " |-- cod_iuc: string (nullable = true)\n",
      " |-- cod_titular: string (nullable = true)\n",
      " |-- cod_producto: string (nullable = true)\n",
      " |-- fec_alta_ini: string (nullable = true)\n",
      " |-- activo: string (nullable = true)\n",
      " |-- actual_date: date (nullable = false)\n",
      " |-- fec_alta_fin: date (nullable = true)\n",
      " |-- diff: integer (nullable = true)\n",
      "\n"
     ]
    }
   ],
   "source": [
    "dict_cols = {\n",
    "    \"actual_date\": f.current_date(),\n",
    "    \"randm_num\": f.round(f.rand(0) * f.lit(10)).cast(t.IntegerType()),\n",
    "    \"fec_alta_fin\": f.date_add(f.col(\"fec_alta_ini\"), f.col(\"randm_num\")),\n",
    "    \"diff\": f.datediff(f.col(\"fec_alta_fin\"), f.col(\"fec_alta_ini\"))\n",
    "}\n",
    "\n",
    "resulted_df = contracts_df \\\n",
    "    .withColumnRenamed(\"fec_alta\", \"fec_alta_ini\") \\\n",
    "    .withColumns(dict_cols) \\\n",
    "    .drop(\"randm_num\")\n",
    "\n",
    "resulted_df.show()\n",
    "resulted_df.printSchema()"
   ]
  },
  {
   "cell_type": "code",
   "execution_count": null,
   "id": "4bb278ac-7da4-46fa-851f-0dd934154f08",
   "metadata": {},
   "outputs": [],
   "source": []
  }
 ],
 "metadata": {
  "kernelspec": {
   "display_name": "Python 3 (ipykernel)",
   "language": "python",
   "name": "python3"
  },
  "language_info": {
   "codemirror_mode": {
    "name": "ipython",
    "version": 3
   },
   "file_extension": ".py",
   "mimetype": "text/x-python",
   "name": "python",
   "nbconvert_exporter": "python",
   "pygments_lexer": "ipython3",
   "version": "3.9.13"
  }
 },
 "nbformat": 4,
 "nbformat_minor": 5
}
