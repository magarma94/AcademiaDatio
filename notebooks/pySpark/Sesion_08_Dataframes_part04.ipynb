{
 "cells": [
  {
   "cell_type": "markdown",
   "id": "a491a835-7add-4f73-9cb9-f5c7689e555b",
   "metadata": {},
   "source": [
    "- #### Transformaciones\n",
    "    - ##### join\n",
    "    - ##### UDF"
   ]
  },
  {
   "cell_type": "code",
   "execution_count": 1,
   "id": "6956efa9-7ad7-4446-94c1-e2c207fcf290",
   "metadata": {},
   "outputs": [],
   "source": [
    "from pyspark.sql import SparkSession\n",
    "\n",
    "spark = SparkSession.builder \\\n",
    "        .appName(\"sesion_1\") \\\n",
    "        .master(\"local[*]\") \\\n",
    "        .getOrCreate()"
   ]
  },
  {
   "cell_type": "code",
   "execution_count": 2,
   "id": "7b206961-7a2a-433f-895e-26834d4cf524",
   "metadata": {},
   "outputs": [
    {
     "name": "stdout",
     "output_type": "stream",
     "text": [
      "+----------+-------+----+---------+----------+-----+\n",
      "|cod_client| nombre|edad|provincia|cod_postal|  vip|\n",
      "+----------+-------+----+---------+----------+-----+\n",
      "|     00001|  Julen|  31| Valencia|     23700|false|\n",
      "|     00002| Javier|  58|     Jaén|     08728| true|\n",
      "|     00003| Carlos|  48|  Sevilla|     28757| true|\n",
      "|     00004|  Maria|  38|   Gerona|     18393| true|\n",
      "|     00005|Ernesto|  22|  Cáceres|     13950|false|\n",
      "|     00006|  Luisa|  43|   Murcia|     23940| true|\n",
      "|     00007|   Raul|  51|    Álava|     09030|false|\n",
      "+----------+-------+----+---------+----------+-----+\n",
      "\n",
      "+-------+-----------+------------+----------+------+\n",
      "|cod_iuc|cod_titular|cod_producto|  fec_alta|activo|\n",
      "+-------+-----------+------------+----------+------+\n",
      "|  30000|      00006|         100|2012-05-01|  true|\n",
      "|  30001|      00006|         200|2014-05-01|  true|\n",
      "|  30002|      00006|         300|2006-02-01| false|\n",
      "|  30003|      00006|         150|2012-05-01|  true|\n",
      "|  30002|      00005|         300|2012-05-01|  true|\n",
      "|  30004|      00006|         400|2012-05-01| false|\n",
      "|  30005|      00006|         500|2012-05-01|  true|\n",
      "|  30006|      00006|         600|2012-05-01| false|\n",
      "|  30003|      00003|         150|2019-10-14|  true|\n",
      "|  30007|      00006|         700|2014-02-01| false|\n",
      "|  30008|      00006|         800|2012-05-01|  true|\n",
      "|  30009|      00006|         900|2015-09-01|  true|\n",
      "|  30009|      00002|         900|2009-10-01|  true|\n",
      "|  30010|      00006|        1000|2014-02-01|  true|\n",
      "|  30003|      00002|         150|2018-09-18|  true|\n",
      "|  30011|      00003|        1100|2018-10-01|  true|\n",
      "|  30007|      00006|         700|2012-05-01|  true|\n",
      "|  30007|      00002|         700|2015-05-15|  true|\n",
      "|  30002|      00007|         300|2001-04-11| false|\n",
      "|  30001|      00004|         200|2017-12-01|  true|\n",
      "+-------+-----------+------------+----------+------+\n",
      "only showing top 20 rows\n",
      "\n",
      "+------------+-----------------+\n",
      "|cod_producto|    desc_producto|\n",
      "+------------+-----------------+\n",
      "|         100|  tarjeta crédito|\n",
      "|         150|   tarjeta débito|\n",
      "|         200|préstamo personal|\n",
      "|         300|         hipoteca|\n",
      "|         400|plan de pensiones|\n",
      "|         500|            fondo|\n",
      "|         600|      seguro moto|\n",
      "|         700|     seguro coche|\n",
      "|         800|           nomina|\n",
      "|         900|    seguro ahorro|\n",
      "|        1000|         depósito|\n",
      "|        1100|          pension|\n",
      "+------------+-----------------+\n",
      "\n"
     ]
    }
   ],
   "source": [
    "def read_csv(path):\n",
    "    return spark.read\\\n",
    "        .option(\"header\",\"true\")\\\n",
    "        .option(\"delimiter\",\",\")\\\n",
    "        .option(\"inferSchema\",\"false\")\\\n",
    "        .csv(path)\n",
    "\n",
    "base_path = \"../../resources/data/csv/\"\n",
    "clients_df = read_csv(base_path + \"clients.csv\")\n",
    "contracts_df = read_csv(base_path + \"contracts.csv\")\n",
    "products_df = read_csv(base_path + \"products.csv\")\n",
    "\n",
    "clients_df.show()\n",
    "contracts_df.show()\n",
    "products_df.show()"
   ]
  },
  {
   "cell_type": "code",
   "execution_count": 3,
   "id": "e7305768-af30-40e4-bf19-3df8a2f55685",
   "metadata": {},
   "outputs": [],
   "source": [
    "# Joins\n",
    "\n",
    "# inner -> Mantiene información de ambas tablas (columnas) para los registros (filas) coincidentes\n",
    "# outer -> Mantiene información de ambas tablas (columnas y filas) para los registros coincidentes y no-coincidentes\n",
    "# left -> Mantiene columnas de ambas tablas y filas únicamente de la tabla izquierda, elimina filas no coincidentes de la tabla derecha\n",
    "# right -> Mantiene columnas de ambas tablas y filas únicamente de la tabla derecha, elimina filas no coincidentes de la tabla izquierda\n",
    "# left_semi -> Mantiene filas y columnas únicamente de la tabla izquierda para los registros coincidentes\n",
    "# left_anti -> Mantiene filas y columnas únicamente de la tabla izquierda para los registros no-coincidentes\n",
    "\n",
    "# cross"
   ]
  },
  {
   "cell_type": "code",
   "execution_count": 5,
   "id": "c18cb50e-4d3d-4bf0-8687-4b2db989b04d",
   "metadata": {},
   "outputs": [
    {
     "name": "stdout",
     "output_type": "stream",
     "text": [
      "+----------+------+----+---------+----------+----+\n",
      "|cod_client|nombre|edad|provincia|cod_postal| vip|\n",
      "+----------+------+----+---------+----------+----+\n",
      "|     00003|Carlos|  48|  Sevilla|     28757|true|\n",
      "|     00006| Luisa|  43|   Murcia|     23940|true|\n",
      "+----------+------+----+---------+----------+----+\n",
      "\n",
      "+-------+----------+------------+----------+------+\n",
      "|cod_iuc|cod_client|cod_producto|  fec_alta|activo|\n",
      "+-------+----------+------------+----------+------+\n",
      "|  30002|     00006|         300|2006-02-01| false|\n",
      "|  30004|     00006|         400|2012-05-01| false|\n",
      "|  30006|     00006|         600|2012-05-01| false|\n",
      "|  30007|     00006|         700|2014-02-01| false|\n",
      "|  30002|     00007|         300|2001-04-11| false|\n",
      "|  30004|     00002|         400|2008-02-01| false|\n",
      "|  30010|     00007|        1000|2014-08-01| false|\n",
      "+-------+----------+------------+----------+------+\n",
      "\n",
      "+----------+------+----+---------+----------+----+-------+------------+----------+------+\n",
      "|cod_client|nombre|edad|provincia|cod_postal| vip|cod_iuc|cod_producto|  fec_alta|activo|\n",
      "+----------+------+----+---------+----------+----+-------+------------+----------+------+\n",
      "|     00002|  null|null|     null|      null|null|  30004|         400|2008-02-01| false|\n",
      "|     00003|Carlos|  48|  Sevilla|     28757|true|   null|        null|      null|  null|\n",
      "|     00006| Luisa|  43|   Murcia|     23940|true|  30002|         300|2006-02-01| false|\n",
      "|     00006| Luisa|  43|   Murcia|     23940|true|  30004|         400|2012-05-01| false|\n",
      "|     00006| Luisa|  43|   Murcia|     23940|true|  30006|         600|2012-05-01| false|\n",
      "|     00006| Luisa|  43|   Murcia|     23940|true|  30007|         700|2014-02-01| false|\n",
      "|     00007|  null|null|     null|      null|null|  30002|         300|2001-04-11| false|\n",
      "|     00007|  null|null|     null|      null|null|  30010|        1000|2014-08-01| false|\n",
      "+----------+------+----+---------+----------+----+-------+------------+----------+------+\n",
      "\n"
     ]
    }
   ],
   "source": [
    "import pyspark.sql.functions as f\n",
    "\n",
    "clients_tmp_df = clients_df.filter((f.col(\"edad\") >= 40) & (f.col(\"edad\") <= 50))\n",
    "contracts_tmp_df = contracts_df.filter(f.col(\"activo\") == \"false\")\\\n",
    "    .withColumnRenamed(\"cod_titular\", \"cod_client\")\n",
    "\n",
    "clients_tmp_df.show()\n",
    "contracts_tmp_df.show()\n",
    "\n",
    "# clients_tmp_df.crossJoin(contracts_tmp_df).show() ## WARNING. Se puede consumir toda la memoria por el proceso de unir las tablas\n",
    "\n",
    "typw_join = \"full\"   # inner, outer, left, right, left_semi, left_anti\n",
    "# si la llave no estuviera gobernada, en el .join() se tendría que definir sobre que columnas, del estilo:\n",
    "# [...].join(df, f.col(\"key_1\") == f.col(\"key_2\"), type_join)\n",
    "join_df = clients_tmp_df.join(contracts_tmp_df, [\"cod_client\"], typw_join) # en esta mandó como parámetro una lista [\"cod_client\"]\n",
    "join_df.show()"
   ]
  },
  {
   "cell_type": "code",
   "execution_count": 6,
   "id": "9ade859d-d327-48fb-a7fd-ee69f7b280ff",
   "metadata": {},
   "outputs": [
    {
     "name": "stdout",
     "output_type": "stream",
     "text": [
      "+----------+------+----+---------+----------+----+-------+------------+----------+------+------------+----------+\n",
      "|cod_client|nombre|edad|provincia|cod_postal| vip|cod_iuc|cod_producto|  fec_alta|activo|nombre_mayus|len_concat|\n",
      "+----------+------+----+---------+----------+----+-------+------------+----------+------+------------+----------+\n",
      "|     00002|  null|null|     null|      null|null|  30004|         400|2008-02-01| false|            |         0|\n",
      "|     00003|Carlos|  48|  Sevilla|     28757|true|   null|        null|      null|  null|      CARLOS|        13|\n",
      "|     00006| Luisa|  43|   Murcia|     23940|true|  30002|         300|2006-02-01| false|       LUISA|        11|\n",
      "|     00006| Luisa|  43|   Murcia|     23940|true|  30004|         400|2012-05-01| false|       LUISA|        11|\n",
      "|     00006| Luisa|  43|   Murcia|     23940|true|  30006|         600|2012-05-01| false|       LUISA|        11|\n",
      "|     00006| Luisa|  43|   Murcia|     23940|true|  30007|         700|2014-02-01| false|       LUISA|        11|\n",
      "|     00007|  null|null|     null|      null|null|  30002|         300|2001-04-11| false|            |         0|\n",
      "|     00007|  null|null|     null|      null|null|  30010|        1000|2014-08-01| false|            |         0|\n",
      "+----------+------+----+---------+----------+----+-------+------------+----------+------+------------+----------+\n",
      "\n"
     ]
    }
   ],
   "source": [
    "# UDF - User Defined Function - WARNING\n",
    "import pyspark.sql.types as t\n",
    "\n",
    "def upperCase(value):\n",
    "    if value is None:\n",
    "        return \"\"\n",
    "    else:\n",
    "        return value.upper()\n",
    "\n",
    "def len_concat(item_1, item_2):\n",
    "    if item_1 is None:\n",
    "        item_1 = \"\"\n",
    "    if item_2 is None:\n",
    "        item_2 = \"\"\n",
    "    return len(item_1 + item_2)\n",
    "\n",
    "upper_udf = f.udf(upperCase, t.StringType())\n",
    "\n",
    "len_concat_udf = f.udf(len_concat, t.LongType())\n",
    "\n",
    "join_df.select(\n",
    "    *join_df.columns,\n",
    "    upper_udf(f.col(\"nombre\")).alias(\"nombre_mayus\"),\n",
    "    len_concat_udf(f.col(\"nombre\"), f.col(\"provincia\")).alias(\"len_concat\")\n",
    ").show()"
   ]
  },
  {
   "cell_type": "code",
   "execution_count": 7,
   "id": "b9d3b35a-ce9f-4acd-b8a1-39f3507e8fcf",
   "metadata": {},
   "outputs": [],
   "source": [
    "from pyspark.sql import Row\n",
    "\n",
    "tmp_df = spark.createDataFrame([\n",
    "    Row(1,None),\n",
    "    Row(2,float(\"nan\")),\n",
    "    Row(3,3.2),\n",
    "    Row(4,float(\"nan\"))], [\"id\", \"number\"])"
   ]
  },
  {
   "cell_type": "code",
   "execution_count": null,
   "id": "7aab3e63-f92d-4849-a184-44296988c381",
   "metadata": {},
   "outputs": [],
   "source": [
    "tmp_df.show()\n",
    "\n",
    "def is_null_or_nan(value):\n",
    "    if (value!=value) | (value is None):\n",
    "        return True\n",
    "    else:\n",
    "        return False\n",
    "\n",
    "is_null_or_nan_udf = f.udf(is_null_or_nan, t.BooleanType())\n",
    "\n",
    "tmp_df.select(\n",
    "    *tmp_df.columns,\n",
    "    is_null_or_nan_udf(f.col(\"number\")).alias(\"null_nan\")\n",
    ").show()"
   ]
  },
  {
   "cell_type": "code",
   "execution_count": null,
   "id": "b1a2b5b9-8eb1-46cb-8dc1-58a66fb82282",
   "metadata": {},
   "outputs": [],
   "source": []
  }
 ],
 "metadata": {
  "kernelspec": {
   "display_name": "Python 3 (ipykernel)",
   "language": "python",
   "name": "python3"
  },
  "language_info": {
   "codemirror_mode": {
    "name": "ipython",
    "version": 3
   },
   "file_extension": ".py",
   "mimetype": "text/x-python",
   "name": "python",
   "nbconvert_exporter": "python",
   "pygments_lexer": "ipython3",
   "version": "3.9.13"
  }
 },
 "nbformat": 4,
 "nbformat_minor": 5
}
