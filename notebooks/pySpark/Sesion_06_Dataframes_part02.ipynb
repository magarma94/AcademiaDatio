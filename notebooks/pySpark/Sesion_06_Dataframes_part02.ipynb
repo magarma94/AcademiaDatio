{
 "cells": [
  {
   "cell_type": "markdown",
   "id": "3c32b616-f93c-478f-821c-223802edb396",
   "metadata": {},
   "source": [
    "- #### Transformaciones\n",
    "    - ##### select - when\n",
    "    - ##### where/filter\r\n"
   ]
  },
  {
   "cell_type": "code",
   "execution_count": 1,
   "id": "43770df0-6ba9-477f-9438-d27658409647",
   "metadata": {},
   "outputs": [],
   "source": [
    "from pyspark.sql import SparkSession\n",
    "\n",
    "spark = SparkSession.builder \\\n",
    "        .appName(\"sesion_1\") \\\n",
    "        .master(\"local[*]\") \\\n",
    "        .getOrCreate()"
   ]
  },
  {
   "cell_type": "code",
   "execution_count": 2,
   "id": "13b0fa8b-cf0f-475a-9b96-a735aba71861",
   "metadata": {},
   "outputs": [
    {
     "name": "stdout",
     "output_type": "stream",
     "text": [
      "+-------+-----------+------------+----------+------+\n",
      "|cod_iuc|cod_titular|cod_producto|  fec_alta|activo|\n",
      "+-------+-----------+------------+----------+------+\n",
      "|  30000|      00006|         100|2012-05-01|  true|\n",
      "|  30001|      00006|         200|2014-05-01|  true|\n",
      "|  30002|      00006|         300|2006-02-01| false|\n",
      "|  30003|      00006|         150|2012-05-01|  true|\n",
      "|  30002|      00005|         300|2012-05-01|  true|\n",
      "|  30004|      00006|         400|2012-05-01| false|\n",
      "|  30005|      00006|         500|2012-05-01|  true|\n",
      "|  30006|      00006|         600|2012-05-01| false|\n",
      "|  30003|      00003|         150|2019-10-14|  true|\n",
      "|  30007|      00006|         700|2014-02-01| false|\n",
      "|  30008|      00006|         800|2012-05-01|  true|\n",
      "|  30009|      00006|         900|2015-09-01|  true|\n",
      "|  30009|      00002|         900|2009-10-01|  true|\n",
      "|  30010|      00006|        1000|2014-02-01|  true|\n",
      "|  30003|      00002|         150|2018-09-18|  true|\n",
      "|  30011|      00003|        1100|2018-10-01|  true|\n",
      "|  30007|      00006|         700|2012-05-01|  true|\n",
      "|  30007|      00002|         700|2015-05-15|  true|\n",
      "|  30002|      00007|         300|2001-04-11| false|\n",
      "|  30001|      00004|         200|2017-12-01|  true|\n",
      "+-------+-----------+------------+----------+------+\n",
      "only showing top 20 rows\n",
      "\n"
     ]
    }
   ],
   "source": [
    "def read_csv(path):\n",
    "    return spark.read\\\n",
    "        .option(\"header\",\"true\")\\\n",
    "        .option(\"delimiter\",\",\")\\\n",
    "        .option(\"inferSchema\",\"false\")\\\n",
    "        .csv(path)\n",
    "\n",
    "base_path = \"../../resources/data/csv/\"\n",
    "contracts_df = read_csv(base_path + \"contracts.csv\")\n",
    "\n",
    "contracts_df.show()"
   ]
  },
  {
   "cell_type": "code",
   "execution_count": 3,
   "id": "0760c8c9-cad3-432e-b3f7-837d8b2e2aa8",
   "metadata": {},
   "outputs": [
    {
     "name": "stdout",
     "output_type": "stream",
     "text": [
      "+-------+-----------+------------+------+------------+-----------+------------+----+\n",
      "|cod_iuc|cod_titular|cod_producto|activo|fec_alta_ini|actual_date|fec_alta_fin|diff|\n",
      "+-------+-----------+------------+------+------------+-----------+------------+----+\n",
      "|  30000|      00006|         100|  true|  2012-05-01| 2024-02-22|  2012-05-09|   8|\n",
      "|  30001|      00006|         200|  true|  2014-05-01| 2024-02-22|  2014-05-06|   5|\n",
      "|  30002|      00006|         300| false|  2006-02-01| 2024-02-22|  2006-02-02|   1|\n",
      "|  30003|      00006|         150|  true|  2012-05-01| 2024-02-22|  2012-05-04|   3|\n",
      "|  30002|      00005|         300|  true|  2012-05-01| 2024-02-22|  2012-05-08|   7|\n",
      "|  30004|      00006|         400| false|  2012-05-01| 2024-02-22|  2012-05-04|   3|\n",
      "|  30005|      00006|         500|  true|  2012-05-01| 2024-02-22|  2012-05-03|   2|\n",
      "|  30006|      00006|         600| false|  2012-05-01| 2024-02-22|  2012-05-07|   6|\n",
      "|  30003|      00003|         150|  true|  2019-10-14| 2024-02-22|  2019-10-21|   7|\n",
      "|  30007|      00006|         700| false|  2014-02-01| 2024-02-22|  2014-02-01|   0|\n",
      "|  30008|      00006|         800|  true|  2012-05-01| 2024-02-22|  2012-05-03|   2|\n",
      "|  30009|      00006|         900|  true|  2015-09-01| 2024-02-22|  2015-09-07|   6|\n",
      "|  30009|      00002|         900|  true|  2009-10-01| 2024-02-22|  2009-10-05|   4|\n",
      "|  30010|      00006|        1000|  true|  2014-02-01| 2024-02-22|  2014-02-06|   5|\n",
      "|  30003|      00002|         150|  true|  2018-09-18| 2024-02-22|  2018-09-22|   4|\n",
      "|  30011|      00003|        1100|  true|  2018-10-01| 2024-02-22|  2018-10-04|   3|\n",
      "|  30007|      00006|         700|  true|  2012-05-01| 2024-02-22|  2012-05-02|   1|\n",
      "|  30007|      00002|         700|  true|  2015-05-15| 2024-02-22|  2015-05-20|   5|\n",
      "|  30002|      00007|         300| false|  2001-04-11| 2024-02-22|  2001-04-17|   6|\n",
      "|  30001|      00004|         200|  true|  2017-12-01| 2024-02-22|  2017-12-03|   2|\n",
      "+-------+-----------+------------+------+------------+-----------+------------+----+\n",
      "only showing top 20 rows\n",
      "\n",
      "root\n",
      " |-- cod_iuc: string (nullable = true)\n",
      " |-- cod_titular: string (nullable = true)\n",
      " |-- cod_producto: string (nullable = true)\n",
      " |-- activo: boolean (nullable = true)\n",
      " |-- fec_alta_ini: date (nullable = true)\n",
      " |-- actual_date: date (nullable = false)\n",
      " |-- fec_alta_fin: date (nullable = true)\n",
      " |-- diff: integer (nullable = true)\n",
      "\n"
     ]
    }
   ],
   "source": [
    "import pyspark.sql.functions as f\n",
    "import pyspark.sql.types as t\n",
    "\n",
    "# Select\n",
    "# Método que regresa diferencia entre dos listas, se puede usar para eliminar columnas dentro de un select:\n",
    "def difference(l1, l2):\n",
    "    return list(set(l1) - set(l2))\n",
    "# ------------------------------------------------\n",
    "resulted_df = contracts_df \\\n",
    "    .select(\n",
    "        *difference(contracts_df.columns, [\"fec_alta\", \"activo\"]),\n",
    "        f.col(\"activo\").cast(t.BooleanType()),\n",
    "        f.col(\"fec_alta\").alias(\"fec_alta_ini\").cast(t.DateType()),\n",
    "        f.current_date().alias(\"actual_date\"),\n",
    "        f.round(f.rand(0) * f.lit(10)).cast(t.IntegerType()).alias(\"randm_num\"),\n",
    "        f.date_add(f.col(\"fec_alta_ini\"), f.col(\"randm_num\")).alias(\"fec_alta_fin\"),\n",
    "        f.datediff(f.col(\"fec_alta_fin\"), f.col(\"fec_alta_ini\")).alias(\"diff\")\n",
    "        ) \\\n",
    "    .drop(\"randm_num\")\n",
    "\n",
    "resulted_df.show()\n",
    "resulted_df.printSchema()"
   ]
  },
  {
   "cell_type": "code",
   "execution_count": 4,
   "id": "d4a8754e-8ee1-401b-b2d7-00063e6a09db",
   "metadata": {},
   "outputs": [
    {
     "name": "stdout",
     "output_type": "stream",
     "text": [
      "+------------+-----------+------------+-----------+-------+----+------------+--------+--------------+------+\n",
      "|fec_alta_fin|cod_titular|fec_alta_ini|actual_date|cod_iuc|diff|cod_producto| calidad|prioridad_alta|activo|\n",
      "+------------+-----------+------------+-----------+-------+----+------------+--------+--------------+------+\n",
      "|  2012-05-09|      00006|  2012-05-01| 2024-02-22|  30000|   8|         100|    baja|          null|  true|\n",
      "|  2014-05-06|      00006|  2014-05-01| 2024-02-22|  30001|   5|         200|    baja|          null|  true|\n",
      "|  2006-02-02|      00006|  2006-02-01| 2024-02-22|  30002|   1|         300|    baja|          null|  null|\n",
      "|  2012-05-04|      00006|  2012-05-01| 2024-02-22|  30003|   3|         150|    baja|          null|  true|\n",
      "|  2012-05-08|      00005|  2012-05-01| 2024-02-22|  30002|   7|         300|    baja|          null|  true|\n",
      "|  2012-05-04|      00006|  2012-05-01| 2024-02-22|  30004|   3|         400|   media|          null|  null|\n",
      "|  2012-05-03|      00006|  2012-05-01| 2024-02-22|  30005|   2|         500|   media|          null|  true|\n",
      "|  2012-05-07|      00006|  2012-05-01| 2024-02-22|  30006|   6|         600|   media|          null|  null|\n",
      "|  2019-10-21|      00003|  2019-10-14| 2024-02-22|  30003|   7|         150|    baja|          null|  true|\n",
      "|  2014-02-01|      00006|  2014-02-01| 2024-02-22|  30007|   0|         700|    alta|          null|  null|\n",
      "|  2012-05-03|      00006|  2012-05-01| 2024-02-22|  30008|   2|         800|    alta|            ok|  true|\n",
      "|  2015-09-07|      00006|  2015-09-01| 2024-02-22|  30009|   6|         900|    alta|            ok|  true|\n",
      "|  2009-10-05|      00002|  2009-10-01| 2024-02-22|  30009|   4|         900|    alta|            ok|  true|\n",
      "|  2014-02-06|      00006|  2014-02-01| 2024-02-22|  30010|   5|        1000|    alta|            ok|  true|\n",
      "|  2018-09-22|      00002|  2018-09-18| 2024-02-22|  30003|   4|         150|    baja|          null|  true|\n",
      "|  2018-10-04|      00003|  2018-10-01| 2024-02-22|  30011|   3|        1100|muy alta|            ok|  true|\n",
      "|  2012-05-02|      00006|  2012-05-01| 2024-02-22|  30007|   1|         700|    alta|            ok|  true|\n",
      "|  2015-05-20|      00002|  2015-05-15| 2024-02-22|  30007|   5|         700|    alta|            ok|  true|\n",
      "|  2001-04-17|      00007|  2001-04-11| 2024-02-22|  30002|   6|         300|    baja|          null|  null|\n",
      "|  2017-12-03|      00004|  2017-12-01| 2024-02-22|  30001|   2|         200|    baja|          null|  true|\n",
      "+------------+-----------+------------+-----------+-------+----+------------+--------+--------------+------+\n",
      "only showing top 20 rows\n",
      "\n"
     ]
    }
   ],
   "source": [
    "# select- when\n",
    "\n",
    "cond_1 = f.col(\"cod_producto\") <= 300 # baja\n",
    "cond_2 = f.col(\"cod_producto\") <= 600 # media\n",
    "cond_3 = f.col(\"cod_producto\") <= 1000 # alta\n",
    "\n",
    "select_when_df = resulted_df \\\n",
    "    .select(\n",
    "        *difference(resulted_df.columns, [\"activo\"]),\n",
    "        f.when(cond_1, f.lit(\"baja\"))\n",
    "            .when(cond_2, f.lit(\"media\"))\n",
    "            .when(cond_3, f.lit(\"alta\"))\n",
    "            .otherwise(f.lit(\"muy alta\")).alias(\"calidad\"),\n",
    "        f.when((f.col(\"activo\") == f.lit(True)) & (f.col(\"calidad\").isin(\"alta\", \"muy alta\")), f.lit(\"ok\")).alias(\"prioridad_alta\"),\n",
    "        f.when(f.col(\"activo\") == True, f.lit(True)).alias(\"activo\")\n",
    "    )\n",
    "\n",
    "select_when_df.show()"
   ]
  },
  {
   "cell_type": "code",
   "execution_count": 5,
   "id": "c41ac942-58bc-4b82-90a6-0506349588a2",
   "metadata": {},
   "outputs": [
    {
     "name": "stdout",
     "output_type": "stream",
     "text": [
      "+------------+-----------+------------+-----------+-------+----+------------+-------+--------------+------+\n",
      "|fec_alta_fin|cod_titular|fec_alta_ini|actual_date|cod_iuc|diff|cod_producto|calidad|prioridad_alta|activo|\n",
      "+------------+-----------+------------+-----------+-------+----+------------+-------+--------------+------+\n",
      "|  2015-09-07|      00006|  2015-09-01| 2024-02-22|  30009|   6|         900|   alta|            ok|  true|\n",
      "|  2014-02-06|      00006|  2014-02-01| 2024-02-22|  30010|   5|        1000|   alta|            ok|  true|\n",
      "|  2016-07-03|      00001|  2016-07-01| 2024-02-22|  30007|   2|         700|   alta|            ok|  true|\n",
      "|  2016-12-10|      00005|  2016-12-10| 2024-02-22|  30006|   0|         600|  media|          null|  true|\n",
      "+------------+-----------+------------+-----------+-------+----+------------+-------+--------------+------+\n",
      "\n"
     ]
    }
   ],
   "source": [
    "# where / filter\n",
    "select_when_df \\\n",
    "    .filter(f.col(\"activo\").isNotNull()) \\\n",
    "    .filter(~f.col(\"cod_producto\").isin(\"100\", \"200\", \"150\", \"300\")) \\\n",
    "    .where(f.col(\"fec_alta_ini\").between(\"2014-02-01\", \"2018-10-01\")) \\\n",
    "    .where((f.col(\"calidad\") == \"media\") | (f.col(\"cod_titular\").isin(\"00006\", \"00001\"))) \\\n",
    "    .show()"
   ]
  },
  {
   "cell_type": "code",
   "execution_count": 6,
   "id": "b6b93a85-c1f7-4e14-917c-1810848dc6a7",
   "metadata": {},
   "outputs": [],
   "source": [
    "select_when_df \\\n",
    "    .write.mode(\"overwrite\").parquet(\"../../resources/data/parquet/contracts_tmp\")"
   ]
  },
  {
   "cell_type": "code",
   "execution_count": null,
   "id": "7a5561ac-6fef-4c93-92dc-507334cdd822",
   "metadata": {},
   "outputs": [],
   "source": []
  }
 ],
 "metadata": {
  "kernelspec": {
   "display_name": "Python 3 (ipykernel)",
   "language": "python",
   "name": "python3"
  },
  "language_info": {
   "codemirror_mode": {
    "name": "ipython",
    "version": 3
   },
   "file_extension": ".py",
   "mimetype": "text/x-python",
   "name": "python",
   "nbconvert_exporter": "python",
   "pygments_lexer": "ipython3",
   "version": "3.9.13"
  }
 },
 "nbformat": 4,
 "nbformat_minor": 5
}
